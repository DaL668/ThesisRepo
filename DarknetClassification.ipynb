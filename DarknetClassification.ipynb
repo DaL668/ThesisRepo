{
  "nbformat": 4,
  "nbformat_minor": 0,
  "metadata": {
    "colab": {
      "provenance": [],
      "toc_visible": true
    },
    "kernelspec": {
      "name": "python3",
      "display_name": "Python 3"
    },
    "language_info": {
      "name": "python"
    }
  },
  "cells": [
    {
      "cell_type": "code",
      "execution_count": null,
      "metadata": {
        "id": "9ze5bt9IaJm0"
      },
      "outputs": [],
      "source": [
        "import numpy as np\n",
        "import pandas as pd"
      ]
    },
    {
      "cell_type": "code",
      "source": [
        "#Data upload\n",
        "from google.colab import drive\n",
        "drive.mount('/content/gdrive')"
      ],
      "metadata": {
        "colab": {
          "base_uri": "https://localhost:8080/"
        },
        "id": "E2ozmuahqRCv",
        "outputId": "1f2a6130-7b10-494c-c9fb-30b7c25dc499"
      },
      "execution_count": null,
      "outputs": [
        {
          "output_type": "stream",
          "name": "stdout",
          "text": [
            "Mounted at /content/gdrive\n"
          ]
        }
      ]
    },
    {
      "cell_type": "code",
      "source": [
        "!cp /content/gdrive/MyDrive/Darknet.CSV /content/"
      ],
      "metadata": {
        "id": "hh5rAIB0XFrw"
      },
      "execution_count": null,
      "outputs": []
    },
    {
      "cell_type": "code",
      "source": [
        "df = pd.read_csv('/content/Darknet.CSV')\n",
        "df.tail()"
      ],
      "metadata": {
        "colab": {
          "base_uri": "https://localhost:8080/",
          "height": 518
        },
        "id": "0saM7SHmXMsT",
        "outputId": "8dfa71d8-8da1-4e47-d3eb-8c10584ea771"
      },
      "execution_count": null,
      "outputs": [
        {
          "output_type": "execute_result",
          "data": {
            "text/plain": [
              "                                         Flow ID          Src IP  Src Port  \\\n",
              "141525      10.8.8.246-224.0.0.252-55219-5355-17      10.8.8.246     55219   \n",
              "141526      10.8.8.246-224.0.0.252-64207-5355-17      10.8.8.246     64207   \n",
              "141527      10.8.8.246-224.0.0.252-61115-5355-17      10.8.8.246     61115   \n",
              "141528      10.8.8.246-224.0.0.252-64790-5355-17      10.8.8.246     64790   \n",
              "141529  80.239.235.110-10.8.8.246-11666-60245-17  80.239.235.110     11666   \n",
              "\n",
              "             Dst IP  Dst Port  Protocol               Timestamp  \\\n",
              "141525  224.0.0.252      5355        17  22/05/2015 01:55:03 PM   \n",
              "141526  224.0.0.252      5355        17  22/05/2015 02:09:05 PM   \n",
              "141527  224.0.0.252      5355        17  22/05/2015 02:19:31 PM   \n",
              "141528  224.0.0.252      5355        17  22/05/2015 02:29:55 PM   \n",
              "141529   10.8.8.246     60245        17  22/05/2015 02:31:23 PM   \n",
              "\n",
              "        Flow Duration  Total Fwd Packet  Total Bwd packets  ...  Active Mean  \\\n",
              "141525         411806                 2                  0  ...            0   \n",
              "141526         411574                 2                  0  ...            0   \n",
              "141527         422299                 2                  0  ...            0   \n",
              "141528         411855                 2                  0  ...            0   \n",
              "141529      119990044              5995               6000  ...            0   \n",
              "\n",
              "        Active Std  Active Max  Active Min     Idle Mean     Idle Std  \\\n",
              "141525           0           0           0  0.000000e+00         0.00   \n",
              "141526           0           0           0  0.000000e+00         0.00   \n",
              "141527           0           0           0  0.000000e+00         0.00   \n",
              "141528           0           0           0  0.000000e+00         0.00   \n",
              "141529           0           0           0  1.432320e+15  34636892.93   \n",
              "\n",
              "            Idle Max      Idle Min  Label  Label.1  \n",
              "141525  0.000000e+00  0.000000e+00    VPN     VOIP  \n",
              "141526  0.000000e+00  0.000000e+00    VPN     VOIP  \n",
              "141527  0.000000e+00  0.000000e+00    VPN     VOIP  \n",
              "141528  0.000000e+00  0.000000e+00    VPN     VOIP  \n",
              "141529  1.432320e+15  1.432320e+15    VPN     VOIP  \n",
              "\n",
              "[5 rows x 85 columns]"
            ],
            "text/html": [
              "\n",
              "  <div id=\"df-ebc02431-3449-4216-adb7-a063471760da\">\n",
              "    <div class=\"colab-df-container\">\n",
              "      <div>\n",
              "<style scoped>\n",
              "    .dataframe tbody tr th:only-of-type {\n",
              "        vertical-align: middle;\n",
              "    }\n",
              "\n",
              "    .dataframe tbody tr th {\n",
              "        vertical-align: top;\n",
              "    }\n",
              "\n",
              "    .dataframe thead th {\n",
              "        text-align: right;\n",
              "    }\n",
              "</style>\n",
              "<table border=\"1\" class=\"dataframe\">\n",
              "  <thead>\n",
              "    <tr style=\"text-align: right;\">\n",
              "      <th></th>\n",
              "      <th>Flow ID</th>\n",
              "      <th>Src IP</th>\n",
              "      <th>Src Port</th>\n",
              "      <th>Dst IP</th>\n",
              "      <th>Dst Port</th>\n",
              "      <th>Protocol</th>\n",
              "      <th>Timestamp</th>\n",
              "      <th>Flow Duration</th>\n",
              "      <th>Total Fwd Packet</th>\n",
              "      <th>Total Bwd packets</th>\n",
              "      <th>...</th>\n",
              "      <th>Active Mean</th>\n",
              "      <th>Active Std</th>\n",
              "      <th>Active Max</th>\n",
              "      <th>Active Min</th>\n",
              "      <th>Idle Mean</th>\n",
              "      <th>Idle Std</th>\n",
              "      <th>Idle Max</th>\n",
              "      <th>Idle Min</th>\n",
              "      <th>Label</th>\n",
              "      <th>Label.1</th>\n",
              "    </tr>\n",
              "  </thead>\n",
              "  <tbody>\n",
              "    <tr>\n",
              "      <th>141525</th>\n",
              "      <td>10.8.8.246-224.0.0.252-55219-5355-17</td>\n",
              "      <td>10.8.8.246</td>\n",
              "      <td>55219</td>\n",
              "      <td>224.0.0.252</td>\n",
              "      <td>5355</td>\n",
              "      <td>17</td>\n",
              "      <td>22/05/2015 01:55:03 PM</td>\n",
              "      <td>411806</td>\n",
              "      <td>2</td>\n",
              "      <td>0</td>\n",
              "      <td>...</td>\n",
              "      <td>0</td>\n",
              "      <td>0</td>\n",
              "      <td>0</td>\n",
              "      <td>0</td>\n",
              "      <td>0.000000e+00</td>\n",
              "      <td>0.00</td>\n",
              "      <td>0.000000e+00</td>\n",
              "      <td>0.000000e+00</td>\n",
              "      <td>VPN</td>\n",
              "      <td>VOIP</td>\n",
              "    </tr>\n",
              "    <tr>\n",
              "      <th>141526</th>\n",
              "      <td>10.8.8.246-224.0.0.252-64207-5355-17</td>\n",
              "      <td>10.8.8.246</td>\n",
              "      <td>64207</td>\n",
              "      <td>224.0.0.252</td>\n",
              "      <td>5355</td>\n",
              "      <td>17</td>\n",
              "      <td>22/05/2015 02:09:05 PM</td>\n",
              "      <td>411574</td>\n",
              "      <td>2</td>\n",
              "      <td>0</td>\n",
              "      <td>...</td>\n",
              "      <td>0</td>\n",
              "      <td>0</td>\n",
              "      <td>0</td>\n",
              "      <td>0</td>\n",
              "      <td>0.000000e+00</td>\n",
              "      <td>0.00</td>\n",
              "      <td>0.000000e+00</td>\n",
              "      <td>0.000000e+00</td>\n",
              "      <td>VPN</td>\n",
              "      <td>VOIP</td>\n",
              "    </tr>\n",
              "    <tr>\n",
              "      <th>141527</th>\n",
              "      <td>10.8.8.246-224.0.0.252-61115-5355-17</td>\n",
              "      <td>10.8.8.246</td>\n",
              "      <td>61115</td>\n",
              "      <td>224.0.0.252</td>\n",
              "      <td>5355</td>\n",
              "      <td>17</td>\n",
              "      <td>22/05/2015 02:19:31 PM</td>\n",
              "      <td>422299</td>\n",
              "      <td>2</td>\n",
              "      <td>0</td>\n",
              "      <td>...</td>\n",
              "      <td>0</td>\n",
              "      <td>0</td>\n",
              "      <td>0</td>\n",
              "      <td>0</td>\n",
              "      <td>0.000000e+00</td>\n",
              "      <td>0.00</td>\n",
              "      <td>0.000000e+00</td>\n",
              "      <td>0.000000e+00</td>\n",
              "      <td>VPN</td>\n",
              "      <td>VOIP</td>\n",
              "    </tr>\n",
              "    <tr>\n",
              "      <th>141528</th>\n",
              "      <td>10.8.8.246-224.0.0.252-64790-5355-17</td>\n",
              "      <td>10.8.8.246</td>\n",
              "      <td>64790</td>\n",
              "      <td>224.0.0.252</td>\n",
              "      <td>5355</td>\n",
              "      <td>17</td>\n",
              "      <td>22/05/2015 02:29:55 PM</td>\n",
              "      <td>411855</td>\n",
              "      <td>2</td>\n",
              "      <td>0</td>\n",
              "      <td>...</td>\n",
              "      <td>0</td>\n",
              "      <td>0</td>\n",
              "      <td>0</td>\n",
              "      <td>0</td>\n",
              "      <td>0.000000e+00</td>\n",
              "      <td>0.00</td>\n",
              "      <td>0.000000e+00</td>\n",
              "      <td>0.000000e+00</td>\n",
              "      <td>VPN</td>\n",
              "      <td>VOIP</td>\n",
              "    </tr>\n",
              "    <tr>\n",
              "      <th>141529</th>\n",
              "      <td>80.239.235.110-10.8.8.246-11666-60245-17</td>\n",
              "      <td>80.239.235.110</td>\n",
              "      <td>11666</td>\n",
              "      <td>10.8.8.246</td>\n",
              "      <td>60245</td>\n",
              "      <td>17</td>\n",
              "      <td>22/05/2015 02:31:23 PM</td>\n",
              "      <td>119990044</td>\n",
              "      <td>5995</td>\n",
              "      <td>6000</td>\n",
              "      <td>...</td>\n",
              "      <td>0</td>\n",
              "      <td>0</td>\n",
              "      <td>0</td>\n",
              "      <td>0</td>\n",
              "      <td>1.432320e+15</td>\n",
              "      <td>34636892.93</td>\n",
              "      <td>1.432320e+15</td>\n",
              "      <td>1.432320e+15</td>\n",
              "      <td>VPN</td>\n",
              "      <td>VOIP</td>\n",
              "    </tr>\n",
              "  </tbody>\n",
              "</table>\n",
              "<p>5 rows × 85 columns</p>\n",
              "</div>\n",
              "      <button class=\"colab-df-convert\" onclick=\"convertToInteractive('df-ebc02431-3449-4216-adb7-a063471760da')\"\n",
              "              title=\"Convert this dataframe to an interactive table.\"\n",
              "              style=\"display:none;\">\n",
              "        \n",
              "  <svg xmlns=\"http://www.w3.org/2000/svg\" height=\"24px\"viewBox=\"0 0 24 24\"\n",
              "       width=\"24px\">\n",
              "    <path d=\"M0 0h24v24H0V0z\" fill=\"none\"/>\n",
              "    <path d=\"M18.56 5.44l.94 2.06.94-2.06 2.06-.94-2.06-.94-.94-2.06-.94 2.06-2.06.94zm-11 1L8.5 8.5l.94-2.06 2.06-.94-2.06-.94L8.5 2.5l-.94 2.06-2.06.94zm10 10l.94 2.06.94-2.06 2.06-.94-2.06-.94-.94-2.06-.94 2.06-2.06.94z\"/><path d=\"M17.41 7.96l-1.37-1.37c-.4-.4-.92-.59-1.43-.59-.52 0-1.04.2-1.43.59L10.3 9.45l-7.72 7.72c-.78.78-.78 2.05 0 2.83L4 21.41c.39.39.9.59 1.41.59.51 0 1.02-.2 1.41-.59l7.78-7.78 2.81-2.81c.8-.78.8-2.07 0-2.86zM5.41 20L4 18.59l7.72-7.72 1.47 1.35L5.41 20z\"/>\n",
              "  </svg>\n",
              "      </button>\n",
              "      \n",
              "  <style>\n",
              "    .colab-df-container {\n",
              "      display:flex;\n",
              "      flex-wrap:wrap;\n",
              "      gap: 12px;\n",
              "    }\n",
              "\n",
              "    .colab-df-convert {\n",
              "      background-color: #E8F0FE;\n",
              "      border: none;\n",
              "      border-radius: 50%;\n",
              "      cursor: pointer;\n",
              "      display: none;\n",
              "      fill: #1967D2;\n",
              "      height: 32px;\n",
              "      padding: 0 0 0 0;\n",
              "      width: 32px;\n",
              "    }\n",
              "\n",
              "    .colab-df-convert:hover {\n",
              "      background-color: #E2EBFA;\n",
              "      box-shadow: 0px 1px 2px rgba(60, 64, 67, 0.3), 0px 1px 3px 1px rgba(60, 64, 67, 0.15);\n",
              "      fill: #174EA6;\n",
              "    }\n",
              "\n",
              "    [theme=dark] .colab-df-convert {\n",
              "      background-color: #3B4455;\n",
              "      fill: #D2E3FC;\n",
              "    }\n",
              "\n",
              "    [theme=dark] .colab-df-convert:hover {\n",
              "      background-color: #434B5C;\n",
              "      box-shadow: 0px 1px 3px 1px rgba(0, 0, 0, 0.15);\n",
              "      filter: drop-shadow(0px 1px 2px rgba(0, 0, 0, 0.3));\n",
              "      fill: #FFFFFF;\n",
              "    }\n",
              "  </style>\n",
              "\n",
              "      <script>\n",
              "        const buttonEl =\n",
              "          document.querySelector('#df-ebc02431-3449-4216-adb7-a063471760da button.colab-df-convert');\n",
              "        buttonEl.style.display =\n",
              "          google.colab.kernel.accessAllowed ? 'block' : 'none';\n",
              "\n",
              "        async function convertToInteractive(key) {\n",
              "          const element = document.querySelector('#df-ebc02431-3449-4216-adb7-a063471760da');\n",
              "          const dataTable =\n",
              "            await google.colab.kernel.invokeFunction('convertToInteractive',\n",
              "                                                     [key], {});\n",
              "          if (!dataTable) return;\n",
              "\n",
              "          const docLinkHtml = 'Like what you see? Visit the ' +\n",
              "            '<a target=\"_blank\" href=https://colab.research.google.com/notebooks/data_table.ipynb>data table notebook</a>'\n",
              "            + ' to learn more about interactive tables.';\n",
              "          element.innerHTML = '';\n",
              "          dataTable['output_type'] = 'display_data';\n",
              "          await google.colab.output.renderOutput(dataTable, element);\n",
              "          const docLink = document.createElement('div');\n",
              "          docLink.innerHTML = docLinkHtml;\n",
              "          element.appendChild(docLink);\n",
              "        }\n",
              "      </script>\n",
              "    </div>\n",
              "  </div>\n",
              "  "
            ]
          },
          "metadata": {},
          "execution_count": 4
        }
      ]
    },
    {
      "cell_type": "code",
      "source": [
        "print(len(df))\n",
        "print(len(df.columns))"
      ],
      "metadata": {
        "colab": {
          "base_uri": "https://localhost:8080/"
        },
        "id": "HCZe7wCPq7AT",
        "outputId": "962c89f8-77a3-4a45-c8ec-1d728714d16e"
      },
      "execution_count": null,
      "outputs": [
        {
          "output_type": "stream",
          "name": "stdout",
          "text": [
            "141530\n",
            "85\n"
          ]
        }
      ]
    },
    {
      "cell_type": "markdown",
      "source": [
        "# Preprocessing"
      ],
      "metadata": {
        "id": "jBagmr9vMvbG"
      }
    },
    {
      "cell_type": "markdown",
      "source": [
        "## Drop"
      ],
      "metadata": {
        "id": "OU7g8LKCMyvC"
      }
    },
    {
      "cell_type": "code",
      "source": [
        "# Data cleaning: drop irrelevant features or outliners\n",
        "df=df.dropna() #drop rows with nan numbers\n",
        "df.replace([np.inf, -np.inf], 0, inplace=True) # replace inf with zero\n",
        "df.columns[(df == 0).all()] # Check if there are any columns whose elements are all zeros\n",
        "df=df.loc[:, (df != 0).any(axis=0)]\n",
        "df=df.drop(['Flow ID', 'Timestamp'], axis=1)\n",
        "df.tail()\n",
        "#17 features are dropped"
      ],
      "metadata": {
        "colab": {
          "base_uri": "https://localhost:8080/",
          "height": 348
        },
        "id": "npmpGB1jDwMm",
        "outputId": "a6f87fb4-d825-41e1-9d8a-272fb4ee35d5"
      },
      "execution_count": null,
      "outputs": [
        {
          "output_type": "execute_result",
          "data": {
            "text/plain": [
              "                Src IP  Src Port       Dst IP  Dst Port  Protocol  \\\n",
              "141525      10.8.8.246     55219  224.0.0.252      5355        17   \n",
              "141526      10.8.8.246     64207  224.0.0.252      5355        17   \n",
              "141527      10.8.8.246     61115  224.0.0.252      5355        17   \n",
              "141528      10.8.8.246     64790  224.0.0.252      5355        17   \n",
              "141529  80.239.235.110     11666   10.8.8.246     60245        17   \n",
              "\n",
              "        Flow Duration  Total Fwd Packet  Total Bwd packets  \\\n",
              "141525         411806                 2                  0   \n",
              "141526         411574                 2                  0   \n",
              "141527         422299                 2                  0   \n",
              "141528         411855                 2                  0   \n",
              "141529      119990044              5995               6000   \n",
              "\n",
              "        Total Length of Fwd Packet  Total Length of Bwd Packet  ...  \\\n",
              "141525                          44                           0  ...   \n",
              "141526                          44                           0  ...   \n",
              "141527                          44                           0  ...   \n",
              "141528                          44                           0  ...   \n",
              "141529                      497585                      498000  ...   \n",
              "\n",
              "        FWD Init Win Bytes  Bwd Init Win Bytes  Fwd Act Data Pkts  \\\n",
              "141525                   0                   0                  1   \n",
              "141526                   0                   0                  1   \n",
              "141527                   0                   0                  1   \n",
              "141528                   0                   0                  1   \n",
              "141529                   0                   0               5994   \n",
              "\n",
              "        Fwd Seg Size Min     Idle Mean     Idle Std      Idle Max  \\\n",
              "141525                 8  0.000000e+00         0.00  0.000000e+00   \n",
              "141526                 8  0.000000e+00         0.00  0.000000e+00   \n",
              "141527                 8  0.000000e+00         0.00  0.000000e+00   \n",
              "141528                 8  0.000000e+00         0.00  0.000000e+00   \n",
              "141529                 8  1.432320e+15  34636892.93  1.432320e+15   \n",
              "\n",
              "            Idle Min  Label  Label.1  \n",
              "141525  0.000000e+00    VPN     VOIP  \n",
              "141526  0.000000e+00    VPN     VOIP  \n",
              "141527  0.000000e+00    VPN     VOIP  \n",
              "141528  0.000000e+00    VPN     VOIP  \n",
              "141529  1.432320e+15    VPN     VOIP  \n",
              "\n",
              "[5 rows x 68 columns]"
            ],
            "text/html": [
              "\n",
              "  <div id=\"df-e9adb174-52d9-4618-ac12-74ae28390741\">\n",
              "    <div class=\"colab-df-container\">\n",
              "      <div>\n",
              "<style scoped>\n",
              "    .dataframe tbody tr th:only-of-type {\n",
              "        vertical-align: middle;\n",
              "    }\n",
              "\n",
              "    .dataframe tbody tr th {\n",
              "        vertical-align: top;\n",
              "    }\n",
              "\n",
              "    .dataframe thead th {\n",
              "        text-align: right;\n",
              "    }\n",
              "</style>\n",
              "<table border=\"1\" class=\"dataframe\">\n",
              "  <thead>\n",
              "    <tr style=\"text-align: right;\">\n",
              "      <th></th>\n",
              "      <th>Src IP</th>\n",
              "      <th>Src Port</th>\n",
              "      <th>Dst IP</th>\n",
              "      <th>Dst Port</th>\n",
              "      <th>Protocol</th>\n",
              "      <th>Flow Duration</th>\n",
              "      <th>Total Fwd Packet</th>\n",
              "      <th>Total Bwd packets</th>\n",
              "      <th>Total Length of Fwd Packet</th>\n",
              "      <th>Total Length of Bwd Packet</th>\n",
              "      <th>...</th>\n",
              "      <th>FWD Init Win Bytes</th>\n",
              "      <th>Bwd Init Win Bytes</th>\n",
              "      <th>Fwd Act Data Pkts</th>\n",
              "      <th>Fwd Seg Size Min</th>\n",
              "      <th>Idle Mean</th>\n",
              "      <th>Idle Std</th>\n",
              "      <th>Idle Max</th>\n",
              "      <th>Idle Min</th>\n",
              "      <th>Label</th>\n",
              "      <th>Label.1</th>\n",
              "    </tr>\n",
              "  </thead>\n",
              "  <tbody>\n",
              "    <tr>\n",
              "      <th>141525</th>\n",
              "      <td>10.8.8.246</td>\n",
              "      <td>55219</td>\n",
              "      <td>224.0.0.252</td>\n",
              "      <td>5355</td>\n",
              "      <td>17</td>\n",
              "      <td>411806</td>\n",
              "      <td>2</td>\n",
              "      <td>0</td>\n",
              "      <td>44</td>\n",
              "      <td>0</td>\n",
              "      <td>...</td>\n",
              "      <td>0</td>\n",
              "      <td>0</td>\n",
              "      <td>1</td>\n",
              "      <td>8</td>\n",
              "      <td>0.000000e+00</td>\n",
              "      <td>0.00</td>\n",
              "      <td>0.000000e+00</td>\n",
              "      <td>0.000000e+00</td>\n",
              "      <td>VPN</td>\n",
              "      <td>VOIP</td>\n",
              "    </tr>\n",
              "    <tr>\n",
              "      <th>141526</th>\n",
              "      <td>10.8.8.246</td>\n",
              "      <td>64207</td>\n",
              "      <td>224.0.0.252</td>\n",
              "      <td>5355</td>\n",
              "      <td>17</td>\n",
              "      <td>411574</td>\n",
              "      <td>2</td>\n",
              "      <td>0</td>\n",
              "      <td>44</td>\n",
              "      <td>0</td>\n",
              "      <td>...</td>\n",
              "      <td>0</td>\n",
              "      <td>0</td>\n",
              "      <td>1</td>\n",
              "      <td>8</td>\n",
              "      <td>0.000000e+00</td>\n",
              "      <td>0.00</td>\n",
              "      <td>0.000000e+00</td>\n",
              "      <td>0.000000e+00</td>\n",
              "      <td>VPN</td>\n",
              "      <td>VOIP</td>\n",
              "    </tr>\n",
              "    <tr>\n",
              "      <th>141527</th>\n",
              "      <td>10.8.8.246</td>\n",
              "      <td>61115</td>\n",
              "      <td>224.0.0.252</td>\n",
              "      <td>5355</td>\n",
              "      <td>17</td>\n",
              "      <td>422299</td>\n",
              "      <td>2</td>\n",
              "      <td>0</td>\n",
              "      <td>44</td>\n",
              "      <td>0</td>\n",
              "      <td>...</td>\n",
              "      <td>0</td>\n",
              "      <td>0</td>\n",
              "      <td>1</td>\n",
              "      <td>8</td>\n",
              "      <td>0.000000e+00</td>\n",
              "      <td>0.00</td>\n",
              "      <td>0.000000e+00</td>\n",
              "      <td>0.000000e+00</td>\n",
              "      <td>VPN</td>\n",
              "      <td>VOIP</td>\n",
              "    </tr>\n",
              "    <tr>\n",
              "      <th>141528</th>\n",
              "      <td>10.8.8.246</td>\n",
              "      <td>64790</td>\n",
              "      <td>224.0.0.252</td>\n",
              "      <td>5355</td>\n",
              "      <td>17</td>\n",
              "      <td>411855</td>\n",
              "      <td>2</td>\n",
              "      <td>0</td>\n",
              "      <td>44</td>\n",
              "      <td>0</td>\n",
              "      <td>...</td>\n",
              "      <td>0</td>\n",
              "      <td>0</td>\n",
              "      <td>1</td>\n",
              "      <td>8</td>\n",
              "      <td>0.000000e+00</td>\n",
              "      <td>0.00</td>\n",
              "      <td>0.000000e+00</td>\n",
              "      <td>0.000000e+00</td>\n",
              "      <td>VPN</td>\n",
              "      <td>VOIP</td>\n",
              "    </tr>\n",
              "    <tr>\n",
              "      <th>141529</th>\n",
              "      <td>80.239.235.110</td>\n",
              "      <td>11666</td>\n",
              "      <td>10.8.8.246</td>\n",
              "      <td>60245</td>\n",
              "      <td>17</td>\n",
              "      <td>119990044</td>\n",
              "      <td>5995</td>\n",
              "      <td>6000</td>\n",
              "      <td>497585</td>\n",
              "      <td>498000</td>\n",
              "      <td>...</td>\n",
              "      <td>0</td>\n",
              "      <td>0</td>\n",
              "      <td>5994</td>\n",
              "      <td>8</td>\n",
              "      <td>1.432320e+15</td>\n",
              "      <td>34636892.93</td>\n",
              "      <td>1.432320e+15</td>\n",
              "      <td>1.432320e+15</td>\n",
              "      <td>VPN</td>\n",
              "      <td>VOIP</td>\n",
              "    </tr>\n",
              "  </tbody>\n",
              "</table>\n",
              "<p>5 rows × 68 columns</p>\n",
              "</div>\n",
              "      <button class=\"colab-df-convert\" onclick=\"convertToInteractive('df-e9adb174-52d9-4618-ac12-74ae28390741')\"\n",
              "              title=\"Convert this dataframe to an interactive table.\"\n",
              "              style=\"display:none;\">\n",
              "        \n",
              "  <svg xmlns=\"http://www.w3.org/2000/svg\" height=\"24px\"viewBox=\"0 0 24 24\"\n",
              "       width=\"24px\">\n",
              "    <path d=\"M0 0h24v24H0V0z\" fill=\"none\"/>\n",
              "    <path d=\"M18.56 5.44l.94 2.06.94-2.06 2.06-.94-2.06-.94-.94-2.06-.94 2.06-2.06.94zm-11 1L8.5 8.5l.94-2.06 2.06-.94-2.06-.94L8.5 2.5l-.94 2.06-2.06.94zm10 10l.94 2.06.94-2.06 2.06-.94-2.06-.94-.94-2.06-.94 2.06-2.06.94z\"/><path d=\"M17.41 7.96l-1.37-1.37c-.4-.4-.92-.59-1.43-.59-.52 0-1.04.2-1.43.59L10.3 9.45l-7.72 7.72c-.78.78-.78 2.05 0 2.83L4 21.41c.39.39.9.59 1.41.59.51 0 1.02-.2 1.41-.59l7.78-7.78 2.81-2.81c.8-.78.8-2.07 0-2.86zM5.41 20L4 18.59l7.72-7.72 1.47 1.35L5.41 20z\"/>\n",
              "  </svg>\n",
              "      </button>\n",
              "      \n",
              "  <style>\n",
              "    .colab-df-container {\n",
              "      display:flex;\n",
              "      flex-wrap:wrap;\n",
              "      gap: 12px;\n",
              "    }\n",
              "\n",
              "    .colab-df-convert {\n",
              "      background-color: #E8F0FE;\n",
              "      border: none;\n",
              "      border-radius: 50%;\n",
              "      cursor: pointer;\n",
              "      display: none;\n",
              "      fill: #1967D2;\n",
              "      height: 32px;\n",
              "      padding: 0 0 0 0;\n",
              "      width: 32px;\n",
              "    }\n",
              "\n",
              "    .colab-df-convert:hover {\n",
              "      background-color: #E2EBFA;\n",
              "      box-shadow: 0px 1px 2px rgba(60, 64, 67, 0.3), 0px 1px 3px 1px rgba(60, 64, 67, 0.15);\n",
              "      fill: #174EA6;\n",
              "    }\n",
              "\n",
              "    [theme=dark] .colab-df-convert {\n",
              "      background-color: #3B4455;\n",
              "      fill: #D2E3FC;\n",
              "    }\n",
              "\n",
              "    [theme=dark] .colab-df-convert:hover {\n",
              "      background-color: #434B5C;\n",
              "      box-shadow: 0px 1px 3px 1px rgba(0, 0, 0, 0.15);\n",
              "      filter: drop-shadow(0px 1px 2px rgba(0, 0, 0, 0.3));\n",
              "      fill: #FFFFFF;\n",
              "    }\n",
              "  </style>\n",
              "\n",
              "      <script>\n",
              "        const buttonEl =\n",
              "          document.querySelector('#df-e9adb174-52d9-4618-ac12-74ae28390741 button.colab-df-convert');\n",
              "        buttonEl.style.display =\n",
              "          google.colab.kernel.accessAllowed ? 'block' : 'none';\n",
              "\n",
              "        async function convertToInteractive(key) {\n",
              "          const element = document.querySelector('#df-e9adb174-52d9-4618-ac12-74ae28390741');\n",
              "          const dataTable =\n",
              "            await google.colab.kernel.invokeFunction('convertToInteractive',\n",
              "                                                     [key], {});\n",
              "          if (!dataTable) return;\n",
              "\n",
              "          const docLinkHtml = 'Like what you see? Visit the ' +\n",
              "            '<a target=\"_blank\" href=https://colab.research.google.com/notebooks/data_table.ipynb>data table notebook</a>'\n",
              "            + ' to learn more about interactive tables.';\n",
              "          element.innerHTML = '';\n",
              "          dataTable['output_type'] = 'display_data';\n",
              "          await google.colab.output.renderOutput(dataTable, element);\n",
              "          const docLink = document.createElement('div');\n",
              "          docLink.innerHTML = docLinkHtml;\n",
              "          element.appendChild(docLink);\n",
              "        }\n",
              "      </script>\n",
              "    </div>\n",
              "  </div>\n",
              "  "
            ]
          },
          "metadata": {},
          "execution_count": 5
        }
      ]
    },
    {
      "cell_type": "code",
      "source": [
        "df.to_csv('data.csv')"
      ],
      "metadata": {
        "id": "sl_h6h2YReK9"
      },
      "execution_count": null,
      "outputs": []
    },
    {
      "cell_type": "code",
      "source": [
        "cols = df.columns.tolist()\n",
        "cols = cols[-1:] + cols[:-1]\n",
        "df=df[cols]\n",
        "df.head()"
      ],
      "metadata": {
        "id": "CqfXCRpRPckE",
        "colab": {
          "base_uri": "https://localhost:8080/",
          "height": 433
        },
        "outputId": "e3385ded-66f6-411c-f3b5-1ea3d4dadffa"
      },
      "execution_count": null,
      "outputs": [
        {
          "output_type": "execute_result",
          "data": {
            "text/plain": [
              "           Label.1         Src IP  Src Port          Dst IP  Dst Port  \\\n",
              "0  AUDIO-STREAMING  10.152.152.11     57158   216.58.220.99       443   \n",
              "1  AUDIO-STREAMING  10.152.152.11     57159   216.58.220.99       443   \n",
              "2  AUDIO-STREAMING  10.152.152.11     57160   216.58.220.99       443   \n",
              "3  AUDIO-STREAMING  10.152.152.11     49134  74.125.136.120       443   \n",
              "4  AUDIO-STREAMING  10.152.152.11     34697  173.194.65.127     19305   \n",
              "\n",
              "   Protocol  Flow Duration  Total Fwd Packet  Total Bwd packets  \\\n",
              "0         6            229                 1                  1   \n",
              "1         6            407                 1                  1   \n",
              "2         6            431                 1                  1   \n",
              "3         6            359                 1                  1   \n",
              "4         6       10778451               591                400   \n",
              "\n",
              "   Total Length of Fwd Packet  ...  Subflow Bwd Bytes  FWD Init Win Bytes  \\\n",
              "0                           0  ...                  0                1892   \n",
              "1                           0  ...                  0                1987   \n",
              "2                           0  ...                  0                2049   \n",
              "3                           0  ...                  0                2008   \n",
              "4                       64530  ...                  6                1382   \n",
              "\n",
              "   Bwd Init Win Bytes  Fwd Act Data Pkts  Fwd Seg Size Min     Idle Mean  \\\n",
              "0                1047                  0                20  0.000000e+00   \n",
              "1                1047                  0                20  0.000000e+00   \n",
              "2                1047                  0                20  0.000000e+00   \n",
              "3                1047                  0                20  0.000000e+00   \n",
              "4                2320                581                20  1.437760e+15   \n",
              "\n",
              "      Idle Std      Idle Max      Idle Min    Label  \n",
              "0        0.000  0.000000e+00  0.000000e+00  Non-Tor  \n",
              "1        0.000  0.000000e+00  0.000000e+00  Non-Tor  \n",
              "2        0.000  0.000000e+00  0.000000e+00  Non-Tor  \n",
              "3        0.000  0.000000e+00  0.000000e+00  Non-Tor  \n",
              "4  3117718.131  1.437760e+15  1.437760e+15  Non-Tor  \n",
              "\n",
              "[5 rows x 68 columns]"
            ],
            "text/html": [
              "\n",
              "  <div id=\"df-792fd8cb-5b9e-4033-9c61-4ce6501a74a5\">\n",
              "    <div class=\"colab-df-container\">\n",
              "      <div>\n",
              "<style scoped>\n",
              "    .dataframe tbody tr th:only-of-type {\n",
              "        vertical-align: middle;\n",
              "    }\n",
              "\n",
              "    .dataframe tbody tr th {\n",
              "        vertical-align: top;\n",
              "    }\n",
              "\n",
              "    .dataframe thead th {\n",
              "        text-align: right;\n",
              "    }\n",
              "</style>\n",
              "<table border=\"1\" class=\"dataframe\">\n",
              "  <thead>\n",
              "    <tr style=\"text-align: right;\">\n",
              "      <th></th>\n",
              "      <th>Label.1</th>\n",
              "      <th>Src IP</th>\n",
              "      <th>Src Port</th>\n",
              "      <th>Dst IP</th>\n",
              "      <th>Dst Port</th>\n",
              "      <th>Protocol</th>\n",
              "      <th>Flow Duration</th>\n",
              "      <th>Total Fwd Packet</th>\n",
              "      <th>Total Bwd packets</th>\n",
              "      <th>Total Length of Fwd Packet</th>\n",
              "      <th>...</th>\n",
              "      <th>Subflow Bwd Bytes</th>\n",
              "      <th>FWD Init Win Bytes</th>\n",
              "      <th>Bwd Init Win Bytes</th>\n",
              "      <th>Fwd Act Data Pkts</th>\n",
              "      <th>Fwd Seg Size Min</th>\n",
              "      <th>Idle Mean</th>\n",
              "      <th>Idle Std</th>\n",
              "      <th>Idle Max</th>\n",
              "      <th>Idle Min</th>\n",
              "      <th>Label</th>\n",
              "    </tr>\n",
              "  </thead>\n",
              "  <tbody>\n",
              "    <tr>\n",
              "      <th>0</th>\n",
              "      <td>AUDIO-STREAMING</td>\n",
              "      <td>10.152.152.11</td>\n",
              "      <td>57158</td>\n",
              "      <td>216.58.220.99</td>\n",
              "      <td>443</td>\n",
              "      <td>6</td>\n",
              "      <td>229</td>\n",
              "      <td>1</td>\n",
              "      <td>1</td>\n",
              "      <td>0</td>\n",
              "      <td>...</td>\n",
              "      <td>0</td>\n",
              "      <td>1892</td>\n",
              "      <td>1047</td>\n",
              "      <td>0</td>\n",
              "      <td>20</td>\n",
              "      <td>0.000000e+00</td>\n",
              "      <td>0.000</td>\n",
              "      <td>0.000000e+00</td>\n",
              "      <td>0.000000e+00</td>\n",
              "      <td>Non-Tor</td>\n",
              "    </tr>\n",
              "    <tr>\n",
              "      <th>1</th>\n",
              "      <td>AUDIO-STREAMING</td>\n",
              "      <td>10.152.152.11</td>\n",
              "      <td>57159</td>\n",
              "      <td>216.58.220.99</td>\n",
              "      <td>443</td>\n",
              "      <td>6</td>\n",
              "      <td>407</td>\n",
              "      <td>1</td>\n",
              "      <td>1</td>\n",
              "      <td>0</td>\n",
              "      <td>...</td>\n",
              "      <td>0</td>\n",
              "      <td>1987</td>\n",
              "      <td>1047</td>\n",
              "      <td>0</td>\n",
              "      <td>20</td>\n",
              "      <td>0.000000e+00</td>\n",
              "      <td>0.000</td>\n",
              "      <td>0.000000e+00</td>\n",
              "      <td>0.000000e+00</td>\n",
              "      <td>Non-Tor</td>\n",
              "    </tr>\n",
              "    <tr>\n",
              "      <th>2</th>\n",
              "      <td>AUDIO-STREAMING</td>\n",
              "      <td>10.152.152.11</td>\n",
              "      <td>57160</td>\n",
              "      <td>216.58.220.99</td>\n",
              "      <td>443</td>\n",
              "      <td>6</td>\n",
              "      <td>431</td>\n",
              "      <td>1</td>\n",
              "      <td>1</td>\n",
              "      <td>0</td>\n",
              "      <td>...</td>\n",
              "      <td>0</td>\n",
              "      <td>2049</td>\n",
              "      <td>1047</td>\n",
              "      <td>0</td>\n",
              "      <td>20</td>\n",
              "      <td>0.000000e+00</td>\n",
              "      <td>0.000</td>\n",
              "      <td>0.000000e+00</td>\n",
              "      <td>0.000000e+00</td>\n",
              "      <td>Non-Tor</td>\n",
              "    </tr>\n",
              "    <tr>\n",
              "      <th>3</th>\n",
              "      <td>AUDIO-STREAMING</td>\n",
              "      <td>10.152.152.11</td>\n",
              "      <td>49134</td>\n",
              "      <td>74.125.136.120</td>\n",
              "      <td>443</td>\n",
              "      <td>6</td>\n",
              "      <td>359</td>\n",
              "      <td>1</td>\n",
              "      <td>1</td>\n",
              "      <td>0</td>\n",
              "      <td>...</td>\n",
              "      <td>0</td>\n",
              "      <td>2008</td>\n",
              "      <td>1047</td>\n",
              "      <td>0</td>\n",
              "      <td>20</td>\n",
              "      <td>0.000000e+00</td>\n",
              "      <td>0.000</td>\n",
              "      <td>0.000000e+00</td>\n",
              "      <td>0.000000e+00</td>\n",
              "      <td>Non-Tor</td>\n",
              "    </tr>\n",
              "    <tr>\n",
              "      <th>4</th>\n",
              "      <td>AUDIO-STREAMING</td>\n",
              "      <td>10.152.152.11</td>\n",
              "      <td>34697</td>\n",
              "      <td>173.194.65.127</td>\n",
              "      <td>19305</td>\n",
              "      <td>6</td>\n",
              "      <td>10778451</td>\n",
              "      <td>591</td>\n",
              "      <td>400</td>\n",
              "      <td>64530</td>\n",
              "      <td>...</td>\n",
              "      <td>6</td>\n",
              "      <td>1382</td>\n",
              "      <td>2320</td>\n",
              "      <td>581</td>\n",
              "      <td>20</td>\n",
              "      <td>1.437760e+15</td>\n",
              "      <td>3117718.131</td>\n",
              "      <td>1.437760e+15</td>\n",
              "      <td>1.437760e+15</td>\n",
              "      <td>Non-Tor</td>\n",
              "    </tr>\n",
              "  </tbody>\n",
              "</table>\n",
              "<p>5 rows × 68 columns</p>\n",
              "</div>\n",
              "      <button class=\"colab-df-convert\" onclick=\"convertToInteractive('df-792fd8cb-5b9e-4033-9c61-4ce6501a74a5')\"\n",
              "              title=\"Convert this dataframe to an interactive table.\"\n",
              "              style=\"display:none;\">\n",
              "        \n",
              "  <svg xmlns=\"http://www.w3.org/2000/svg\" height=\"24px\"viewBox=\"0 0 24 24\"\n",
              "       width=\"24px\">\n",
              "    <path d=\"M0 0h24v24H0V0z\" fill=\"none\"/>\n",
              "    <path d=\"M18.56 5.44l.94 2.06.94-2.06 2.06-.94-2.06-.94-.94-2.06-.94 2.06-2.06.94zm-11 1L8.5 8.5l.94-2.06 2.06-.94-2.06-.94L8.5 2.5l-.94 2.06-2.06.94zm10 10l.94 2.06.94-2.06 2.06-.94-2.06-.94-.94-2.06-.94 2.06-2.06.94z\"/><path d=\"M17.41 7.96l-1.37-1.37c-.4-.4-.92-.59-1.43-.59-.52 0-1.04.2-1.43.59L10.3 9.45l-7.72 7.72c-.78.78-.78 2.05 0 2.83L4 21.41c.39.39.9.59 1.41.59.51 0 1.02-.2 1.41-.59l7.78-7.78 2.81-2.81c.8-.78.8-2.07 0-2.86zM5.41 20L4 18.59l7.72-7.72 1.47 1.35L5.41 20z\"/>\n",
              "  </svg>\n",
              "      </button>\n",
              "      \n",
              "  <style>\n",
              "    .colab-df-container {\n",
              "      display:flex;\n",
              "      flex-wrap:wrap;\n",
              "      gap: 12px;\n",
              "    }\n",
              "\n",
              "    .colab-df-convert {\n",
              "      background-color: #E8F0FE;\n",
              "      border: none;\n",
              "      border-radius: 50%;\n",
              "      cursor: pointer;\n",
              "      display: none;\n",
              "      fill: #1967D2;\n",
              "      height: 32px;\n",
              "      padding: 0 0 0 0;\n",
              "      width: 32px;\n",
              "    }\n",
              "\n",
              "    .colab-df-convert:hover {\n",
              "      background-color: #E2EBFA;\n",
              "      box-shadow: 0px 1px 2px rgba(60, 64, 67, 0.3), 0px 1px 3px 1px rgba(60, 64, 67, 0.15);\n",
              "      fill: #174EA6;\n",
              "    }\n",
              "\n",
              "    [theme=dark] .colab-df-convert {\n",
              "      background-color: #3B4455;\n",
              "      fill: #D2E3FC;\n",
              "    }\n",
              "\n",
              "    [theme=dark] .colab-df-convert:hover {\n",
              "      background-color: #434B5C;\n",
              "      box-shadow: 0px 1px 3px 1px rgba(0, 0, 0, 0.15);\n",
              "      filter: drop-shadow(0px 1px 2px rgba(0, 0, 0, 0.3));\n",
              "      fill: #FFFFFF;\n",
              "    }\n",
              "  </style>\n",
              "\n",
              "      <script>\n",
              "        const buttonEl =\n",
              "          document.querySelector('#df-792fd8cb-5b9e-4033-9c61-4ce6501a74a5 button.colab-df-convert');\n",
              "        buttonEl.style.display =\n",
              "          google.colab.kernel.accessAllowed ? 'block' : 'none';\n",
              "\n",
              "        async function convertToInteractive(key) {\n",
              "          const element = document.querySelector('#df-792fd8cb-5b9e-4033-9c61-4ce6501a74a5');\n",
              "          const dataTable =\n",
              "            await google.colab.kernel.invokeFunction('convertToInteractive',\n",
              "                                                     [key], {});\n",
              "          if (!dataTable) return;\n",
              "\n",
              "          const docLinkHtml = 'Like what you see? Visit the ' +\n",
              "            '<a target=\"_blank\" href=https://colab.research.google.com/notebooks/data_table.ipynb>data table notebook</a>'\n",
              "            + ' to learn more about interactive tables.';\n",
              "          element.innerHTML = '';\n",
              "          dataTable['output_type'] = 'display_data';\n",
              "          await google.colab.output.renderOutput(dataTable, element);\n",
              "          const docLink = document.createElement('div');\n",
              "          docLink.innerHTML = docLinkHtml;\n",
              "          element.appendChild(docLink);\n",
              "        }\n",
              "      </script>\n",
              "    </div>\n",
              "  </div>\n",
              "  "
            ]
          },
          "metadata": {},
          "execution_count": 69
        }
      ]
    },
    {
      "cell_type": "markdown",
      "source": [
        "## extract regular traffic"
      ],
      "metadata": {
        "id": "kza43fANM3oq"
      }
    },
    {
      "cell_type": "code",
      "source": [
        "regular=df.loc[df['Label'] == 'NonVPN']\n",
        "len(regular)\n",
        "#23861 non vpn samples"
      ],
      "metadata": {
        "id": "qmVJIJLgBOaC",
        "colab": {
          "base_uri": "https://localhost:8080/"
        },
        "outputId": "b54001cc-e773-4da3-b741-62a9a333734a"
      },
      "execution_count": null,
      "outputs": [
        {
          "output_type": "execute_result",
          "data": {
            "text/plain": [
              "23861"
            ]
          },
          "metadata": {},
          "execution_count": 6
        }
      ]
    },
    {
      "cell_type": "code",
      "source": [
        "regular.to_csv('nonvpn.csv')"
      ],
      "metadata": {
        "id": "nLQDChQoVn6a"
      },
      "execution_count": null,
      "outputs": []
    },
    {
      "cell_type": "code",
      "source": [
        "Total = regular['Total Fwd Packet'].sum()"
      ],
      "metadata": {
        "id": "1Rst0i5Xb5Gm"
      },
      "execution_count": null,
      "outputs": []
    },
    {
      "cell_type": "code",
      "source": [
        "print(Total)"
      ],
      "metadata": {
        "colab": {
          "base_uri": "https://localhost:8080/"
        },
        "id": "l_BnOJ0QcjWT",
        "outputId": "8c68312e-99c4-4fa5-c901-106b2f6c53ec"
      },
      "execution_count": null,
      "outputs": [
        {
          "output_type": "stream",
          "name": "stdout",
          "text": [
            "5639844\n"
          ]
        }
      ]
    },
    {
      "cell_type": "code",
      "source": [
        "#regular.to_csv('data.csv') //non-vpn"
      ],
      "metadata": {
        "id": "av4mdIwUNBnK"
      },
      "execution_count": null,
      "outputs": []
    },
    {
      "cell_type": "code",
      "source": [
        "regular2=df.loc[df['Label'] == 'Non-Tor']\n",
        "len(regular2)\n",
        "#93311 non tor samples"
      ],
      "metadata": {
        "colab": {
          "base_uri": "https://localhost:8080/"
        },
        "id": "3hRXecsVLEiu",
        "outputId": "58772731-2082-4d29-bae3-b6b735dbadec"
      },
      "execution_count": null,
      "outputs": [
        {
          "output_type": "execute_result",
          "data": {
            "text/plain": [
              "93311"
            ]
          },
          "metadata": {},
          "execution_count": 11
        }
      ]
    },
    {
      "cell_type": "code",
      "source": [
        "Total = regular2['Total Fwd Packet'].sum()\n",
        "print(Total)"
      ],
      "metadata": {
        "colab": {
          "base_uri": "https://localhost:8080/"
        },
        "id": "LVJxdZjQctJ7",
        "outputId": "c3d437ec-41f0-4408-b256-910cfb4df752"
      },
      "execution_count": null,
      "outputs": [
        {
          "output_type": "stream",
          "name": "stdout",
          "text": [
            "5228840\n"
          ]
        }
      ]
    },
    {
      "cell_type": "code",
      "source": [
        "regular2.to_csv('nontor.csv')"
      ],
      "metadata": {
        "id": "fenIx6IvV-c_"
      },
      "execution_count": null,
      "outputs": []
    },
    {
      "cell_type": "code",
      "source": [
        "regular = regular.append(regular2, ignore_index = True)"
      ],
      "metadata": {
        "id": "92IuV7a6K9xL"
      },
      "execution_count": null,
      "outputs": []
    },
    {
      "cell_type": "code",
      "source": [
        "len(regular)"
      ],
      "metadata": {
        "colab": {
          "base_uri": "https://localhost:8080/"
        },
        "id": "9IYLRLuxMD8c",
        "outputId": "ee36a765-9130-4bb0-c834-a226fdbf972c"
      },
      "execution_count": null,
      "outputs": [
        {
          "output_type": "execute_result",
          "data": {
            "text/plain": [
              "117172"
            ]
          },
          "metadata": {},
          "execution_count": 198
        }
      ]
    },
    {
      "cell_type": "markdown",
      "source": [
        "## VPN and Tor Information"
      ],
      "metadata": {
        "id": "OMDWMOjjNQP1"
      }
    },
    {
      "cell_type": "code",
      "source": [
        "myVPN=df.loc[df['Label'] == 'VPN']\n",
        "len(myVPN)\n",
        "#22919 non vpn samples"
      ],
      "metadata": {
        "colab": {
          "base_uri": "https://localhost:8080/"
        },
        "id": "TgVM9OF7NWlT",
        "outputId": "5e2b1df2-65a6-4745-d115-2606184d7f50"
      },
      "execution_count": null,
      "outputs": [
        {
          "output_type": "execute_result",
          "data": {
            "text/plain": [
              "22919"
            ]
          },
          "metadata": {},
          "execution_count": 7
        }
      ]
    },
    {
      "cell_type": "code",
      "source": [
        "myVPN.to_csv('vpn.csv')"
      ],
      "metadata": {
        "id": "2TAsWtk-G4nr"
      },
      "execution_count": null,
      "outputs": []
    },
    {
      "cell_type": "code",
      "source": [
        "myTor=df.loc[df['Label'] == 'Tor']\n",
        "#myTor.head()\n",
        "len(myTor)\n",
        "#1392 non vpn samples"
      ],
      "metadata": {
        "colab": {
          "base_uri": "https://localhost:8080/"
        },
        "id": "-Z3QqpCBNj6l",
        "outputId": "2f29bee2-ae16-4a74-dd49-483e02e6e418"
      },
      "execution_count": null,
      "outputs": [
        {
          "output_type": "execute_result",
          "data": {
            "text/plain": [
              "1392"
            ]
          },
          "metadata": {},
          "execution_count": 30
        }
      ]
    },
    {
      "cell_type": "code",
      "source": [
        "Total = myTor['Total Fwd Packet'].sum()\n",
        "print(Total)"
      ],
      "metadata": {
        "colab": {
          "base_uri": "https://localhost:8080/"
        },
        "id": "Ij9EO82pc5GX",
        "outputId": "e49a4055-594e-4911-9195-0e2799a48abb"
      },
      "execution_count": null,
      "outputs": [
        {
          "output_type": "stream",
          "name": "stdout",
          "text": [
            "8675145\n"
          ]
        }
      ]
    },
    {
      "cell_type": "code",
      "source": [],
      "metadata": {
        "id": "m-6ajN5QdNrX"
      },
      "execution_count": null,
      "outputs": []
    },
    {
      "cell_type": "code",
      "source": [
        "darkTraffic = myVPN.append(myTor, ignore_index = True)"
      ],
      "metadata": {
        "colab": {
          "base_uri": "https://localhost:8080/"
        },
        "id": "sMRRRwjW2_Ea",
        "outputId": "e9426adb-9ab0-4ac6-c034-ade1f52ebcdc"
      },
      "execution_count": null,
      "outputs": [
        {
          "output_type": "execute_result",
          "data": {
            "text/plain": [
              "1392"
            ]
          },
          "metadata": {},
          "execution_count": 256
        }
      ]
    },
    {
      "cell_type": "code",
      "source": [
        "len(darkTraffic)"
      ],
      "metadata": {
        "colab": {
          "base_uri": "https://localhost:8080/"
        },
        "id": "q9a9Gqz73Llk",
        "outputId": "2d444679-dd76-418a-9fed-22e7ee8a2d2b"
      },
      "execution_count": null,
      "outputs": [
        {
          "output_type": "execute_result",
          "data": {
            "text/plain": [
              "24311"
            ]
          },
          "metadata": {},
          "execution_count": 257
        }
      ]
    },
    {
      "cell_type": "code",
      "source": [
        "darkTraffic"
      ],
      "metadata": {
        "colab": {
          "base_uri": "https://localhost:8080/",
          "height": 704
        },
        "id": "J-6zNFQ33oBD",
        "outputId": "381d6ec4-0e19-49a3-c969-41560f0c3232"
      },
      "execution_count": null,
      "outputs": [
        {
          "output_type": "execute_result",
          "data": {
            "text/plain": [
              "                Src IP  Src Port           Dst IP  Dst Port  Protocol  \\\n",
              "0        74.125.226.38       443       10.8.8.138     51827         6   \n",
              "1           10.8.8.138     47126    75.101.155.12        22         6   \n",
              "2           10.8.8.138     51143    74.125.226.56       443         6   \n",
              "3           10.8.8.138     51828    74.125.226.38       443         6   \n",
              "4           10.8.8.138     51828    74.125.226.38       443         6   \n",
              "...                ...       ...              ...       ...       ...   \n",
              "24306  131.202.240.150     38248    131.202.244.5        53        17   \n",
              "24307          8.6.0.1         0          8.0.6.4         0         0   \n",
              "24308  131.202.240.150     53347   216.58.219.195        80         6   \n",
              "24309  131.202.240.150     40594  173.194.123.100       443         6   \n",
              "24310  131.202.240.150     47131   173.194.123.48        80         6   \n",
              "\n",
              "       Flow Duration  Total Fwd Packet  Total Bwd packets  \\\n",
              "0                 45                 2                  0   \n",
              "1             231660                 1                  1   \n",
              "2           10221076                 3                  1   \n",
              "3           59101196                 2                  4   \n",
              "4             203636                 1                  1   \n",
              "...              ...               ...                ...   \n",
              "24306          89326                 1                  1   \n",
              "24307             16                 2                  0   \n",
              "24308       90113836                 3                  3   \n",
              "24309       90141353                 3                  3   \n",
              "24310       90137239                 3                  3   \n",
              "\n",
              "       Total Length of Fwd Packet  Total Length of Bwd Packet  ...  \\\n",
              "0                              63                           0  ...   \n",
              "1                               0                           0  ...   \n",
              "2                               0                           0  ...   \n",
              "3                               0                          63  ...   \n",
              "4                               0                           0  ...   \n",
              "...                           ...                         ...  ...   \n",
              "24306                          50                         238  ...   \n",
              "24307                           0                           0  ...   \n",
              "24308                           0                           0  ...   \n",
              "24309                           0                           0  ...   \n",
              "24310                           0                           0  ...   \n",
              "\n",
              "       FWD Init Win Bytes  Bwd Init Win Bytes  Fwd Act Data Pkts  \\\n",
              "0                     341                   0                  0   \n",
              "1                   41632                8415                  0   \n",
              "2                   29200               42540                  0   \n",
              "3                     317                 350                  0   \n",
              "4                     317                 350                  0   \n",
              "...                   ...                 ...                ...   \n",
              "24306                   0                   0                  0   \n",
              "24307                   0                   0                  0   \n",
              "24308                 274                 396                  0   \n",
              "24309                1082                 733                  0   \n",
              "24310                 244                 349                  0   \n",
              "\n",
              "       Fwd Seg Size Min     Idle Mean      Idle Std      Idle Max  \\\n",
              "0                    32  0.000000e+00  0.000000e+00  0.000000e+00   \n",
              "1                    32  0.000000e+00  0.000000e+00  0.000000e+00   \n",
              "2                    32  7.161610e+14  1.010000e+15  1.432320e+15   \n",
              "3                    32  1.432320e+15  3.053902e+07  1.432320e+15   \n",
              "4                    32  0.000000e+00  0.000000e+00  0.000000e+00   \n",
              "...                 ...           ...           ...           ...   \n",
              "24306                 8  0.000000e+00  0.000000e+00  0.000000e+00   \n",
              "24307                 0  0.000000e+00  0.000000e+00  0.000000e+00   \n",
              "24308                32  1.427980e+15  3.674657e+07  1.427990e+15   \n",
              "24309                32  1.427980e+15  3.675897e+07  1.427990e+15   \n",
              "24310                32  1.427980e+15  3.675724e+07  1.427990e+15   \n",
              "\n",
              "           Idle Min  Label          Label.1  \n",
              "0      0.000000e+00    VPN    File-Transfer  \n",
              "1      0.000000e+00    VPN    File-Transfer  \n",
              "2      1.000137e+07    VPN    File-Transfer  \n",
              "3      1.430000e+15    VPN    File-Transfer  \n",
              "4      0.000000e+00    VPN    File-Transfer  \n",
              "...             ...    ...              ...  \n",
              "24306  0.000000e+00    Tor  Video-Streaming  \n",
              "24307  0.000000e+00    Tor  Video-Streaming  \n",
              "24308  1.427980e+15    Tor  Video-Streaming  \n",
              "24309  1.427980e+15    Tor  Video-Streaming  \n",
              "24310  1.427980e+15    Tor  Video-Streaming  \n",
              "\n",
              "[24311 rows x 68 columns]"
            ],
            "text/html": [
              "\n",
              "  <div id=\"df-d83bd070-933c-483e-ab3d-1302310a1512\">\n",
              "    <div class=\"colab-df-container\">\n",
              "      <div>\n",
              "<style scoped>\n",
              "    .dataframe tbody tr th:only-of-type {\n",
              "        vertical-align: middle;\n",
              "    }\n",
              "\n",
              "    .dataframe tbody tr th {\n",
              "        vertical-align: top;\n",
              "    }\n",
              "\n",
              "    .dataframe thead th {\n",
              "        text-align: right;\n",
              "    }\n",
              "</style>\n",
              "<table border=\"1\" class=\"dataframe\">\n",
              "  <thead>\n",
              "    <tr style=\"text-align: right;\">\n",
              "      <th></th>\n",
              "      <th>Src IP</th>\n",
              "      <th>Src Port</th>\n",
              "      <th>Dst IP</th>\n",
              "      <th>Dst Port</th>\n",
              "      <th>Protocol</th>\n",
              "      <th>Flow Duration</th>\n",
              "      <th>Total Fwd Packet</th>\n",
              "      <th>Total Bwd packets</th>\n",
              "      <th>Total Length of Fwd Packet</th>\n",
              "      <th>Total Length of Bwd Packet</th>\n",
              "      <th>...</th>\n",
              "      <th>FWD Init Win Bytes</th>\n",
              "      <th>Bwd Init Win Bytes</th>\n",
              "      <th>Fwd Act Data Pkts</th>\n",
              "      <th>Fwd Seg Size Min</th>\n",
              "      <th>Idle Mean</th>\n",
              "      <th>Idle Std</th>\n",
              "      <th>Idle Max</th>\n",
              "      <th>Idle Min</th>\n",
              "      <th>Label</th>\n",
              "      <th>Label.1</th>\n",
              "    </tr>\n",
              "  </thead>\n",
              "  <tbody>\n",
              "    <tr>\n",
              "      <th>0</th>\n",
              "      <td>74.125.226.38</td>\n",
              "      <td>443</td>\n",
              "      <td>10.8.8.138</td>\n",
              "      <td>51827</td>\n",
              "      <td>6</td>\n",
              "      <td>45</td>\n",
              "      <td>2</td>\n",
              "      <td>0</td>\n",
              "      <td>63</td>\n",
              "      <td>0</td>\n",
              "      <td>...</td>\n",
              "      <td>341</td>\n",
              "      <td>0</td>\n",
              "      <td>0</td>\n",
              "      <td>32</td>\n",
              "      <td>0.000000e+00</td>\n",
              "      <td>0.000000e+00</td>\n",
              "      <td>0.000000e+00</td>\n",
              "      <td>0.000000e+00</td>\n",
              "      <td>VPN</td>\n",
              "      <td>File-Transfer</td>\n",
              "    </tr>\n",
              "    <tr>\n",
              "      <th>1</th>\n",
              "      <td>10.8.8.138</td>\n",
              "      <td>47126</td>\n",
              "      <td>75.101.155.12</td>\n",
              "      <td>22</td>\n",
              "      <td>6</td>\n",
              "      <td>231660</td>\n",
              "      <td>1</td>\n",
              "      <td>1</td>\n",
              "      <td>0</td>\n",
              "      <td>0</td>\n",
              "      <td>...</td>\n",
              "      <td>41632</td>\n",
              "      <td>8415</td>\n",
              "      <td>0</td>\n",
              "      <td>32</td>\n",
              "      <td>0.000000e+00</td>\n",
              "      <td>0.000000e+00</td>\n",
              "      <td>0.000000e+00</td>\n",
              "      <td>0.000000e+00</td>\n",
              "      <td>VPN</td>\n",
              "      <td>File-Transfer</td>\n",
              "    </tr>\n",
              "    <tr>\n",
              "      <th>2</th>\n",
              "      <td>10.8.8.138</td>\n",
              "      <td>51143</td>\n",
              "      <td>74.125.226.56</td>\n",
              "      <td>443</td>\n",
              "      <td>6</td>\n",
              "      <td>10221076</td>\n",
              "      <td>3</td>\n",
              "      <td>1</td>\n",
              "      <td>0</td>\n",
              "      <td>0</td>\n",
              "      <td>...</td>\n",
              "      <td>29200</td>\n",
              "      <td>42540</td>\n",
              "      <td>0</td>\n",
              "      <td>32</td>\n",
              "      <td>7.161610e+14</td>\n",
              "      <td>1.010000e+15</td>\n",
              "      <td>1.432320e+15</td>\n",
              "      <td>1.000137e+07</td>\n",
              "      <td>VPN</td>\n",
              "      <td>File-Transfer</td>\n",
              "    </tr>\n",
              "    <tr>\n",
              "      <th>3</th>\n",
              "      <td>10.8.8.138</td>\n",
              "      <td>51828</td>\n",
              "      <td>74.125.226.38</td>\n",
              "      <td>443</td>\n",
              "      <td>6</td>\n",
              "      <td>59101196</td>\n",
              "      <td>2</td>\n",
              "      <td>4</td>\n",
              "      <td>0</td>\n",
              "      <td>63</td>\n",
              "      <td>...</td>\n",
              "      <td>317</td>\n",
              "      <td>350</td>\n",
              "      <td>0</td>\n",
              "      <td>32</td>\n",
              "      <td>1.432320e+15</td>\n",
              "      <td>3.053902e+07</td>\n",
              "      <td>1.432320e+15</td>\n",
              "      <td>1.430000e+15</td>\n",
              "      <td>VPN</td>\n",
              "      <td>File-Transfer</td>\n",
              "    </tr>\n",
              "    <tr>\n",
              "      <th>4</th>\n",
              "      <td>10.8.8.138</td>\n",
              "      <td>51828</td>\n",
              "      <td>74.125.226.38</td>\n",
              "      <td>443</td>\n",
              "      <td>6</td>\n",
              "      <td>203636</td>\n",
              "      <td>1</td>\n",
              "      <td>1</td>\n",
              "      <td>0</td>\n",
              "      <td>0</td>\n",
              "      <td>...</td>\n",
              "      <td>317</td>\n",
              "      <td>350</td>\n",
              "      <td>0</td>\n",
              "      <td>32</td>\n",
              "      <td>0.000000e+00</td>\n",
              "      <td>0.000000e+00</td>\n",
              "      <td>0.000000e+00</td>\n",
              "      <td>0.000000e+00</td>\n",
              "      <td>VPN</td>\n",
              "      <td>File-Transfer</td>\n",
              "    </tr>\n",
              "    <tr>\n",
              "      <th>...</th>\n",
              "      <td>...</td>\n",
              "      <td>...</td>\n",
              "      <td>...</td>\n",
              "      <td>...</td>\n",
              "      <td>...</td>\n",
              "      <td>...</td>\n",
              "      <td>...</td>\n",
              "      <td>...</td>\n",
              "      <td>...</td>\n",
              "      <td>...</td>\n",
              "      <td>...</td>\n",
              "      <td>...</td>\n",
              "      <td>...</td>\n",
              "      <td>...</td>\n",
              "      <td>...</td>\n",
              "      <td>...</td>\n",
              "      <td>...</td>\n",
              "      <td>...</td>\n",
              "      <td>...</td>\n",
              "      <td>...</td>\n",
              "      <td>...</td>\n",
              "    </tr>\n",
              "    <tr>\n",
              "      <th>24306</th>\n",
              "      <td>131.202.240.150</td>\n",
              "      <td>38248</td>\n",
              "      <td>131.202.244.5</td>\n",
              "      <td>53</td>\n",
              "      <td>17</td>\n",
              "      <td>89326</td>\n",
              "      <td>1</td>\n",
              "      <td>1</td>\n",
              "      <td>50</td>\n",
              "      <td>238</td>\n",
              "      <td>...</td>\n",
              "      <td>0</td>\n",
              "      <td>0</td>\n",
              "      <td>0</td>\n",
              "      <td>8</td>\n",
              "      <td>0.000000e+00</td>\n",
              "      <td>0.000000e+00</td>\n",
              "      <td>0.000000e+00</td>\n",
              "      <td>0.000000e+00</td>\n",
              "      <td>Tor</td>\n",
              "      <td>Video-Streaming</td>\n",
              "    </tr>\n",
              "    <tr>\n",
              "      <th>24307</th>\n",
              "      <td>8.6.0.1</td>\n",
              "      <td>0</td>\n",
              "      <td>8.0.6.4</td>\n",
              "      <td>0</td>\n",
              "      <td>0</td>\n",
              "      <td>16</td>\n",
              "      <td>2</td>\n",
              "      <td>0</td>\n",
              "      <td>0</td>\n",
              "      <td>0</td>\n",
              "      <td>...</td>\n",
              "      <td>0</td>\n",
              "      <td>0</td>\n",
              "      <td>0</td>\n",
              "      <td>0</td>\n",
              "      <td>0.000000e+00</td>\n",
              "      <td>0.000000e+00</td>\n",
              "      <td>0.000000e+00</td>\n",
              "      <td>0.000000e+00</td>\n",
              "      <td>Tor</td>\n",
              "      <td>Video-Streaming</td>\n",
              "    </tr>\n",
              "    <tr>\n",
              "      <th>24308</th>\n",
              "      <td>131.202.240.150</td>\n",
              "      <td>53347</td>\n",
              "      <td>216.58.219.195</td>\n",
              "      <td>80</td>\n",
              "      <td>6</td>\n",
              "      <td>90113836</td>\n",
              "      <td>3</td>\n",
              "      <td>3</td>\n",
              "      <td>0</td>\n",
              "      <td>0</td>\n",
              "      <td>...</td>\n",
              "      <td>274</td>\n",
              "      <td>396</td>\n",
              "      <td>0</td>\n",
              "      <td>32</td>\n",
              "      <td>1.427980e+15</td>\n",
              "      <td>3.674657e+07</td>\n",
              "      <td>1.427990e+15</td>\n",
              "      <td>1.427980e+15</td>\n",
              "      <td>Tor</td>\n",
              "      <td>Video-Streaming</td>\n",
              "    </tr>\n",
              "    <tr>\n",
              "      <th>24309</th>\n",
              "      <td>131.202.240.150</td>\n",
              "      <td>40594</td>\n",
              "      <td>173.194.123.100</td>\n",
              "      <td>443</td>\n",
              "      <td>6</td>\n",
              "      <td>90141353</td>\n",
              "      <td>3</td>\n",
              "      <td>3</td>\n",
              "      <td>0</td>\n",
              "      <td>0</td>\n",
              "      <td>...</td>\n",
              "      <td>1082</td>\n",
              "      <td>733</td>\n",
              "      <td>0</td>\n",
              "      <td>32</td>\n",
              "      <td>1.427980e+15</td>\n",
              "      <td>3.675897e+07</td>\n",
              "      <td>1.427990e+15</td>\n",
              "      <td>1.427980e+15</td>\n",
              "      <td>Tor</td>\n",
              "      <td>Video-Streaming</td>\n",
              "    </tr>\n",
              "    <tr>\n",
              "      <th>24310</th>\n",
              "      <td>131.202.240.150</td>\n",
              "      <td>47131</td>\n",
              "      <td>173.194.123.48</td>\n",
              "      <td>80</td>\n",
              "      <td>6</td>\n",
              "      <td>90137239</td>\n",
              "      <td>3</td>\n",
              "      <td>3</td>\n",
              "      <td>0</td>\n",
              "      <td>0</td>\n",
              "      <td>...</td>\n",
              "      <td>244</td>\n",
              "      <td>349</td>\n",
              "      <td>0</td>\n",
              "      <td>32</td>\n",
              "      <td>1.427980e+15</td>\n",
              "      <td>3.675724e+07</td>\n",
              "      <td>1.427990e+15</td>\n",
              "      <td>1.427980e+15</td>\n",
              "      <td>Tor</td>\n",
              "      <td>Video-Streaming</td>\n",
              "    </tr>\n",
              "  </tbody>\n",
              "</table>\n",
              "<p>24311 rows × 68 columns</p>\n",
              "</div>\n",
              "      <button class=\"colab-df-convert\" onclick=\"convertToInteractive('df-d83bd070-933c-483e-ab3d-1302310a1512')\"\n",
              "              title=\"Convert this dataframe to an interactive table.\"\n",
              "              style=\"display:none;\">\n",
              "        \n",
              "  <svg xmlns=\"http://www.w3.org/2000/svg\" height=\"24px\"viewBox=\"0 0 24 24\"\n",
              "       width=\"24px\">\n",
              "    <path d=\"M0 0h24v24H0V0z\" fill=\"none\"/>\n",
              "    <path d=\"M18.56 5.44l.94 2.06.94-2.06 2.06-.94-2.06-.94-.94-2.06-.94 2.06-2.06.94zm-11 1L8.5 8.5l.94-2.06 2.06-.94-2.06-.94L8.5 2.5l-.94 2.06-2.06.94zm10 10l.94 2.06.94-2.06 2.06-.94-2.06-.94-.94-2.06-.94 2.06-2.06.94z\"/><path d=\"M17.41 7.96l-1.37-1.37c-.4-.4-.92-.59-1.43-.59-.52 0-1.04.2-1.43.59L10.3 9.45l-7.72 7.72c-.78.78-.78 2.05 0 2.83L4 21.41c.39.39.9.59 1.41.59.51 0 1.02-.2 1.41-.59l7.78-7.78 2.81-2.81c.8-.78.8-2.07 0-2.86zM5.41 20L4 18.59l7.72-7.72 1.47 1.35L5.41 20z\"/>\n",
              "  </svg>\n",
              "      </button>\n",
              "      \n",
              "  <style>\n",
              "    .colab-df-container {\n",
              "      display:flex;\n",
              "      flex-wrap:wrap;\n",
              "      gap: 12px;\n",
              "    }\n",
              "\n",
              "    .colab-df-convert {\n",
              "      background-color: #E8F0FE;\n",
              "      border: none;\n",
              "      border-radius: 50%;\n",
              "      cursor: pointer;\n",
              "      display: none;\n",
              "      fill: #1967D2;\n",
              "      height: 32px;\n",
              "      padding: 0 0 0 0;\n",
              "      width: 32px;\n",
              "    }\n",
              "\n",
              "    .colab-df-convert:hover {\n",
              "      background-color: #E2EBFA;\n",
              "      box-shadow: 0px 1px 2px rgba(60, 64, 67, 0.3), 0px 1px 3px 1px rgba(60, 64, 67, 0.15);\n",
              "      fill: #174EA6;\n",
              "    }\n",
              "\n",
              "    [theme=dark] .colab-df-convert {\n",
              "      background-color: #3B4455;\n",
              "      fill: #D2E3FC;\n",
              "    }\n",
              "\n",
              "    [theme=dark] .colab-df-convert:hover {\n",
              "      background-color: #434B5C;\n",
              "      box-shadow: 0px 1px 3px 1px rgba(0, 0, 0, 0.15);\n",
              "      filter: drop-shadow(0px 1px 2px rgba(0, 0, 0, 0.3));\n",
              "      fill: #FFFFFF;\n",
              "    }\n",
              "  </style>\n",
              "\n",
              "      <script>\n",
              "        const buttonEl =\n",
              "          document.querySelector('#df-d83bd070-933c-483e-ab3d-1302310a1512 button.colab-df-convert');\n",
              "        buttonEl.style.display =\n",
              "          google.colab.kernel.accessAllowed ? 'block' : 'none';\n",
              "\n",
              "        async function convertToInteractive(key) {\n",
              "          const element = document.querySelector('#df-d83bd070-933c-483e-ab3d-1302310a1512');\n",
              "          const dataTable =\n",
              "            await google.colab.kernel.invokeFunction('convertToInteractive',\n",
              "                                                     [key], {});\n",
              "          if (!dataTable) return;\n",
              "\n",
              "          const docLinkHtml = 'Like what you see? Visit the ' +\n",
              "            '<a target=\"_blank\" href=https://colab.research.google.com/notebooks/data_table.ipynb>data table notebook</a>'\n",
              "            + ' to learn more about interactive tables.';\n",
              "          element.innerHTML = '';\n",
              "          dataTable['output_type'] = 'display_data';\n",
              "          await google.colab.output.renderOutput(dataTable, element);\n",
              "          const docLink = document.createElement('div');\n",
              "          docLink.innerHTML = docLinkHtml;\n",
              "          element.appendChild(docLink);\n",
              "        }\n",
              "      </script>\n",
              "    </div>\n",
              "  </div>\n",
              "  "
            ]
          },
          "metadata": {},
          "execution_count": 258
        }
      ]
    },
    {
      "cell_type": "markdown",
      "source": [
        "## Sorting"
      ],
      "metadata": {
        "id": "RXq_D2F3NL1U"
      }
    },
    {
      "cell_type": "code",
      "source": [
        "myTor=myTor.sort_values(by=['Total Fwd Packet'], ascending=True)#'Total Bwd packets','Flow Duration','Total Length of Fwd Packet']"
      ],
      "metadata": {
        "id": "VbBpj9O_OPw2"
      },
      "execution_count": null,
      "outputs": []
    },
    {
      "cell_type": "code",
      "source": [
        "myTor.tail()"
      ],
      "metadata": {
        "id": "0dWPf7jUXNQW",
        "colab": {
          "base_uri": "https://localhost:8080/",
          "height": 433
        },
        "outputId": "b1dc2ddf-f7fe-40dd-e7e6-14d91dbdde77"
      },
      "execution_count": null,
      "outputs": [
        {
          "output_type": "execute_result",
          "data": {
            "text/plain": [
              "           Src IP  Src Port         Dst IP  Dst Port  Protocol  Flow Duration  \\\n",
              "117735  10.0.2.15     36922  198.52.200.39       443         6      119998007   \n",
              "117743  10.0.2.15     36922  198.52.200.39       443         6      119998538   \n",
              "117776  10.0.2.15     36922  198.52.200.39       443         6      119578967   \n",
              "117744  10.0.2.15     36922  198.52.200.39       443         6      119952629   \n",
              "117747  10.0.2.15     36922  198.52.200.39       443         6      119961884   \n",
              "\n",
              "        Total Fwd Packet  Total Bwd packets  Total Length of Fwd Packet  \\\n",
              "117735             83996              60612                   105501088   \n",
              "117743             99421              71413                   125555103   \n",
              "117776            104789              76695                   130842675   \n",
              "117744            112274              80558                   141400896   \n",
              "117747            113960              81630                   143491751   \n",
              "\n",
              "        Total Length of Bwd Packet  ...  FWD Init Win Bytes  \\\n",
              "117735                     3326695  ...               65535   \n",
              "117743                     3994063  ...               65535   \n",
              "117776                     7308047  ...               65535   \n",
              "117744                     4471215  ...               65535   \n",
              "117747                     4534472  ...               65535   \n",
              "\n",
              "        Bwd Init Win Bytes  Fwd Act Data Pkts  Fwd Seg Size Min     Idle Mean  \\\n",
              "117735               65535              83476                20  1.437150e+15   \n",
              "117743               65535              98837                20  1.437150e+15   \n",
              "117776               65535             103094                20  1.437150e+15   \n",
              "117744               65535             111629                20  1.437150e+15   \n",
              "117747               65535             113325                20  1.437150e+15   \n",
              "\n",
              "           Idle Std      Idle Max      Idle Min  Label        Label.1  \n",
              "117735  34344083.73  1.437150e+15  1.437150e+15    Tor  File-Transfer  \n",
              "117743  34669680.89  1.437150e+15  1.437150e+15    Tor  File-Transfer  \n",
              "117776  32253399.69  1.437150e+15  1.437150e+15    Tor  File-Transfer  \n",
              "117744  35117551.65  1.437150e+15  1.437150e+15    Tor  File-Transfer  \n",
              "117747  34446049.98  1.437150e+15  1.437150e+15    Tor  File-Transfer  \n",
              "\n",
              "[5 rows x 68 columns]"
            ],
            "text/html": [
              "\n",
              "  <div id=\"df-61a9cc6e-8e0a-477b-827c-7fb1bb70b5f0\">\n",
              "    <div class=\"colab-df-container\">\n",
              "      <div>\n",
              "<style scoped>\n",
              "    .dataframe tbody tr th:only-of-type {\n",
              "        vertical-align: middle;\n",
              "    }\n",
              "\n",
              "    .dataframe tbody tr th {\n",
              "        vertical-align: top;\n",
              "    }\n",
              "\n",
              "    .dataframe thead th {\n",
              "        text-align: right;\n",
              "    }\n",
              "</style>\n",
              "<table border=\"1\" class=\"dataframe\">\n",
              "  <thead>\n",
              "    <tr style=\"text-align: right;\">\n",
              "      <th></th>\n",
              "      <th>Src IP</th>\n",
              "      <th>Src Port</th>\n",
              "      <th>Dst IP</th>\n",
              "      <th>Dst Port</th>\n",
              "      <th>Protocol</th>\n",
              "      <th>Flow Duration</th>\n",
              "      <th>Total Fwd Packet</th>\n",
              "      <th>Total Bwd packets</th>\n",
              "      <th>Total Length of Fwd Packet</th>\n",
              "      <th>Total Length of Bwd Packet</th>\n",
              "      <th>...</th>\n",
              "      <th>FWD Init Win Bytes</th>\n",
              "      <th>Bwd Init Win Bytes</th>\n",
              "      <th>Fwd Act Data Pkts</th>\n",
              "      <th>Fwd Seg Size Min</th>\n",
              "      <th>Idle Mean</th>\n",
              "      <th>Idle Std</th>\n",
              "      <th>Idle Max</th>\n",
              "      <th>Idle Min</th>\n",
              "      <th>Label</th>\n",
              "      <th>Label.1</th>\n",
              "    </tr>\n",
              "  </thead>\n",
              "  <tbody>\n",
              "    <tr>\n",
              "      <th>117735</th>\n",
              "      <td>10.0.2.15</td>\n",
              "      <td>36922</td>\n",
              "      <td>198.52.200.39</td>\n",
              "      <td>443</td>\n",
              "      <td>6</td>\n",
              "      <td>119998007</td>\n",
              "      <td>83996</td>\n",
              "      <td>60612</td>\n",
              "      <td>105501088</td>\n",
              "      <td>3326695</td>\n",
              "      <td>...</td>\n",
              "      <td>65535</td>\n",
              "      <td>65535</td>\n",
              "      <td>83476</td>\n",
              "      <td>20</td>\n",
              "      <td>1.437150e+15</td>\n",
              "      <td>34344083.73</td>\n",
              "      <td>1.437150e+15</td>\n",
              "      <td>1.437150e+15</td>\n",
              "      <td>Tor</td>\n",
              "      <td>File-Transfer</td>\n",
              "    </tr>\n",
              "    <tr>\n",
              "      <th>117743</th>\n",
              "      <td>10.0.2.15</td>\n",
              "      <td>36922</td>\n",
              "      <td>198.52.200.39</td>\n",
              "      <td>443</td>\n",
              "      <td>6</td>\n",
              "      <td>119998538</td>\n",
              "      <td>99421</td>\n",
              "      <td>71413</td>\n",
              "      <td>125555103</td>\n",
              "      <td>3994063</td>\n",
              "      <td>...</td>\n",
              "      <td>65535</td>\n",
              "      <td>65535</td>\n",
              "      <td>98837</td>\n",
              "      <td>20</td>\n",
              "      <td>1.437150e+15</td>\n",
              "      <td>34669680.89</td>\n",
              "      <td>1.437150e+15</td>\n",
              "      <td>1.437150e+15</td>\n",
              "      <td>Tor</td>\n",
              "      <td>File-Transfer</td>\n",
              "    </tr>\n",
              "    <tr>\n",
              "      <th>117776</th>\n",
              "      <td>10.0.2.15</td>\n",
              "      <td>36922</td>\n",
              "      <td>198.52.200.39</td>\n",
              "      <td>443</td>\n",
              "      <td>6</td>\n",
              "      <td>119578967</td>\n",
              "      <td>104789</td>\n",
              "      <td>76695</td>\n",
              "      <td>130842675</td>\n",
              "      <td>7308047</td>\n",
              "      <td>...</td>\n",
              "      <td>65535</td>\n",
              "      <td>65535</td>\n",
              "      <td>103094</td>\n",
              "      <td>20</td>\n",
              "      <td>1.437150e+15</td>\n",
              "      <td>32253399.69</td>\n",
              "      <td>1.437150e+15</td>\n",
              "      <td>1.437150e+15</td>\n",
              "      <td>Tor</td>\n",
              "      <td>File-Transfer</td>\n",
              "    </tr>\n",
              "    <tr>\n",
              "      <th>117744</th>\n",
              "      <td>10.0.2.15</td>\n",
              "      <td>36922</td>\n",
              "      <td>198.52.200.39</td>\n",
              "      <td>443</td>\n",
              "      <td>6</td>\n",
              "      <td>119952629</td>\n",
              "      <td>112274</td>\n",
              "      <td>80558</td>\n",
              "      <td>141400896</td>\n",
              "      <td>4471215</td>\n",
              "      <td>...</td>\n",
              "      <td>65535</td>\n",
              "      <td>65535</td>\n",
              "      <td>111629</td>\n",
              "      <td>20</td>\n",
              "      <td>1.437150e+15</td>\n",
              "      <td>35117551.65</td>\n",
              "      <td>1.437150e+15</td>\n",
              "      <td>1.437150e+15</td>\n",
              "      <td>Tor</td>\n",
              "      <td>File-Transfer</td>\n",
              "    </tr>\n",
              "    <tr>\n",
              "      <th>117747</th>\n",
              "      <td>10.0.2.15</td>\n",
              "      <td>36922</td>\n",
              "      <td>198.52.200.39</td>\n",
              "      <td>443</td>\n",
              "      <td>6</td>\n",
              "      <td>119961884</td>\n",
              "      <td>113960</td>\n",
              "      <td>81630</td>\n",
              "      <td>143491751</td>\n",
              "      <td>4534472</td>\n",
              "      <td>...</td>\n",
              "      <td>65535</td>\n",
              "      <td>65535</td>\n",
              "      <td>113325</td>\n",
              "      <td>20</td>\n",
              "      <td>1.437150e+15</td>\n",
              "      <td>34446049.98</td>\n",
              "      <td>1.437150e+15</td>\n",
              "      <td>1.437150e+15</td>\n",
              "      <td>Tor</td>\n",
              "      <td>File-Transfer</td>\n",
              "    </tr>\n",
              "  </tbody>\n",
              "</table>\n",
              "<p>5 rows × 68 columns</p>\n",
              "</div>\n",
              "      <button class=\"colab-df-convert\" onclick=\"convertToInteractive('df-61a9cc6e-8e0a-477b-827c-7fb1bb70b5f0')\"\n",
              "              title=\"Convert this dataframe to an interactive table.\"\n",
              "              style=\"display:none;\">\n",
              "        \n",
              "  <svg xmlns=\"http://www.w3.org/2000/svg\" height=\"24px\"viewBox=\"0 0 24 24\"\n",
              "       width=\"24px\">\n",
              "    <path d=\"M0 0h24v24H0V0z\" fill=\"none\"/>\n",
              "    <path d=\"M18.56 5.44l.94 2.06.94-2.06 2.06-.94-2.06-.94-.94-2.06-.94 2.06-2.06.94zm-11 1L8.5 8.5l.94-2.06 2.06-.94-2.06-.94L8.5 2.5l-.94 2.06-2.06.94zm10 10l.94 2.06.94-2.06 2.06-.94-2.06-.94-.94-2.06-.94 2.06-2.06.94z\"/><path d=\"M17.41 7.96l-1.37-1.37c-.4-.4-.92-.59-1.43-.59-.52 0-1.04.2-1.43.59L10.3 9.45l-7.72 7.72c-.78.78-.78 2.05 0 2.83L4 21.41c.39.39.9.59 1.41.59.51 0 1.02-.2 1.41-.59l7.78-7.78 2.81-2.81c.8-.78.8-2.07 0-2.86zM5.41 20L4 18.59l7.72-7.72 1.47 1.35L5.41 20z\"/>\n",
              "  </svg>\n",
              "      </button>\n",
              "      \n",
              "  <style>\n",
              "    .colab-df-container {\n",
              "      display:flex;\n",
              "      flex-wrap:wrap;\n",
              "      gap: 12px;\n",
              "    }\n",
              "\n",
              "    .colab-df-convert {\n",
              "      background-color: #E8F0FE;\n",
              "      border: none;\n",
              "      border-radius: 50%;\n",
              "      cursor: pointer;\n",
              "      display: none;\n",
              "      fill: #1967D2;\n",
              "      height: 32px;\n",
              "      padding: 0 0 0 0;\n",
              "      width: 32px;\n",
              "    }\n",
              "\n",
              "    .colab-df-convert:hover {\n",
              "      background-color: #E2EBFA;\n",
              "      box-shadow: 0px 1px 2px rgba(60, 64, 67, 0.3), 0px 1px 3px 1px rgba(60, 64, 67, 0.15);\n",
              "      fill: #174EA6;\n",
              "    }\n",
              "\n",
              "    [theme=dark] .colab-df-convert {\n",
              "      background-color: #3B4455;\n",
              "      fill: #D2E3FC;\n",
              "    }\n",
              "\n",
              "    [theme=dark] .colab-df-convert:hover {\n",
              "      background-color: #434B5C;\n",
              "      box-shadow: 0px 1px 3px 1px rgba(0, 0, 0, 0.15);\n",
              "      filter: drop-shadow(0px 1px 2px rgba(0, 0, 0, 0.3));\n",
              "      fill: #FFFFFF;\n",
              "    }\n",
              "  </style>\n",
              "\n",
              "      <script>\n",
              "        const buttonEl =\n",
              "          document.querySelector('#df-61a9cc6e-8e0a-477b-827c-7fb1bb70b5f0 button.colab-df-convert');\n",
              "        buttonEl.style.display =\n",
              "          google.colab.kernel.accessAllowed ? 'block' : 'none';\n",
              "\n",
              "        async function convertToInteractive(key) {\n",
              "          const element = document.querySelector('#df-61a9cc6e-8e0a-477b-827c-7fb1bb70b5f0');\n",
              "          const dataTable =\n",
              "            await google.colab.kernel.invokeFunction('convertToInteractive',\n",
              "                                                     [key], {});\n",
              "          if (!dataTable) return;\n",
              "\n",
              "          const docLinkHtml = 'Like what you see? Visit the ' +\n",
              "            '<a target=\"_blank\" href=https://colab.research.google.com/notebooks/data_table.ipynb>data table notebook</a>'\n",
              "            + ' to learn more about interactive tables.';\n",
              "          element.innerHTML = '';\n",
              "          dataTable['output_type'] = 'display_data';\n",
              "          await google.colab.output.renderOutput(dataTable, element);\n",
              "          const docLink = document.createElement('div');\n",
              "          docLink.innerHTML = docLinkHtml;\n",
              "          element.appendChild(docLink);\n",
              "        }\n",
              "      </script>\n",
              "    </div>\n",
              "  </div>\n",
              "  "
            ]
          },
          "metadata": {},
          "execution_count": 8
        }
      ]
    },
    {
      "cell_type": "code",
      "source": [
        "myTor.to_csv('Tor_sort.csv')\n"
      ],
      "metadata": {
        "id": "pzCFXLZginhL"
      },
      "execution_count": null,
      "outputs": []
    },
    {
      "cell_type": "code",
      "source": [
        "myVPN=myVPN.sort_values(by=['Total Fwd Packet'], ascending=True)#'Total Bwd packets','Flow Duration','Total Length of Fwd Packet']"
      ],
      "metadata": {
        "id": "WFWhI-wO8Yo2"
      },
      "execution_count": null,
      "outputs": []
    },
    {
      "cell_type": "code",
      "source": [
        "myVPN.tail()"
      ],
      "metadata": {
        "colab": {
          "base_uri": "https://localhost:8080/",
          "height": 433
        },
        "id": "YHr68_0CjOx5",
        "outputId": "40e07db1-61f2-4a7e-883c-e7f0aceb2db8"
      },
      "execution_count": null,
      "outputs": [
        {
          "output_type": "execute_result",
          "data": {
            "text/plain": [
              "            Src IP  Src Port           Dst IP  Dst Port  Protocol  \\\n",
              "140240  10.8.8.138     43533    185.2.220.137        80         6   \n",
              "140233  10.8.8.138     43533    185.2.220.137        80         6   \n",
              "122546  10.8.8.138     43336    75.101.155.12        22         6   \n",
              "122634  10.8.8.138     45849  204.236.238.164      1781         6   \n",
              "140031  10.8.8.138     43533    185.2.220.137        80         6   \n",
              "\n",
              "        Flow Duration  Total Fwd Packet  Total Bwd packets  \\\n",
              "140240      118606790             21114              40845   \n",
              "140233      117720900             21288              41527   \n",
              "122546      119951862             24085              12997   \n",
              "122634       44402284             31667              15833   \n",
              "140031      117193925             41588              80733   \n",
              "\n",
              "        Total Length of Fwd Packet  Total Length of Bwd Packet  ...  \\\n",
              "140240                       28076                    53394404  ...   \n",
              "140233                       30721                    54278158  ...   \n",
              "122546                    30643843                      166330  ...   \n",
              "122634                    41312808                        4173  ...   \n",
              "140031                       71286                   105285555  ...   \n",
              "\n",
              "        FWD Init Win Bytes  Bwd Init Win Bytes  Fwd Act Data Pkts  \\\n",
              "140240               13270                2048                 41   \n",
              "140233                2048                2048                 44   \n",
              "122546               29200               13364              23959   \n",
              "122634               29200                5073              31659   \n",
              "140031               29200                2048                107   \n",
              "\n",
              "        Fwd Seg Size Min     Idle Mean     Idle Std      Idle Max  \\\n",
              "140240                32  1.432490e+15  32752575.90  1.432490e+15   \n",
              "140233                32  1.432490e+15  34434102.73  1.432490e+15   \n",
              "122546                32  1.430000e+15  24608394.66  1.432320e+15   \n",
              "122634                32  1.432320e+15  11624553.52  1.432320e+15   \n",
              "140031                32  1.432490e+15  27333997.21  1.432490e+15   \n",
              "\n",
              "            Idle Min  Label          Label.1  \n",
              "140240  1.432490e+15    VPN  Video-Streaming  \n",
              "140233  1.432490e+15    VPN  Video-Streaming  \n",
              "122546  1.432320e+15    VPN    File-Transfer  \n",
              "122634  1.432320e+15    VPN    File-Transfer  \n",
              "140031  1.432490e+15    VPN  Video-Streaming  \n",
              "\n",
              "[5 rows x 68 columns]"
            ],
            "text/html": [
              "\n",
              "  <div id=\"df-b0bb99c0-d36f-4c7f-a438-9c57e26bd0e9\">\n",
              "    <div class=\"colab-df-container\">\n",
              "      <div>\n",
              "<style scoped>\n",
              "    .dataframe tbody tr th:only-of-type {\n",
              "        vertical-align: middle;\n",
              "    }\n",
              "\n",
              "    .dataframe tbody tr th {\n",
              "        vertical-align: top;\n",
              "    }\n",
              "\n",
              "    .dataframe thead th {\n",
              "        text-align: right;\n",
              "    }\n",
              "</style>\n",
              "<table border=\"1\" class=\"dataframe\">\n",
              "  <thead>\n",
              "    <tr style=\"text-align: right;\">\n",
              "      <th></th>\n",
              "      <th>Src IP</th>\n",
              "      <th>Src Port</th>\n",
              "      <th>Dst IP</th>\n",
              "      <th>Dst Port</th>\n",
              "      <th>Protocol</th>\n",
              "      <th>Flow Duration</th>\n",
              "      <th>Total Fwd Packet</th>\n",
              "      <th>Total Bwd packets</th>\n",
              "      <th>Total Length of Fwd Packet</th>\n",
              "      <th>Total Length of Bwd Packet</th>\n",
              "      <th>...</th>\n",
              "      <th>FWD Init Win Bytes</th>\n",
              "      <th>Bwd Init Win Bytes</th>\n",
              "      <th>Fwd Act Data Pkts</th>\n",
              "      <th>Fwd Seg Size Min</th>\n",
              "      <th>Idle Mean</th>\n",
              "      <th>Idle Std</th>\n",
              "      <th>Idle Max</th>\n",
              "      <th>Idle Min</th>\n",
              "      <th>Label</th>\n",
              "      <th>Label.1</th>\n",
              "    </tr>\n",
              "  </thead>\n",
              "  <tbody>\n",
              "    <tr>\n",
              "      <th>140240</th>\n",
              "      <td>10.8.8.138</td>\n",
              "      <td>43533</td>\n",
              "      <td>185.2.220.137</td>\n",
              "      <td>80</td>\n",
              "      <td>6</td>\n",
              "      <td>118606790</td>\n",
              "      <td>21114</td>\n",
              "      <td>40845</td>\n",
              "      <td>28076</td>\n",
              "      <td>53394404</td>\n",
              "      <td>...</td>\n",
              "      <td>13270</td>\n",
              "      <td>2048</td>\n",
              "      <td>41</td>\n",
              "      <td>32</td>\n",
              "      <td>1.432490e+15</td>\n",
              "      <td>32752575.90</td>\n",
              "      <td>1.432490e+15</td>\n",
              "      <td>1.432490e+15</td>\n",
              "      <td>VPN</td>\n",
              "      <td>Video-Streaming</td>\n",
              "    </tr>\n",
              "    <tr>\n",
              "      <th>140233</th>\n",
              "      <td>10.8.8.138</td>\n",
              "      <td>43533</td>\n",
              "      <td>185.2.220.137</td>\n",
              "      <td>80</td>\n",
              "      <td>6</td>\n",
              "      <td>117720900</td>\n",
              "      <td>21288</td>\n",
              "      <td>41527</td>\n",
              "      <td>30721</td>\n",
              "      <td>54278158</td>\n",
              "      <td>...</td>\n",
              "      <td>2048</td>\n",
              "      <td>2048</td>\n",
              "      <td>44</td>\n",
              "      <td>32</td>\n",
              "      <td>1.432490e+15</td>\n",
              "      <td>34434102.73</td>\n",
              "      <td>1.432490e+15</td>\n",
              "      <td>1.432490e+15</td>\n",
              "      <td>VPN</td>\n",
              "      <td>Video-Streaming</td>\n",
              "    </tr>\n",
              "    <tr>\n",
              "      <th>122546</th>\n",
              "      <td>10.8.8.138</td>\n",
              "      <td>43336</td>\n",
              "      <td>75.101.155.12</td>\n",
              "      <td>22</td>\n",
              "      <td>6</td>\n",
              "      <td>119951862</td>\n",
              "      <td>24085</td>\n",
              "      <td>12997</td>\n",
              "      <td>30643843</td>\n",
              "      <td>166330</td>\n",
              "      <td>...</td>\n",
              "      <td>29200</td>\n",
              "      <td>13364</td>\n",
              "      <td>23959</td>\n",
              "      <td>32</td>\n",
              "      <td>1.430000e+15</td>\n",
              "      <td>24608394.66</td>\n",
              "      <td>1.432320e+15</td>\n",
              "      <td>1.432320e+15</td>\n",
              "      <td>VPN</td>\n",
              "      <td>File-Transfer</td>\n",
              "    </tr>\n",
              "    <tr>\n",
              "      <th>122634</th>\n",
              "      <td>10.8.8.138</td>\n",
              "      <td>45849</td>\n",
              "      <td>204.236.238.164</td>\n",
              "      <td>1781</td>\n",
              "      <td>6</td>\n",
              "      <td>44402284</td>\n",
              "      <td>31667</td>\n",
              "      <td>15833</td>\n",
              "      <td>41312808</td>\n",
              "      <td>4173</td>\n",
              "      <td>...</td>\n",
              "      <td>29200</td>\n",
              "      <td>5073</td>\n",
              "      <td>31659</td>\n",
              "      <td>32</td>\n",
              "      <td>1.432320e+15</td>\n",
              "      <td>11624553.52</td>\n",
              "      <td>1.432320e+15</td>\n",
              "      <td>1.432320e+15</td>\n",
              "      <td>VPN</td>\n",
              "      <td>File-Transfer</td>\n",
              "    </tr>\n",
              "    <tr>\n",
              "      <th>140031</th>\n",
              "      <td>10.8.8.138</td>\n",
              "      <td>43533</td>\n",
              "      <td>185.2.220.137</td>\n",
              "      <td>80</td>\n",
              "      <td>6</td>\n",
              "      <td>117193925</td>\n",
              "      <td>41588</td>\n",
              "      <td>80733</td>\n",
              "      <td>71286</td>\n",
              "      <td>105285555</td>\n",
              "      <td>...</td>\n",
              "      <td>29200</td>\n",
              "      <td>2048</td>\n",
              "      <td>107</td>\n",
              "      <td>32</td>\n",
              "      <td>1.432490e+15</td>\n",
              "      <td>27333997.21</td>\n",
              "      <td>1.432490e+15</td>\n",
              "      <td>1.432490e+15</td>\n",
              "      <td>VPN</td>\n",
              "      <td>Video-Streaming</td>\n",
              "    </tr>\n",
              "  </tbody>\n",
              "</table>\n",
              "<p>5 rows × 68 columns</p>\n",
              "</div>\n",
              "      <button class=\"colab-df-convert\" onclick=\"convertToInteractive('df-b0bb99c0-d36f-4c7f-a438-9c57e26bd0e9')\"\n",
              "              title=\"Convert this dataframe to an interactive table.\"\n",
              "              style=\"display:none;\">\n",
              "        \n",
              "  <svg xmlns=\"http://www.w3.org/2000/svg\" height=\"24px\"viewBox=\"0 0 24 24\"\n",
              "       width=\"24px\">\n",
              "    <path d=\"M0 0h24v24H0V0z\" fill=\"none\"/>\n",
              "    <path d=\"M18.56 5.44l.94 2.06.94-2.06 2.06-.94-2.06-.94-.94-2.06-.94 2.06-2.06.94zm-11 1L8.5 8.5l.94-2.06 2.06-.94-2.06-.94L8.5 2.5l-.94 2.06-2.06.94zm10 10l.94 2.06.94-2.06 2.06-.94-2.06-.94-.94-2.06-.94 2.06-2.06.94z\"/><path d=\"M17.41 7.96l-1.37-1.37c-.4-.4-.92-.59-1.43-.59-.52 0-1.04.2-1.43.59L10.3 9.45l-7.72 7.72c-.78.78-.78 2.05 0 2.83L4 21.41c.39.39.9.59 1.41.59.51 0 1.02-.2 1.41-.59l7.78-7.78 2.81-2.81c.8-.78.8-2.07 0-2.86zM5.41 20L4 18.59l7.72-7.72 1.47 1.35L5.41 20z\"/>\n",
              "  </svg>\n",
              "      </button>\n",
              "      \n",
              "  <style>\n",
              "    .colab-df-container {\n",
              "      display:flex;\n",
              "      flex-wrap:wrap;\n",
              "      gap: 12px;\n",
              "    }\n",
              "\n",
              "    .colab-df-convert {\n",
              "      background-color: #E8F0FE;\n",
              "      border: none;\n",
              "      border-radius: 50%;\n",
              "      cursor: pointer;\n",
              "      display: none;\n",
              "      fill: #1967D2;\n",
              "      height: 32px;\n",
              "      padding: 0 0 0 0;\n",
              "      width: 32px;\n",
              "    }\n",
              "\n",
              "    .colab-df-convert:hover {\n",
              "      background-color: #E2EBFA;\n",
              "      box-shadow: 0px 1px 2px rgba(60, 64, 67, 0.3), 0px 1px 3px 1px rgba(60, 64, 67, 0.15);\n",
              "      fill: #174EA6;\n",
              "    }\n",
              "\n",
              "    [theme=dark] .colab-df-convert {\n",
              "      background-color: #3B4455;\n",
              "      fill: #D2E3FC;\n",
              "    }\n",
              "\n",
              "    [theme=dark] .colab-df-convert:hover {\n",
              "      background-color: #434B5C;\n",
              "      box-shadow: 0px 1px 3px 1px rgba(0, 0, 0, 0.15);\n",
              "      filter: drop-shadow(0px 1px 2px rgba(0, 0, 0, 0.3));\n",
              "      fill: #FFFFFF;\n",
              "    }\n",
              "  </style>\n",
              "\n",
              "      <script>\n",
              "        const buttonEl =\n",
              "          document.querySelector('#df-b0bb99c0-d36f-4c7f-a438-9c57e26bd0e9 button.colab-df-convert');\n",
              "        buttonEl.style.display =\n",
              "          google.colab.kernel.accessAllowed ? 'block' : 'none';\n",
              "\n",
              "        async function convertToInteractive(key) {\n",
              "          const element = document.querySelector('#df-b0bb99c0-d36f-4c7f-a438-9c57e26bd0e9');\n",
              "          const dataTable =\n",
              "            await google.colab.kernel.invokeFunction('convertToInteractive',\n",
              "                                                     [key], {});\n",
              "          if (!dataTable) return;\n",
              "\n",
              "          const docLinkHtml = 'Like what you see? Visit the ' +\n",
              "            '<a target=\"_blank\" href=https://colab.research.google.com/notebooks/data_table.ipynb>data table notebook</a>'\n",
              "            + ' to learn more about interactive tables.';\n",
              "          element.innerHTML = '';\n",
              "          dataTable['output_type'] = 'display_data';\n",
              "          await google.colab.output.renderOutput(dataTable, element);\n",
              "          const docLink = document.createElement('div');\n",
              "          docLink.innerHTML = docLinkHtml;\n",
              "          element.appendChild(docLink);\n",
              "        }\n",
              "      </script>\n",
              "    </div>\n",
              "  </div>\n",
              "  "
            ]
          },
          "metadata": {},
          "execution_count": 10
        }
      ]
    },
    {
      "cell_type": "code",
      "source": [
        "myVPN.to_csv('VPN_sort.csv')"
      ],
      "metadata": {
        "id": "9N9QADXQjlmJ"
      },
      "execution_count": null,
      "outputs": []
    },
    {
      "cell_type": "markdown",
      "source": [
        "# Feature selection"
      ],
      "metadata": {
        "id": "vAGyuMnQ91FI"
      }
    },
    {
      "cell_type": "code",
      "source": [
        "newDarknet = df.filter(['Total Fwd Packet','Fwd Seg Size Min','Bwd Packet Length Min','FWD Init Win Bytes', \\\n",
        "                        'Fwd Act Data Pkts', 'Fwd Packet Length Max', 'Fwd Header Length','Packet Length Min',\\\n",
        "                        'Average Packet Size', 'Fwd Packet Length Mean'],axis=1)\n",
        "#,'FWD Init Win Bytes','FIN Flag Count','Subflow Bwd Bytes',\\\n",
        "                        #'Total Length of Bwd Packet','Flow Packets/s','Fwd Header Length','Bwd Header Length'], axis=1)"
      ],
      "metadata": {
        "id": "u5zi1k6_gyoP"
      },
      "execution_count": null,
      "outputs": []
    },
    {
      "cell_type": "code",
      "source": [
        "newDarknet.to_csv('newdarknet.csv')"
      ],
      "metadata": {
        "id": "gfEcnOCFftS7"
      },
      "execution_count": null,
      "outputs": []
    },
    {
      "cell_type": "code",
      "source": [
        "#make sure that the feature set only contains numeric values\n",
        "#pd.to_numeric(df['Total Fwd Packet'], errors='coerce').notnull().all()\n",
        "#https://stackoverflow.com/questions/54426845/how-to-check-if-a-pandas-dataframe-contains-only-numeric-values-column-wise\n",
        "newDarknet.apply(lambda s: pd.to_numeric(s, errors='coerce').notnull().all())"
      ],
      "metadata": {
        "colab": {
          "base_uri": "https://localhost:8080/"
        },
        "id": "Sqlup-Bw0rqG",
        "outputId": "4f1be0ad-4379-4e05-dc69-d5c8972a8b98"
      },
      "execution_count": null,
      "outputs": [
        {
          "output_type": "execute_result",
          "data": {
            "text/plain": [
              "Total Fwd Packet          True\n",
              "Fwd Seg Size Min          True\n",
              "Bwd Packet Length Min     True\n",
              "FWD Init Win Bytes        True\n",
              "Fwd Act Data Pkts         True\n",
              "Fwd Packet Length Max     True\n",
              "Fwd Header Length         True\n",
              "Packet Length Min         True\n",
              "Average Packet Size       True\n",
              "Fwd Packet Length Mean    True\n",
              "dtype: bool"
            ]
          },
          "metadata": {},
          "execution_count": 9
        }
      ]
    },
    {
      "cell_type": "code",
      "source": [
        "target=df.filter(['Label'], axis=1)"
      ],
      "metadata": {
        "id": "o3qa-WabGsqF"
      },
      "execution_count": null,
      "outputs": []
    },
    {
      "cell_type": "code",
      "source": [
        "target.loc[0]"
      ],
      "metadata": {
        "colab": {
          "base_uri": "https://localhost:8080/"
        },
        "id": "wSCZ2Svyn9jt",
        "outputId": "dd6d6066-e174-490d-cc9a-b6c4b4601241"
      },
      "execution_count": null,
      "outputs": [
        {
          "output_type": "execute_result",
          "data": {
            "text/plain": [
              "Label    Non-Tor\n",
              "Name: 0, dtype: object"
            ]
          },
          "metadata": {},
          "execution_count": 75
        }
      ]
    },
    {
      "cell_type": "code",
      "source": [
        "target=target.replace('Non-Tor',0)\n",
        "target=target.replace('NonVPN',0)\n",
        "target=target.replace('VPN',10)\n",
        "target=target.replace('Tor',10)"
      ],
      "metadata": {
        "id": "YqPJWTN-CZb7"
      },
      "execution_count": null,
      "outputs": []
    },
    {
      "cell_type": "code",
      "source": [
        "#newDarknet=newDarknet.to_numpy()\n",
        "'''newDarknet=newDarknet.transpose()\n",
        "target=target.transpose()'''"
      ],
      "metadata": {
        "id": "bM51yOFRETW3",
        "colab": {
          "base_uri": "https://localhost:8080/",
          "height": 37
        },
        "outputId": "9639e53c-c620-4c39-ca8b-36cdcc2471d8"
      },
      "execution_count": null,
      "outputs": [
        {
          "output_type": "execute_result",
          "data": {
            "text/plain": [
              "'newDarknet=newDarknet.transpose()\\ntarget=target.transpose()'"
            ],
            "application/vnd.google.colaboratory.intrinsic+json": {
              "type": "string"
            }
          },
          "metadata": {},
          "execution_count": 8
        }
      ]
    },
    {
      "cell_type": "code",
      "source": [
        "print(target.shape)\n",
        "print(newDarknet.shape)"
      ],
      "metadata": {
        "colab": {
          "base_uri": "https://localhost:8080/"
        },
        "id": "usCheyZEHUAu",
        "outputId": "21bda884-7d53-4eae-a264-eb50c278334e"
      },
      "execution_count": null,
      "outputs": [
        {
          "output_type": "stream",
          "name": "stdout",
          "text": [
            "(141483, 1)\n",
            "(141483, 10)\n"
          ]
        }
      ]
    },
    {
      "cell_type": "code",
      "source": [
        "print(target)"
      ],
      "metadata": {
        "colab": {
          "base_uri": "https://localhost:8080/"
        },
        "id": "OtK64IycFH-n",
        "outputId": "0efe3f4e-97b8-4c48-b495-6b1fb371b53a"
      },
      "execution_count": null,
      "outputs": [
        {
          "output_type": "stream",
          "name": "stdout",
          "text": [
            "        Label\n",
            "0           0\n",
            "1           0\n",
            "2           0\n",
            "3           0\n",
            "4           0\n",
            "...       ...\n",
            "141525     10\n",
            "141526     10\n",
            "141527     10\n",
            "141528     10\n",
            "141529     10\n",
            "\n",
            "[141483 rows x 1 columns]\n"
          ]
        }
      ]
    },
    {
      "cell_type": "markdown",
      "source": [
        "# Classification darknet and regular"
      ],
      "metadata": {
        "id": "h5I-YeUaMcwO"
      }
    },
    {
      "cell_type": "markdown",
      "source": [
        "## KNN classification Sklearn##"
      ],
      "metadata": {
        "id": "YuJYgEMV2QCL"
      }
    },
    {
      "cell_type": "code",
      "source": [
        "from sklearn.neighbors import KNeighborsClassifier\n",
        "from sklearn.model_selection import train_test_split\n",
        "import sys\n",
        "# Create feature and target arrays\n",
        "X = newDarknet\n",
        "y = target\n",
        "# Split into training and test set\n",
        "X_train, X_test, y_train, y_test = train_test_split(X, y, test_size = 0.2, random_state=1)\n",
        "print(\"Train Size: \", len(y_train))\n",
        "print(\"Test Size: \", len(y_test))"
      ],
      "metadata": {
        "id": "y8wcz0TB2bIv",
        "colab": {
          "base_uri": "https://localhost:8080/"
        },
        "outputId": "f9760625-07a2-4e6f-acc5-94c36741f778"
      },
      "execution_count": null,
      "outputs": [
        {
          "output_type": "stream",
          "name": "stdout",
          "text": [
            "Train Size:  113186\n",
            "Test Size:  28297\n"
          ]
        }
      ]
    },
    {
      "cell_type": "code",
      "source": [
        "myout=X_test.to_numpy()"
      ],
      "metadata": {
        "id": "AfOTmIU3zumH"
      },
      "execution_count": null,
      "outputs": []
    },
    {
      "cell_type": "code",
      "source": [
        "from numpy import savetxt\n",
        "savetxt('data.csv', myout, delimiter=',')"
      ],
      "metadata": {
        "id": "NK2s3UgU0GZe"
      },
      "execution_count": null,
      "outputs": []
    },
    {
      "cell_type": "code",
      "source": [],
      "metadata": {
        "id": "OE3bG10W0Gf8"
      },
      "execution_count": null,
      "outputs": []
    },
    {
      "cell_type": "code",
      "source": [
        "print(y_train)"
      ],
      "metadata": {
        "colab": {
          "base_uri": "https://localhost:8080/"
        },
        "id": "i8FD1gK7kv-r",
        "outputId": "36100856-f45c-41ef-bfef-94ebbc6d112c"
      },
      "execution_count": null,
      "outputs": [
        {
          "output_type": "stream",
          "name": "stdout",
          "text": [
            "        Label\n",
            "123127     10\n",
            "63943       0\n",
            "85965       0\n",
            "14077       0\n",
            "44712       0\n",
            "...       ...\n",
            "73362       0\n",
            "109306      0\n",
            "50070       0\n",
            "5192        0\n",
            "128084     10\n",
            "\n",
            "[113186 rows x 1 columns]\n"
          ]
        }
      ]
    },
    {
      "cell_type": "code",
      "source": [
        "k_model = KNeighborsClassifier(n_neighbors=5)\n",
        "k_model.fit(X_train, y_train)\n",
        "\n",
        "# test model using test dataset\n",
        "result=k_model.predict(X_test)\n",
        "#np.set_printoptions(threshold=sys.maxsize)\n",
        "#print(irisData)\n",
        "print(result)"
      ],
      "metadata": {
        "colab": {
          "base_uri": "https://localhost:8080/"
        },
        "id": "J-K6HCPyc88c",
        "outputId": "32f6b722-7258-4d50-8c27-6ef5f7d31b14"
      },
      "execution_count": null,
      "outputs": [
        {
          "output_type": "stream",
          "name": "stderr",
          "text": [
            "/usr/local/lib/python3.9/dist-packages/sklearn/neighbors/_classification.py:215: DataConversionWarning:\n",
            "\n",
            "A column-vector y was passed when a 1d array was expected. Please change the shape of y to (n_samples,), for example using ravel().\n",
            "\n"
          ]
        },
        {
          "output_type": "stream",
          "name": "stdout",
          "text": [
            "[0 0 0 ... 0 0 0]\n"
          ]
        }
      ]
    },
    {
      "cell_type": "code",
      "source": [
        "y_test2=y_test.to_numpy()\n",
        "comp=pd.DataFrame({'True': y_test2.flatten(), 'Predicted': result})\n",
        "comp"
      ],
      "metadata": {
        "id": "pI6qAF83-IdA",
        "colab": {
          "base_uri": "https://localhost:8080/",
          "height": 419
        },
        "outputId": "ab981643-3de3-453f-d241-b5516794cf02"
      },
      "execution_count": null,
      "outputs": [
        {
          "output_type": "execute_result",
          "data": {
            "text/plain": [
              "       True  Predicted\n",
              "0         0          0\n",
              "1         0          0\n",
              "2         0          0\n",
              "3         0          0\n",
              "4         0          0\n",
              "...     ...        ...\n",
              "28292     0          0\n",
              "28293    10         10\n",
              "28294     0          0\n",
              "28295     0          0\n",
              "28296     0          0\n",
              "\n",
              "[28297 rows x 2 columns]"
            ],
            "text/html": [
              "\n",
              "  <div id=\"df-2051ac9f-7ac0-48eb-9bd7-8f1f9d35ed19\">\n",
              "    <div class=\"colab-df-container\">\n",
              "      <div>\n",
              "<style scoped>\n",
              "    .dataframe tbody tr th:only-of-type {\n",
              "        vertical-align: middle;\n",
              "    }\n",
              "\n",
              "    .dataframe tbody tr th {\n",
              "        vertical-align: top;\n",
              "    }\n",
              "\n",
              "    .dataframe thead th {\n",
              "        text-align: right;\n",
              "    }\n",
              "</style>\n",
              "<table border=\"1\" class=\"dataframe\">\n",
              "  <thead>\n",
              "    <tr style=\"text-align: right;\">\n",
              "      <th></th>\n",
              "      <th>True</th>\n",
              "      <th>Predicted</th>\n",
              "    </tr>\n",
              "  </thead>\n",
              "  <tbody>\n",
              "    <tr>\n",
              "      <th>0</th>\n",
              "      <td>0</td>\n",
              "      <td>0</td>\n",
              "    </tr>\n",
              "    <tr>\n",
              "      <th>1</th>\n",
              "      <td>0</td>\n",
              "      <td>0</td>\n",
              "    </tr>\n",
              "    <tr>\n",
              "      <th>2</th>\n",
              "      <td>0</td>\n",
              "      <td>0</td>\n",
              "    </tr>\n",
              "    <tr>\n",
              "      <th>3</th>\n",
              "      <td>0</td>\n",
              "      <td>0</td>\n",
              "    </tr>\n",
              "    <tr>\n",
              "      <th>4</th>\n",
              "      <td>0</td>\n",
              "      <td>0</td>\n",
              "    </tr>\n",
              "    <tr>\n",
              "      <th>...</th>\n",
              "      <td>...</td>\n",
              "      <td>...</td>\n",
              "    </tr>\n",
              "    <tr>\n",
              "      <th>28292</th>\n",
              "      <td>0</td>\n",
              "      <td>0</td>\n",
              "    </tr>\n",
              "    <tr>\n",
              "      <th>28293</th>\n",
              "      <td>10</td>\n",
              "      <td>10</td>\n",
              "    </tr>\n",
              "    <tr>\n",
              "      <th>28294</th>\n",
              "      <td>0</td>\n",
              "      <td>0</td>\n",
              "    </tr>\n",
              "    <tr>\n",
              "      <th>28295</th>\n",
              "      <td>0</td>\n",
              "      <td>0</td>\n",
              "    </tr>\n",
              "    <tr>\n",
              "      <th>28296</th>\n",
              "      <td>0</td>\n",
              "      <td>0</td>\n",
              "    </tr>\n",
              "  </tbody>\n",
              "</table>\n",
              "<p>28297 rows × 2 columns</p>\n",
              "</div>\n",
              "      <button class=\"colab-df-convert\" onclick=\"convertToInteractive('df-2051ac9f-7ac0-48eb-9bd7-8f1f9d35ed19')\"\n",
              "              title=\"Convert this dataframe to an interactive table.\"\n",
              "              style=\"display:none;\">\n",
              "        \n",
              "  <svg xmlns=\"http://www.w3.org/2000/svg\" height=\"24px\"viewBox=\"0 0 24 24\"\n",
              "       width=\"24px\">\n",
              "    <path d=\"M0 0h24v24H0V0z\" fill=\"none\"/>\n",
              "    <path d=\"M18.56 5.44l.94 2.06.94-2.06 2.06-.94-2.06-.94-.94-2.06-.94 2.06-2.06.94zm-11 1L8.5 8.5l.94-2.06 2.06-.94-2.06-.94L8.5 2.5l-.94 2.06-2.06.94zm10 10l.94 2.06.94-2.06 2.06-.94-2.06-.94-.94-2.06-.94 2.06-2.06.94z\"/><path d=\"M17.41 7.96l-1.37-1.37c-.4-.4-.92-.59-1.43-.59-.52 0-1.04.2-1.43.59L10.3 9.45l-7.72 7.72c-.78.78-.78 2.05 0 2.83L4 21.41c.39.39.9.59 1.41.59.51 0 1.02-.2 1.41-.59l7.78-7.78 2.81-2.81c.8-.78.8-2.07 0-2.86zM5.41 20L4 18.59l7.72-7.72 1.47 1.35L5.41 20z\"/>\n",
              "  </svg>\n",
              "      </button>\n",
              "      \n",
              "  <style>\n",
              "    .colab-df-container {\n",
              "      display:flex;\n",
              "      flex-wrap:wrap;\n",
              "      gap: 12px;\n",
              "    }\n",
              "\n",
              "    .colab-df-convert {\n",
              "      background-color: #E8F0FE;\n",
              "      border: none;\n",
              "      border-radius: 50%;\n",
              "      cursor: pointer;\n",
              "      display: none;\n",
              "      fill: #1967D2;\n",
              "      height: 32px;\n",
              "      padding: 0 0 0 0;\n",
              "      width: 32px;\n",
              "    }\n",
              "\n",
              "    .colab-df-convert:hover {\n",
              "      background-color: #E2EBFA;\n",
              "      box-shadow: 0px 1px 2px rgba(60, 64, 67, 0.3), 0px 1px 3px 1px rgba(60, 64, 67, 0.15);\n",
              "      fill: #174EA6;\n",
              "    }\n",
              "\n",
              "    [theme=dark] .colab-df-convert {\n",
              "      background-color: #3B4455;\n",
              "      fill: #D2E3FC;\n",
              "    }\n",
              "\n",
              "    [theme=dark] .colab-df-convert:hover {\n",
              "      background-color: #434B5C;\n",
              "      box-shadow: 0px 1px 3px 1px rgba(0, 0, 0, 0.15);\n",
              "      filter: drop-shadow(0px 1px 2px rgba(0, 0, 0, 0.3));\n",
              "      fill: #FFFFFF;\n",
              "    }\n",
              "  </style>\n",
              "\n",
              "      <script>\n",
              "        const buttonEl =\n",
              "          document.querySelector('#df-2051ac9f-7ac0-48eb-9bd7-8f1f9d35ed19 button.colab-df-convert');\n",
              "        buttonEl.style.display =\n",
              "          google.colab.kernel.accessAllowed ? 'block' : 'none';\n",
              "\n",
              "        async function convertToInteractive(key) {\n",
              "          const element = document.querySelector('#df-2051ac9f-7ac0-48eb-9bd7-8f1f9d35ed19');\n",
              "          const dataTable =\n",
              "            await google.colab.kernel.invokeFunction('convertToInteractive',\n",
              "                                                     [key], {});\n",
              "          if (!dataTable) return;\n",
              "\n",
              "          const docLinkHtml = 'Like what you see? Visit the ' +\n",
              "            '<a target=\"_blank\" href=https://colab.research.google.com/notebooks/data_table.ipynb>data table notebook</a>'\n",
              "            + ' to learn more about interactive tables.';\n",
              "          element.innerHTML = '';\n",
              "          dataTable['output_type'] = 'display_data';\n",
              "          await google.colab.output.renderOutput(dataTable, element);\n",
              "          const docLink = document.createElement('div');\n",
              "          docLink.innerHTML = docLinkHtml;\n",
              "          element.appendChild(docLink);\n",
              "        }\n",
              "      </script>\n",
              "    </div>\n",
              "  </div>\n",
              "  "
            ]
          },
          "metadata": {},
          "execution_count": 47
        }
      ]
    },
    {
      "cell_type": "code",
      "source": [
        "from sklearn.metrics import accuracy_score\n",
        "from sklearn import metrics\n",
        "print('Accuracy:', accuracy_score(result,y_test))\n",
        "print('Mean Squared Error:', metrics.mean_squared_error(y_test, result))\n",
        "print('Root Mean Squared Error:', np.sqrt(metrics.mean_squared_error(y_test, result)))"
      ],
      "metadata": {
        "colab": {
          "base_uri": "https://localhost:8080/"
        },
        "id": "aT4mvaK4Rv0t",
        "outputId": "14b8df59-c5c7-47f4-f7e3-0d9a3781a789"
      },
      "execution_count": null,
      "outputs": [
        {
          "output_type": "stream",
          "name": "stdout",
          "text": [
            "Accuracy: 0.939675583984168\n",
            "Mean Squared Error: 6.032441601583207\n",
            "Root Mean Squared Error: 2.456102929761537\n"
          ]
        }
      ]
    },
    {
      "cell_type": "code",
      "source": [
        "print(target)"
      ],
      "metadata": {
        "colab": {
          "base_uri": "https://localhost:8080/"
        },
        "id": "BFpugkK7iiAZ",
        "outputId": "d3013466-d52d-4e75-ecab-165453e7f7c2"
      },
      "execution_count": null,
      "outputs": [
        {
          "output_type": "stream",
          "name": "stdout",
          "text": [
            "        Label\n",
            "0           0\n",
            "1           0\n",
            "2           0\n",
            "3           0\n",
            "4           0\n",
            "...       ...\n",
            "141525     10\n",
            "141526     10\n",
            "141527     10\n",
            "141528     10\n",
            "141529     10\n",
            "\n",
            "[141483 rows x 1 columns]\n"
          ]
        }
      ]
    },
    {
      "cell_type": "code",
      "source": [
        "from sklearn.metrics import confusion_matrix\n",
        "cmtx = confusion_matrix(y_test, k_model.predict(X_test))\n",
        "cmtx"
      ],
      "metadata": {
        "colab": {
          "base_uri": "https://localhost:8080/"
        },
        "id": "KBQwHhGpiogA",
        "outputId": "031c3f7c-c623-42e9-ba9f-e2fa2ab32ca0"
      },
      "execution_count": null,
      "outputs": [
        {
          "output_type": "execute_result",
          "data": {
            "text/plain": [
              "array([[22434,   963],\n",
              "       [  744,  4156]])"
            ]
          },
          "metadata": {},
          "execution_count": 82
        }
      ]
    },
    {
      "cell_type": "code",
      "source": [
        "import plotly.figure_factory as ff\n",
        "\n",
        "fig = ff.create_annotated_heatmap(z=cmtx, showscale=True)\n",
        "fig.update_layout(font=dict(size=20))\n",
        "# Add Labels\n",
        "fig.add_annotation(x=0,y=0, text=\"Act Reg-Pred Reg\", yshift=20, showarrow=False, font=dict(color=\"black\",size=20))\n",
        "fig.add_annotation(x=1,y=0, text=\"Act Reg-Pred Tor\", yshift=20, showarrow=False, font=dict(color=\"white\",size=20))\n",
        "fig.add_annotation(x=2,y=0, text=\"Act Reg-Pred VPN\", yshift=20, showarrow=False, font=dict(color=\"white\",size=20))\n",
        "\n",
        "fig.add_annotation(x=0,y=1, text=\"Act VPN-Pred Reg\", yshift=20, showarrow=False, font=dict(color=\"white\",size=20))\n",
        "fig.add_annotation(x=1,y=1, text=\"Act VPN-Pred VPN\", yshift=20, showarrow=False, font=dict(color=\"white\",size=20))\n",
        "fig.add_annotation(x=2,y=1, text=\"Act VPN-Pred Tor\", yshift=20, showarrow=False, font=dict(color=\"white\",size=20))\n",
        "\n",
        "fig.add_annotation(x=0,y=2, text=\"Act Tor-Pred Reg\", yshift=20, showarrow=False, font=dict(color=\"white\",size=20))\n",
        "fig.add_annotation(x=1,y=2, text=\"Act Tor-Pred VPN\", yshift=20, showarrow=False, font=dict(color=\"white\",size=20))\n",
        "fig.add_annotation(x=2,y=2, text=\"Act Tor-Pred Tor\", yshift=20, showarrow=False, font=dict(color=\"white\",size=20))\n",
        "\n",
        "fig.update_xaxes(title=\"Predicted\")\n",
        "fig.update_yaxes(title=\"Actual\", autorange=\"reversed\")"
      ],
      "metadata": {
        "id": "779WlhDjkOmR",
        "colab": {
          "base_uri": "https://localhost:8080/",
          "height": 542
        },
        "outputId": "e3d811cb-369d-4110-b0a2-6b9c7c245aca"
      },
      "execution_count": null,
      "outputs": [
        {
          "output_type": "display_data",
          "data": {
            "text/html": [
              "<html>\n",
              "<head><meta charset=\"utf-8\" /></head>\n",
              "<body>\n",
              "    <div>            <script src=\"https://cdnjs.cloudflare.com/ajax/libs/mathjax/2.7.5/MathJax.js?config=TeX-AMS-MML_SVG\"></script><script type=\"text/javascript\">if (window.MathJax) {MathJax.Hub.Config({SVG: {font: \"STIX-Web\"}});}</script>                <script type=\"text/javascript\">window.PlotlyConfig = {MathJaxConfig: 'local'};</script>\n",
              "        <script src=\"https://cdn.plot.ly/plotly-2.8.3.min.js\"></script>                <div id=\"7423eef6-d1c7-4009-ba33-307ccbd51caa\" class=\"plotly-graph-div\" style=\"height:525px; width:100%;\"></div>            <script type=\"text/javascript\">                                    window.PLOTLYENV=window.PLOTLYENV || {};                                    if (document.getElementById(\"7423eef6-d1c7-4009-ba33-307ccbd51caa\")) {                    Plotly.newPlot(                        \"7423eef6-d1c7-4009-ba33-307ccbd51caa\",                        [{\"colorscale\":[[0.0,\"#0d0887\"],[0.1111111111111111,\"#46039f\"],[0.2222222222222222,\"#7201a8\"],[0.3333333333333333,\"#9c179e\"],[0.4444444444444444,\"#bd3786\"],[0.5555555555555556,\"#d8576b\"],[0.6666666666666666,\"#ed7953\"],[0.7777777777777778,\"#fb9f3a\"],[0.8888888888888888,\"#fdca26\"],[1.0,\"#f0f921\"]],\"reversescale\":false,\"showscale\":true,\"z\":[[22434,963],[744,4156]],\"type\":\"heatmap\"}],                        {\"annotations\":[{\"font\":{\"color\":\"#000000\"},\"showarrow\":false,\"text\":\"22434\",\"x\":0,\"xref\":\"x\",\"y\":0,\"yref\":\"y\"},{\"font\":{\"color\":\"#FFFFFF\"},\"showarrow\":false,\"text\":\"963\",\"x\":1,\"xref\":\"x\",\"y\":0,\"yref\":\"y\"},{\"font\":{\"color\":\"#FFFFFF\"},\"showarrow\":false,\"text\":\"744\",\"x\":0,\"xref\":\"x\",\"y\":1,\"yref\":\"y\"},{\"font\":{\"color\":\"#FFFFFF\"},\"showarrow\":false,\"text\":\"4156\",\"x\":1,\"xref\":\"x\",\"y\":1,\"yref\":\"y\"},{\"font\":{\"color\":\"black\",\"size\":20},\"showarrow\":false,\"text\":\"Act Reg-Pred Reg\",\"x\":0,\"y\":0,\"yshift\":20},{\"font\":{\"color\":\"white\",\"size\":20},\"showarrow\":false,\"text\":\"Act Reg-Pred Tor\",\"x\":1,\"y\":0,\"yshift\":20},{\"font\":{\"color\":\"white\",\"size\":20},\"showarrow\":false,\"text\":\"Act Reg-Pred VPN\",\"x\":2,\"y\":0,\"yshift\":20},{\"font\":{\"color\":\"white\",\"size\":20},\"showarrow\":false,\"text\":\"Act VPN-Pred Reg\",\"x\":0,\"y\":1,\"yshift\":20},{\"font\":{\"color\":\"white\",\"size\":20},\"showarrow\":false,\"text\":\"Act VPN-Pred VPN\",\"x\":1,\"y\":1,\"yshift\":20},{\"font\":{\"color\":\"white\",\"size\":20},\"showarrow\":false,\"text\":\"Act VPN-Pred Tor\",\"x\":2,\"y\":1,\"yshift\":20},{\"font\":{\"color\":\"white\",\"size\":20},\"showarrow\":false,\"text\":\"Act Tor-Pred Reg\",\"x\":0,\"y\":2,\"yshift\":20},{\"font\":{\"color\":\"white\",\"size\":20},\"showarrow\":false,\"text\":\"Act Tor-Pred VPN\",\"x\":1,\"y\":2,\"yshift\":20},{\"font\":{\"color\":\"white\",\"size\":20},\"showarrow\":false,\"text\":\"Act Tor-Pred Tor\",\"x\":2,\"y\":2,\"yshift\":20}],\"xaxis\":{\"gridcolor\":\"rgb(0, 0, 0)\",\"showticklabels\":false,\"side\":\"top\",\"ticks\":\"\",\"title\":{\"text\":\"Predicted\"}},\"yaxis\":{\"showticklabels\":false,\"ticks\":\"\",\"ticksuffix\":\"  \",\"title\":{\"text\":\"Actual\"},\"autorange\":\"reversed\"},\"template\":{\"data\":{\"bar\":[{\"error_x\":{\"color\":\"#2a3f5f\"},\"error_y\":{\"color\":\"#2a3f5f\"},\"marker\":{\"line\":{\"color\":\"#E5ECF6\",\"width\":0.5},\"pattern\":{\"fillmode\":\"overlay\",\"size\":10,\"solidity\":0.2}},\"type\":\"bar\"}],\"barpolar\":[{\"marker\":{\"line\":{\"color\":\"#E5ECF6\",\"width\":0.5},\"pattern\":{\"fillmode\":\"overlay\",\"size\":10,\"solidity\":0.2}},\"type\":\"barpolar\"}],\"carpet\":[{\"aaxis\":{\"endlinecolor\":\"#2a3f5f\",\"gridcolor\":\"white\",\"linecolor\":\"white\",\"minorgridcolor\":\"white\",\"startlinecolor\":\"#2a3f5f\"},\"baxis\":{\"endlinecolor\":\"#2a3f5f\",\"gridcolor\":\"white\",\"linecolor\":\"white\",\"minorgridcolor\":\"white\",\"startlinecolor\":\"#2a3f5f\"},\"type\":\"carpet\"}],\"choropleth\":[{\"colorbar\":{\"outlinewidth\":0,\"ticks\":\"\"},\"type\":\"choropleth\"}],\"contour\":[{\"colorbar\":{\"outlinewidth\":0,\"ticks\":\"\"},\"colorscale\":[[0.0,\"#0d0887\"],[0.1111111111111111,\"#46039f\"],[0.2222222222222222,\"#7201a8\"],[0.3333333333333333,\"#9c179e\"],[0.4444444444444444,\"#bd3786\"],[0.5555555555555556,\"#d8576b\"],[0.6666666666666666,\"#ed7953\"],[0.7777777777777778,\"#fb9f3a\"],[0.8888888888888888,\"#fdca26\"],[1.0,\"#f0f921\"]],\"type\":\"contour\"}],\"contourcarpet\":[{\"colorbar\":{\"outlinewidth\":0,\"ticks\":\"\"},\"type\":\"contourcarpet\"}],\"heatmap\":[{\"colorbar\":{\"outlinewidth\":0,\"ticks\":\"\"},\"colorscale\":[[0.0,\"#0d0887\"],[0.1111111111111111,\"#46039f\"],[0.2222222222222222,\"#7201a8\"],[0.3333333333333333,\"#9c179e\"],[0.4444444444444444,\"#bd3786\"],[0.5555555555555556,\"#d8576b\"],[0.6666666666666666,\"#ed7953\"],[0.7777777777777778,\"#fb9f3a\"],[0.8888888888888888,\"#fdca26\"],[1.0,\"#f0f921\"]],\"type\":\"heatmap\"}],\"heatmapgl\":[{\"colorbar\":{\"outlinewidth\":0,\"ticks\":\"\"},\"colorscale\":[[0.0,\"#0d0887\"],[0.1111111111111111,\"#46039f\"],[0.2222222222222222,\"#7201a8\"],[0.3333333333333333,\"#9c179e\"],[0.4444444444444444,\"#bd3786\"],[0.5555555555555556,\"#d8576b\"],[0.6666666666666666,\"#ed7953\"],[0.7777777777777778,\"#fb9f3a\"],[0.8888888888888888,\"#fdca26\"],[1.0,\"#f0f921\"]],\"type\":\"heatmapgl\"}],\"histogram\":[{\"marker\":{\"pattern\":{\"fillmode\":\"overlay\",\"size\":10,\"solidity\":0.2}},\"type\":\"histogram\"}],\"histogram2d\":[{\"colorbar\":{\"outlinewidth\":0,\"ticks\":\"\"},\"colorscale\":[[0.0,\"#0d0887\"],[0.1111111111111111,\"#46039f\"],[0.2222222222222222,\"#7201a8\"],[0.3333333333333333,\"#9c179e\"],[0.4444444444444444,\"#bd3786\"],[0.5555555555555556,\"#d8576b\"],[0.6666666666666666,\"#ed7953\"],[0.7777777777777778,\"#fb9f3a\"],[0.8888888888888888,\"#fdca26\"],[1.0,\"#f0f921\"]],\"type\":\"histogram2d\"}],\"histogram2dcontour\":[{\"colorbar\":{\"outlinewidth\":0,\"ticks\":\"\"},\"colorscale\":[[0.0,\"#0d0887\"],[0.1111111111111111,\"#46039f\"],[0.2222222222222222,\"#7201a8\"],[0.3333333333333333,\"#9c179e\"],[0.4444444444444444,\"#bd3786\"],[0.5555555555555556,\"#d8576b\"],[0.6666666666666666,\"#ed7953\"],[0.7777777777777778,\"#fb9f3a\"],[0.8888888888888888,\"#fdca26\"],[1.0,\"#f0f921\"]],\"type\":\"histogram2dcontour\"}],\"mesh3d\":[{\"colorbar\":{\"outlinewidth\":0,\"ticks\":\"\"},\"type\":\"mesh3d\"}],\"parcoords\":[{\"line\":{\"colorbar\":{\"outlinewidth\":0,\"ticks\":\"\"}},\"type\":\"parcoords\"}],\"pie\":[{\"automargin\":true,\"type\":\"pie\"}],\"scatter\":[{\"marker\":{\"colorbar\":{\"outlinewidth\":0,\"ticks\":\"\"}},\"type\":\"scatter\"}],\"scatter3d\":[{\"line\":{\"colorbar\":{\"outlinewidth\":0,\"ticks\":\"\"}},\"marker\":{\"colorbar\":{\"outlinewidth\":0,\"ticks\":\"\"}},\"type\":\"scatter3d\"}],\"scattercarpet\":[{\"marker\":{\"colorbar\":{\"outlinewidth\":0,\"ticks\":\"\"}},\"type\":\"scattercarpet\"}],\"scattergeo\":[{\"marker\":{\"colorbar\":{\"outlinewidth\":0,\"ticks\":\"\"}},\"type\":\"scattergeo\"}],\"scattergl\":[{\"marker\":{\"colorbar\":{\"outlinewidth\":0,\"ticks\":\"\"}},\"type\":\"scattergl\"}],\"scattermapbox\":[{\"marker\":{\"colorbar\":{\"outlinewidth\":0,\"ticks\":\"\"}},\"type\":\"scattermapbox\"}],\"scatterpolar\":[{\"marker\":{\"colorbar\":{\"outlinewidth\":0,\"ticks\":\"\"}},\"type\":\"scatterpolar\"}],\"scatterpolargl\":[{\"marker\":{\"colorbar\":{\"outlinewidth\":0,\"ticks\":\"\"}},\"type\":\"scatterpolargl\"}],\"scatterternary\":[{\"marker\":{\"colorbar\":{\"outlinewidth\":0,\"ticks\":\"\"}},\"type\":\"scatterternary\"}],\"surface\":[{\"colorbar\":{\"outlinewidth\":0,\"ticks\":\"\"},\"colorscale\":[[0.0,\"#0d0887\"],[0.1111111111111111,\"#46039f\"],[0.2222222222222222,\"#7201a8\"],[0.3333333333333333,\"#9c179e\"],[0.4444444444444444,\"#bd3786\"],[0.5555555555555556,\"#d8576b\"],[0.6666666666666666,\"#ed7953\"],[0.7777777777777778,\"#fb9f3a\"],[0.8888888888888888,\"#fdca26\"],[1.0,\"#f0f921\"]],\"type\":\"surface\"}],\"table\":[{\"cells\":{\"fill\":{\"color\":\"#EBF0F8\"},\"line\":{\"color\":\"white\"}},\"header\":{\"fill\":{\"color\":\"#C8D4E3\"},\"line\":{\"color\":\"white\"}},\"type\":\"table\"}]},\"layout\":{\"annotationdefaults\":{\"arrowcolor\":\"#2a3f5f\",\"arrowhead\":0,\"arrowwidth\":1},\"autotypenumbers\":\"strict\",\"coloraxis\":{\"colorbar\":{\"outlinewidth\":0,\"ticks\":\"\"}},\"colorscale\":{\"diverging\":[[0,\"#8e0152\"],[0.1,\"#c51b7d\"],[0.2,\"#de77ae\"],[0.3,\"#f1b6da\"],[0.4,\"#fde0ef\"],[0.5,\"#f7f7f7\"],[0.6,\"#e6f5d0\"],[0.7,\"#b8e186\"],[0.8,\"#7fbc41\"],[0.9,\"#4d9221\"],[1,\"#276419\"]],\"sequential\":[[0.0,\"#0d0887\"],[0.1111111111111111,\"#46039f\"],[0.2222222222222222,\"#7201a8\"],[0.3333333333333333,\"#9c179e\"],[0.4444444444444444,\"#bd3786\"],[0.5555555555555556,\"#d8576b\"],[0.6666666666666666,\"#ed7953\"],[0.7777777777777778,\"#fb9f3a\"],[0.8888888888888888,\"#fdca26\"],[1.0,\"#f0f921\"]],\"sequentialminus\":[[0.0,\"#0d0887\"],[0.1111111111111111,\"#46039f\"],[0.2222222222222222,\"#7201a8\"],[0.3333333333333333,\"#9c179e\"],[0.4444444444444444,\"#bd3786\"],[0.5555555555555556,\"#d8576b\"],[0.6666666666666666,\"#ed7953\"],[0.7777777777777778,\"#fb9f3a\"],[0.8888888888888888,\"#fdca26\"],[1.0,\"#f0f921\"]]},\"colorway\":[\"#636efa\",\"#EF553B\",\"#00cc96\",\"#ab63fa\",\"#FFA15A\",\"#19d3f3\",\"#FF6692\",\"#B6E880\",\"#FF97FF\",\"#FECB52\"],\"font\":{\"color\":\"#2a3f5f\"},\"geo\":{\"bgcolor\":\"white\",\"lakecolor\":\"white\",\"landcolor\":\"#E5ECF6\",\"showlakes\":true,\"showland\":true,\"subunitcolor\":\"white\"},\"hoverlabel\":{\"align\":\"left\"},\"hovermode\":\"closest\",\"mapbox\":{\"style\":\"light\"},\"paper_bgcolor\":\"white\",\"plot_bgcolor\":\"#E5ECF6\",\"polar\":{\"angularaxis\":{\"gridcolor\":\"white\",\"linecolor\":\"white\",\"ticks\":\"\"},\"bgcolor\":\"#E5ECF6\",\"radialaxis\":{\"gridcolor\":\"white\",\"linecolor\":\"white\",\"ticks\":\"\"}},\"scene\":{\"xaxis\":{\"backgroundcolor\":\"#E5ECF6\",\"gridcolor\":\"white\",\"gridwidth\":2,\"linecolor\":\"white\",\"showbackground\":true,\"ticks\":\"\",\"zerolinecolor\":\"white\"},\"yaxis\":{\"backgroundcolor\":\"#E5ECF6\",\"gridcolor\":\"white\",\"gridwidth\":2,\"linecolor\":\"white\",\"showbackground\":true,\"ticks\":\"\",\"zerolinecolor\":\"white\"},\"zaxis\":{\"backgroundcolor\":\"#E5ECF6\",\"gridcolor\":\"white\",\"gridwidth\":2,\"linecolor\":\"white\",\"showbackground\":true,\"ticks\":\"\",\"zerolinecolor\":\"white\"}},\"shapedefaults\":{\"line\":{\"color\":\"#2a3f5f\"}},\"ternary\":{\"aaxis\":{\"gridcolor\":\"white\",\"linecolor\":\"white\",\"ticks\":\"\"},\"baxis\":{\"gridcolor\":\"white\",\"linecolor\":\"white\",\"ticks\":\"\"},\"bgcolor\":\"#E5ECF6\",\"caxis\":{\"gridcolor\":\"white\",\"linecolor\":\"white\",\"ticks\":\"\"}},\"title\":{\"x\":0.05},\"xaxis\":{\"automargin\":true,\"gridcolor\":\"white\",\"linecolor\":\"white\",\"ticks\":\"\",\"title\":{\"standoff\":15},\"zerolinecolor\":\"white\",\"zerolinewidth\":2},\"yaxis\":{\"automargin\":true,\"gridcolor\":\"white\",\"linecolor\":\"white\",\"ticks\":\"\",\"title\":{\"standoff\":15},\"zerolinecolor\":\"white\",\"zerolinewidth\":2}}},\"font\":{\"size\":20}},                        {\"responsive\": true}                    ).then(function(){\n",
              "                            \n",
              "var gd = document.getElementById('7423eef6-d1c7-4009-ba33-307ccbd51caa');\n",
              "var x = new MutationObserver(function (mutations, observer) {{\n",
              "        var display = window.getComputedStyle(gd).display;\n",
              "        if (!display || display === 'none') {{\n",
              "            console.log([gd, 'removed!']);\n",
              "            Plotly.purge(gd);\n",
              "            observer.disconnect();\n",
              "        }}\n",
              "}});\n",
              "\n",
              "// Listen for the removal of the full notebook cells\n",
              "var notebookContainer = gd.closest('#notebook-container');\n",
              "if (notebookContainer) {{\n",
              "    x.observe(notebookContainer, {childList: true});\n",
              "}}\n",
              "\n",
              "// Listen for the clearing of the current output cell\n",
              "var outputEl = gd.closest('.output');\n",
              "if (outputEl) {{\n",
              "    x.observe(outputEl, {childList: true});\n",
              "}}\n",
              "\n",
              "                        })                };                            </script>        </div>\n",
              "</body>\n",
              "</html>"
            ]
          },
          "metadata": {}
        }
      ]
    },
    {
      "cell_type": "code",
      "source": [
        "from sklearn.metrics import classification_report\n",
        "print(classification_report(y_test, result))"
      ],
      "metadata": {
        "colab": {
          "base_uri": "https://localhost:8080/"
        },
        "id": "LX8g8eVF8khk",
        "outputId": "ccf38fb3-7418-43de-915e-c2c30680fcfa"
      },
      "execution_count": null,
      "outputs": [
        {
          "output_type": "stream",
          "name": "stdout",
          "text": [
            "              precision    recall  f1-score   support\n",
            "\n",
            "           0       0.95      0.96      0.95     23397\n",
            "          10       0.80      0.74      0.77      4900\n",
            "\n",
            "    accuracy                           0.92     28297\n",
            "   macro avg       0.87      0.85      0.86     28297\n",
            "weighted avg       0.92      0.92      0.92     28297\n",
            "\n"
          ]
        }
      ]
    },
    {
      "cell_type": "markdown",
      "source": [
        "## Binary Logistic Regression"
      ],
      "metadata": {
        "id": "yeIYRiYURnce"
      }
    },
    {
      "cell_type": "code",
      "source": [
        "from sklearn import datasets\n",
        "#iris = datasets.load_iris()"
      ],
      "metadata": {
        "id": "fjLw8Ibumvd6"
      },
      "execution_count": null,
      "outputs": []
    },
    {
      "cell_type": "code",
      "source": [
        "VPN_binary = target.loc[target[\"Label\"] == 10]\n",
        "VPN_binary = VPN_binary.iloc[:10000]\n",
        "\n",
        "tor_binary = target.loc[target[\"Label\"] == 11]"
      ],
      "metadata": {
        "id": "oOi_TBMios3i"
      },
      "execution_count": null,
      "outputs": []
    },
    {
      "cell_type": "code",
      "source": [
        "tar_binary=VPN_binary.append(tor_binary)"
      ],
      "metadata": {
        "id": "LvzngVrmqfzP"
      },
      "execution_count": null,
      "outputs": []
    },
    {
      "cell_type": "code",
      "source": [
        "tar_binary\n",
        "#extract labels and merge"
      ],
      "metadata": {
        "colab": {
          "base_uri": "https://localhost:8080/",
          "height": 419
        },
        "id": "yJvnQD4L5Ibt",
        "outputId": "34c87761-26a7-466f-aabf-4e9107c43f89"
      },
      "execution_count": null,
      "outputs": [
        {
          "output_type": "execute_result",
          "data": {
            "text/plain": [
              "        Label\n",
              "117219     10\n",
              "117220     10\n",
              "117221     10\n",
              "117222     10\n",
              "117223     10\n",
              "...       ...\n",
              "127214     10\n",
              "127215     10\n",
              "127216     10\n",
              "127217     10\n",
              "127218     10\n",
              "\n",
              "[10000 rows x 1 columns]"
            ],
            "text/html": [
              "\n",
              "  <div id=\"df-df62b110-638b-4dea-a3c6-ce4c5c705f73\">\n",
              "    <div class=\"colab-df-container\">\n",
              "      <div>\n",
              "<style scoped>\n",
              "    .dataframe tbody tr th:only-of-type {\n",
              "        vertical-align: middle;\n",
              "    }\n",
              "\n",
              "    .dataframe tbody tr th {\n",
              "        vertical-align: top;\n",
              "    }\n",
              "\n",
              "    .dataframe thead th {\n",
              "        text-align: right;\n",
              "    }\n",
              "</style>\n",
              "<table border=\"1\" class=\"dataframe\">\n",
              "  <thead>\n",
              "    <tr style=\"text-align: right;\">\n",
              "      <th></th>\n",
              "      <th>Label</th>\n",
              "    </tr>\n",
              "  </thead>\n",
              "  <tbody>\n",
              "    <tr>\n",
              "      <th>117219</th>\n",
              "      <td>10</td>\n",
              "    </tr>\n",
              "    <tr>\n",
              "      <th>117220</th>\n",
              "      <td>10</td>\n",
              "    </tr>\n",
              "    <tr>\n",
              "      <th>117221</th>\n",
              "      <td>10</td>\n",
              "    </tr>\n",
              "    <tr>\n",
              "      <th>117222</th>\n",
              "      <td>10</td>\n",
              "    </tr>\n",
              "    <tr>\n",
              "      <th>117223</th>\n",
              "      <td>10</td>\n",
              "    </tr>\n",
              "    <tr>\n",
              "      <th>...</th>\n",
              "      <td>...</td>\n",
              "    </tr>\n",
              "    <tr>\n",
              "      <th>127214</th>\n",
              "      <td>10</td>\n",
              "    </tr>\n",
              "    <tr>\n",
              "      <th>127215</th>\n",
              "      <td>10</td>\n",
              "    </tr>\n",
              "    <tr>\n",
              "      <th>127216</th>\n",
              "      <td>10</td>\n",
              "    </tr>\n",
              "    <tr>\n",
              "      <th>127217</th>\n",
              "      <td>10</td>\n",
              "    </tr>\n",
              "    <tr>\n",
              "      <th>127218</th>\n",
              "      <td>10</td>\n",
              "    </tr>\n",
              "  </tbody>\n",
              "</table>\n",
              "<p>10000 rows × 1 columns</p>\n",
              "</div>\n",
              "      <button class=\"colab-df-convert\" onclick=\"convertToInteractive('df-df62b110-638b-4dea-a3c6-ce4c5c705f73')\"\n",
              "              title=\"Convert this dataframe to an interactive table.\"\n",
              "              style=\"display:none;\">\n",
              "        \n",
              "  <svg xmlns=\"http://www.w3.org/2000/svg\" height=\"24px\"viewBox=\"0 0 24 24\"\n",
              "       width=\"24px\">\n",
              "    <path d=\"M0 0h24v24H0V0z\" fill=\"none\"/>\n",
              "    <path d=\"M18.56 5.44l.94 2.06.94-2.06 2.06-.94-2.06-.94-.94-2.06-.94 2.06-2.06.94zm-11 1L8.5 8.5l.94-2.06 2.06-.94-2.06-.94L8.5 2.5l-.94 2.06-2.06.94zm10 10l.94 2.06.94-2.06 2.06-.94-2.06-.94-.94-2.06-.94 2.06-2.06.94z\"/><path d=\"M17.41 7.96l-1.37-1.37c-.4-.4-.92-.59-1.43-.59-.52 0-1.04.2-1.43.59L10.3 9.45l-7.72 7.72c-.78.78-.78 2.05 0 2.83L4 21.41c.39.39.9.59 1.41.59.51 0 1.02-.2 1.41-.59l7.78-7.78 2.81-2.81c.8-.78.8-2.07 0-2.86zM5.41 20L4 18.59l7.72-7.72 1.47 1.35L5.41 20z\"/>\n",
              "  </svg>\n",
              "      </button>\n",
              "      \n",
              "  <style>\n",
              "    .colab-df-container {\n",
              "      display:flex;\n",
              "      flex-wrap:wrap;\n",
              "      gap: 12px;\n",
              "    }\n",
              "\n",
              "    .colab-df-convert {\n",
              "      background-color: #E8F0FE;\n",
              "      border: none;\n",
              "      border-radius: 50%;\n",
              "      cursor: pointer;\n",
              "      display: none;\n",
              "      fill: #1967D2;\n",
              "      height: 32px;\n",
              "      padding: 0 0 0 0;\n",
              "      width: 32px;\n",
              "    }\n",
              "\n",
              "    .colab-df-convert:hover {\n",
              "      background-color: #E2EBFA;\n",
              "      box-shadow: 0px 1px 2px rgba(60, 64, 67, 0.3), 0px 1px 3px 1px rgba(60, 64, 67, 0.15);\n",
              "      fill: #174EA6;\n",
              "    }\n",
              "\n",
              "    [theme=dark] .colab-df-convert {\n",
              "      background-color: #3B4455;\n",
              "      fill: #D2E3FC;\n",
              "    }\n",
              "\n",
              "    [theme=dark] .colab-df-convert:hover {\n",
              "      background-color: #434B5C;\n",
              "      box-shadow: 0px 1px 3px 1px rgba(0, 0, 0, 0.15);\n",
              "      filter: drop-shadow(0px 1px 2px rgba(0, 0, 0, 0.3));\n",
              "      fill: #FFFFFF;\n",
              "    }\n",
              "  </style>\n",
              "\n",
              "      <script>\n",
              "        const buttonEl =\n",
              "          document.querySelector('#df-df62b110-638b-4dea-a3c6-ce4c5c705f73 button.colab-df-convert');\n",
              "        buttonEl.style.display =\n",
              "          google.colab.kernel.accessAllowed ? 'block' : 'none';\n",
              "\n",
              "        async function convertToInteractive(key) {\n",
              "          const element = document.querySelector('#df-df62b110-638b-4dea-a3c6-ce4c5c705f73');\n",
              "          const dataTable =\n",
              "            await google.colab.kernel.invokeFunction('convertToInteractive',\n",
              "                                                     [key], {});\n",
              "          if (!dataTable) return;\n",
              "\n",
              "          const docLinkHtml = 'Like what you see? Visit the ' +\n",
              "            '<a target=\"_blank\" href=https://colab.research.google.com/notebooks/data_table.ipynb>data table notebook</a>'\n",
              "            + ' to learn more about interactive tables.';\n",
              "          element.innerHTML = '';\n",
              "          dataTable['output_type'] = 'display_data';\n",
              "          await google.colab.output.renderOutput(dataTable, element);\n",
              "          const docLink = document.createElement('div');\n",
              "          docLink.innerHTML = docLinkHtml;\n",
              "          element.appendChild(docLink);\n",
              "        }\n",
              "      </script>\n",
              "    </div>\n",
              "  </div>\n",
              "  "
            ]
          },
          "metadata": {},
          "execution_count": 54
        }
      ]
    },
    {
      "cell_type": "code",
      "source": [
        "Tor_binary=df.loc[df[\"Label\"]==\"Tor\"]"
      ],
      "metadata": {
        "id": "cGwXwUdpsxUy"
      },
      "execution_count": null,
      "outputs": []
    },
    {
      "cell_type": "code",
      "source": [
        "VPN_binary=df.loc[df[\"Label\"]==\"VPN\"]\n",
        "VPN_binary = VPN_binary.iloc[:10000]\n",
        "VPN_binary"
      ],
      "metadata": {
        "id": "lGGnhjJ3tsvf",
        "colab": {
          "base_uri": "https://localhost:8080/",
          "height": 704
        },
        "outputId": "f9b6d995-91e0-44dd-c987-54c971fb488c"
      },
      "execution_count": null,
      "outputs": [
        {
          "output_type": "execute_result",
          "data": {
            "text/plain": [
              "                Src IP  Src Port         Dst IP  Dst Port  Protocol  \\\n",
              "118611   74.125.226.38       443     10.8.8.138     51827         6   \n",
              "118612      10.8.8.138     47126  75.101.155.12        22         6   \n",
              "118613      10.8.8.138     51143  74.125.226.56       443         6   \n",
              "118614      10.8.8.138     51828  74.125.226.38       443         6   \n",
              "118615      10.8.8.138     51828  74.125.226.38       443         6   \n",
              "...                ...       ...            ...       ...       ...   \n",
              "128606       10.8.0.10     35014  131.202.244.3        53        17   \n",
              "128607       10.8.0.10     53359  131.202.244.5        53        17   \n",
              "128608       10.8.0.10     17339  131.202.244.3        53        17   \n",
              "128609  173.194.123.26        80      10.8.0.10     47933         6   \n",
              "128610       10.8.0.10     63711  131.202.244.5        53        17   \n",
              "\n",
              "        Flow Duration  Total Fwd Packet  Total Bwd packets  \\\n",
              "118611             45                 2                  0   \n",
              "118612         231660                 1                  1   \n",
              "118613       10221076                 3                  1   \n",
              "118614       59101196                 2                  4   \n",
              "118615         203636                 1                  1   \n",
              "...               ...               ...                ...   \n",
              "128606            901                 1                  1   \n",
              "128607            666                 1                  1   \n",
              "128608            667                 1                  1   \n",
              "128609             57                 1                  1   \n",
              "128610            627                 1                  1   \n",
              "\n",
              "        Total Length of Fwd Packet  Total Length of Bwd Packet  ...  \\\n",
              "118611                          63                           0  ...   \n",
              "118612                           0                           0  ...   \n",
              "118613                           0                           0  ...   \n",
              "118614                           0                          63  ...   \n",
              "118615                           0                           0  ...   \n",
              "...                            ...                         ...  ...   \n",
              "128606                          37                         373  ...   \n",
              "128607                          37                         213  ...   \n",
              "128608                          33                         345  ...   \n",
              "128609                           0                           0  ...   \n",
              "128610                          37                         373  ...   \n",
              "\n",
              "        FWD Init Win Bytes  Bwd Init Win Bytes  Fwd Act Data Pkts  \\\n",
              "118611                 341                   0                  0   \n",
              "118612               41632                8415                  0   \n",
              "118613               29200               42540                  0   \n",
              "118614                 317                 350                  0   \n",
              "118615                 317                 350                  0   \n",
              "...                    ...                 ...                ...   \n",
              "128606                   0                   0                  0   \n",
              "128607                   0                   0                  0   \n",
              "128608                   0                   0                  0   \n",
              "128609                 341                 317                  0   \n",
              "128610                   0                   0                  0   \n",
              "\n",
              "        Fwd Seg Size Min     Idle Mean      Idle Std      Idle Max  \\\n",
              "118611                32  0.000000e+00  0.000000e+00  0.000000e+00   \n",
              "118612                32  0.000000e+00  0.000000e+00  0.000000e+00   \n",
              "118613                32  7.161610e+14  1.010000e+15  1.432320e+15   \n",
              "118614                32  1.432320e+15  3.053902e+07  1.432320e+15   \n",
              "118615                32  0.000000e+00  0.000000e+00  0.000000e+00   \n",
              "...                  ...           ...           ...           ...   \n",
              "128606                 8  0.000000e+00  0.000000e+00  0.000000e+00   \n",
              "128607                 8  0.000000e+00  0.000000e+00  0.000000e+00   \n",
              "128608                 8  0.000000e+00  0.000000e+00  0.000000e+00   \n",
              "128609                32  0.000000e+00  0.000000e+00  0.000000e+00   \n",
              "128610                 8  0.000000e+00  0.000000e+00  0.000000e+00   \n",
              "\n",
              "            Idle Min  Label          Label.1  \n",
              "118611  0.000000e+00    VPN    File-Transfer  \n",
              "118612  0.000000e+00    VPN    File-Transfer  \n",
              "118613  1.000137e+07    VPN    File-Transfer  \n",
              "118614  1.430000e+15    VPN    File-Transfer  \n",
              "118615  0.000000e+00    VPN    File-Transfer  \n",
              "...              ...    ...              ...  \n",
              "128606  0.000000e+00    VPN  Audio-Streaming  \n",
              "128607  0.000000e+00    VPN  Audio-Streaming  \n",
              "128608  0.000000e+00    VPN  Audio-Streaming  \n",
              "128609  0.000000e+00    VPN  Audio-Streaming  \n",
              "128610  0.000000e+00    VPN  Audio-Streaming  \n",
              "\n",
              "[10000 rows x 68 columns]"
            ],
            "text/html": [
              "\n",
              "  <div id=\"df-44cd5227-edf2-4f38-b09d-f56073e40ba3\">\n",
              "    <div class=\"colab-df-container\">\n",
              "      <div>\n",
              "<style scoped>\n",
              "    .dataframe tbody tr th:only-of-type {\n",
              "        vertical-align: middle;\n",
              "    }\n",
              "\n",
              "    .dataframe tbody tr th {\n",
              "        vertical-align: top;\n",
              "    }\n",
              "\n",
              "    .dataframe thead th {\n",
              "        text-align: right;\n",
              "    }\n",
              "</style>\n",
              "<table border=\"1\" class=\"dataframe\">\n",
              "  <thead>\n",
              "    <tr style=\"text-align: right;\">\n",
              "      <th></th>\n",
              "      <th>Src IP</th>\n",
              "      <th>Src Port</th>\n",
              "      <th>Dst IP</th>\n",
              "      <th>Dst Port</th>\n",
              "      <th>Protocol</th>\n",
              "      <th>Flow Duration</th>\n",
              "      <th>Total Fwd Packet</th>\n",
              "      <th>Total Bwd packets</th>\n",
              "      <th>Total Length of Fwd Packet</th>\n",
              "      <th>Total Length of Bwd Packet</th>\n",
              "      <th>...</th>\n",
              "      <th>FWD Init Win Bytes</th>\n",
              "      <th>Bwd Init Win Bytes</th>\n",
              "      <th>Fwd Act Data Pkts</th>\n",
              "      <th>Fwd Seg Size Min</th>\n",
              "      <th>Idle Mean</th>\n",
              "      <th>Idle Std</th>\n",
              "      <th>Idle Max</th>\n",
              "      <th>Idle Min</th>\n",
              "      <th>Label</th>\n",
              "      <th>Label.1</th>\n",
              "    </tr>\n",
              "  </thead>\n",
              "  <tbody>\n",
              "    <tr>\n",
              "      <th>118611</th>\n",
              "      <td>74.125.226.38</td>\n",
              "      <td>443</td>\n",
              "      <td>10.8.8.138</td>\n",
              "      <td>51827</td>\n",
              "      <td>6</td>\n",
              "      <td>45</td>\n",
              "      <td>2</td>\n",
              "      <td>0</td>\n",
              "      <td>63</td>\n",
              "      <td>0</td>\n",
              "      <td>...</td>\n",
              "      <td>341</td>\n",
              "      <td>0</td>\n",
              "      <td>0</td>\n",
              "      <td>32</td>\n",
              "      <td>0.000000e+00</td>\n",
              "      <td>0.000000e+00</td>\n",
              "      <td>0.000000e+00</td>\n",
              "      <td>0.000000e+00</td>\n",
              "      <td>VPN</td>\n",
              "      <td>File-Transfer</td>\n",
              "    </tr>\n",
              "    <tr>\n",
              "      <th>118612</th>\n",
              "      <td>10.8.8.138</td>\n",
              "      <td>47126</td>\n",
              "      <td>75.101.155.12</td>\n",
              "      <td>22</td>\n",
              "      <td>6</td>\n",
              "      <td>231660</td>\n",
              "      <td>1</td>\n",
              "      <td>1</td>\n",
              "      <td>0</td>\n",
              "      <td>0</td>\n",
              "      <td>...</td>\n",
              "      <td>41632</td>\n",
              "      <td>8415</td>\n",
              "      <td>0</td>\n",
              "      <td>32</td>\n",
              "      <td>0.000000e+00</td>\n",
              "      <td>0.000000e+00</td>\n",
              "      <td>0.000000e+00</td>\n",
              "      <td>0.000000e+00</td>\n",
              "      <td>VPN</td>\n",
              "      <td>File-Transfer</td>\n",
              "    </tr>\n",
              "    <tr>\n",
              "      <th>118613</th>\n",
              "      <td>10.8.8.138</td>\n",
              "      <td>51143</td>\n",
              "      <td>74.125.226.56</td>\n",
              "      <td>443</td>\n",
              "      <td>6</td>\n",
              "      <td>10221076</td>\n",
              "      <td>3</td>\n",
              "      <td>1</td>\n",
              "      <td>0</td>\n",
              "      <td>0</td>\n",
              "      <td>...</td>\n",
              "      <td>29200</td>\n",
              "      <td>42540</td>\n",
              "      <td>0</td>\n",
              "      <td>32</td>\n",
              "      <td>7.161610e+14</td>\n",
              "      <td>1.010000e+15</td>\n",
              "      <td>1.432320e+15</td>\n",
              "      <td>1.000137e+07</td>\n",
              "      <td>VPN</td>\n",
              "      <td>File-Transfer</td>\n",
              "    </tr>\n",
              "    <tr>\n",
              "      <th>118614</th>\n",
              "      <td>10.8.8.138</td>\n",
              "      <td>51828</td>\n",
              "      <td>74.125.226.38</td>\n",
              "      <td>443</td>\n",
              "      <td>6</td>\n",
              "      <td>59101196</td>\n",
              "      <td>2</td>\n",
              "      <td>4</td>\n",
              "      <td>0</td>\n",
              "      <td>63</td>\n",
              "      <td>...</td>\n",
              "      <td>317</td>\n",
              "      <td>350</td>\n",
              "      <td>0</td>\n",
              "      <td>32</td>\n",
              "      <td>1.432320e+15</td>\n",
              "      <td>3.053902e+07</td>\n",
              "      <td>1.432320e+15</td>\n",
              "      <td>1.430000e+15</td>\n",
              "      <td>VPN</td>\n",
              "      <td>File-Transfer</td>\n",
              "    </tr>\n",
              "    <tr>\n",
              "      <th>118615</th>\n",
              "      <td>10.8.8.138</td>\n",
              "      <td>51828</td>\n",
              "      <td>74.125.226.38</td>\n",
              "      <td>443</td>\n",
              "      <td>6</td>\n",
              "      <td>203636</td>\n",
              "      <td>1</td>\n",
              "      <td>1</td>\n",
              "      <td>0</td>\n",
              "      <td>0</td>\n",
              "      <td>...</td>\n",
              "      <td>317</td>\n",
              "      <td>350</td>\n",
              "      <td>0</td>\n",
              "      <td>32</td>\n",
              "      <td>0.000000e+00</td>\n",
              "      <td>0.000000e+00</td>\n",
              "      <td>0.000000e+00</td>\n",
              "      <td>0.000000e+00</td>\n",
              "      <td>VPN</td>\n",
              "      <td>File-Transfer</td>\n",
              "    </tr>\n",
              "    <tr>\n",
              "      <th>...</th>\n",
              "      <td>...</td>\n",
              "      <td>...</td>\n",
              "      <td>...</td>\n",
              "      <td>...</td>\n",
              "      <td>...</td>\n",
              "      <td>...</td>\n",
              "      <td>...</td>\n",
              "      <td>...</td>\n",
              "      <td>...</td>\n",
              "      <td>...</td>\n",
              "      <td>...</td>\n",
              "      <td>...</td>\n",
              "      <td>...</td>\n",
              "      <td>...</td>\n",
              "      <td>...</td>\n",
              "      <td>...</td>\n",
              "      <td>...</td>\n",
              "      <td>...</td>\n",
              "      <td>...</td>\n",
              "      <td>...</td>\n",
              "      <td>...</td>\n",
              "    </tr>\n",
              "    <tr>\n",
              "      <th>128606</th>\n",
              "      <td>10.8.0.10</td>\n",
              "      <td>35014</td>\n",
              "      <td>131.202.244.3</td>\n",
              "      <td>53</td>\n",
              "      <td>17</td>\n",
              "      <td>901</td>\n",
              "      <td>1</td>\n",
              "      <td>1</td>\n",
              "      <td>37</td>\n",
              "      <td>373</td>\n",
              "      <td>...</td>\n",
              "      <td>0</td>\n",
              "      <td>0</td>\n",
              "      <td>0</td>\n",
              "      <td>8</td>\n",
              "      <td>0.000000e+00</td>\n",
              "      <td>0.000000e+00</td>\n",
              "      <td>0.000000e+00</td>\n",
              "      <td>0.000000e+00</td>\n",
              "      <td>VPN</td>\n",
              "      <td>Audio-Streaming</td>\n",
              "    </tr>\n",
              "    <tr>\n",
              "      <th>128607</th>\n",
              "      <td>10.8.0.10</td>\n",
              "      <td>53359</td>\n",
              "      <td>131.202.244.5</td>\n",
              "      <td>53</td>\n",
              "      <td>17</td>\n",
              "      <td>666</td>\n",
              "      <td>1</td>\n",
              "      <td>1</td>\n",
              "      <td>37</td>\n",
              "      <td>213</td>\n",
              "      <td>...</td>\n",
              "      <td>0</td>\n",
              "      <td>0</td>\n",
              "      <td>0</td>\n",
              "      <td>8</td>\n",
              "      <td>0.000000e+00</td>\n",
              "      <td>0.000000e+00</td>\n",
              "      <td>0.000000e+00</td>\n",
              "      <td>0.000000e+00</td>\n",
              "      <td>VPN</td>\n",
              "      <td>Audio-Streaming</td>\n",
              "    </tr>\n",
              "    <tr>\n",
              "      <th>128608</th>\n",
              "      <td>10.8.0.10</td>\n",
              "      <td>17339</td>\n",
              "      <td>131.202.244.3</td>\n",
              "      <td>53</td>\n",
              "      <td>17</td>\n",
              "      <td>667</td>\n",
              "      <td>1</td>\n",
              "      <td>1</td>\n",
              "      <td>33</td>\n",
              "      <td>345</td>\n",
              "      <td>...</td>\n",
              "      <td>0</td>\n",
              "      <td>0</td>\n",
              "      <td>0</td>\n",
              "      <td>8</td>\n",
              "      <td>0.000000e+00</td>\n",
              "      <td>0.000000e+00</td>\n",
              "      <td>0.000000e+00</td>\n",
              "      <td>0.000000e+00</td>\n",
              "      <td>VPN</td>\n",
              "      <td>Audio-Streaming</td>\n",
              "    </tr>\n",
              "    <tr>\n",
              "      <th>128609</th>\n",
              "      <td>173.194.123.26</td>\n",
              "      <td>80</td>\n",
              "      <td>10.8.0.10</td>\n",
              "      <td>47933</td>\n",
              "      <td>6</td>\n",
              "      <td>57</td>\n",
              "      <td>1</td>\n",
              "      <td>1</td>\n",
              "      <td>0</td>\n",
              "      <td>0</td>\n",
              "      <td>...</td>\n",
              "      <td>341</td>\n",
              "      <td>317</td>\n",
              "      <td>0</td>\n",
              "      <td>32</td>\n",
              "      <td>0.000000e+00</td>\n",
              "      <td>0.000000e+00</td>\n",
              "      <td>0.000000e+00</td>\n",
              "      <td>0.000000e+00</td>\n",
              "      <td>VPN</td>\n",
              "      <td>Audio-Streaming</td>\n",
              "    </tr>\n",
              "    <tr>\n",
              "      <th>128610</th>\n",
              "      <td>10.8.0.10</td>\n",
              "      <td>63711</td>\n",
              "      <td>131.202.244.5</td>\n",
              "      <td>53</td>\n",
              "      <td>17</td>\n",
              "      <td>627</td>\n",
              "      <td>1</td>\n",
              "      <td>1</td>\n",
              "      <td>37</td>\n",
              "      <td>373</td>\n",
              "      <td>...</td>\n",
              "      <td>0</td>\n",
              "      <td>0</td>\n",
              "      <td>0</td>\n",
              "      <td>8</td>\n",
              "      <td>0.000000e+00</td>\n",
              "      <td>0.000000e+00</td>\n",
              "      <td>0.000000e+00</td>\n",
              "      <td>0.000000e+00</td>\n",
              "      <td>VPN</td>\n",
              "      <td>Audio-Streaming</td>\n",
              "    </tr>\n",
              "  </tbody>\n",
              "</table>\n",
              "<p>10000 rows × 68 columns</p>\n",
              "</div>\n",
              "      <button class=\"colab-df-convert\" onclick=\"convertToInteractive('df-44cd5227-edf2-4f38-b09d-f56073e40ba3')\"\n",
              "              title=\"Convert this dataframe to an interactive table.\"\n",
              "              style=\"display:none;\">\n",
              "        \n",
              "  <svg xmlns=\"http://www.w3.org/2000/svg\" height=\"24px\"viewBox=\"0 0 24 24\"\n",
              "       width=\"24px\">\n",
              "    <path d=\"M0 0h24v24H0V0z\" fill=\"none\"/>\n",
              "    <path d=\"M18.56 5.44l.94 2.06.94-2.06 2.06-.94-2.06-.94-.94-2.06-.94 2.06-2.06.94zm-11 1L8.5 8.5l.94-2.06 2.06-.94-2.06-.94L8.5 2.5l-.94 2.06-2.06.94zm10 10l.94 2.06.94-2.06 2.06-.94-2.06-.94-.94-2.06-.94 2.06-2.06.94z\"/><path d=\"M17.41 7.96l-1.37-1.37c-.4-.4-.92-.59-1.43-.59-.52 0-1.04.2-1.43.59L10.3 9.45l-7.72 7.72c-.78.78-.78 2.05 0 2.83L4 21.41c.39.39.9.59 1.41.59.51 0 1.02-.2 1.41-.59l7.78-7.78 2.81-2.81c.8-.78.8-2.07 0-2.86zM5.41 20L4 18.59l7.72-7.72 1.47 1.35L5.41 20z\"/>\n",
              "  </svg>\n",
              "      </button>\n",
              "      \n",
              "  <style>\n",
              "    .colab-df-container {\n",
              "      display:flex;\n",
              "      flex-wrap:wrap;\n",
              "      gap: 12px;\n",
              "    }\n",
              "\n",
              "    .colab-df-convert {\n",
              "      background-color: #E8F0FE;\n",
              "      border: none;\n",
              "      border-radius: 50%;\n",
              "      cursor: pointer;\n",
              "      display: none;\n",
              "      fill: #1967D2;\n",
              "      height: 32px;\n",
              "      padding: 0 0 0 0;\n",
              "      width: 32px;\n",
              "    }\n",
              "\n",
              "    .colab-df-convert:hover {\n",
              "      background-color: #E2EBFA;\n",
              "      box-shadow: 0px 1px 2px rgba(60, 64, 67, 0.3), 0px 1px 3px 1px rgba(60, 64, 67, 0.15);\n",
              "      fill: #174EA6;\n",
              "    }\n",
              "\n",
              "    [theme=dark] .colab-df-convert {\n",
              "      background-color: #3B4455;\n",
              "      fill: #D2E3FC;\n",
              "    }\n",
              "\n",
              "    [theme=dark] .colab-df-convert:hover {\n",
              "      background-color: #434B5C;\n",
              "      box-shadow: 0px 1px 3px 1px rgba(0, 0, 0, 0.15);\n",
              "      filter: drop-shadow(0px 1px 2px rgba(0, 0, 0, 0.3));\n",
              "      fill: #FFFFFF;\n",
              "    }\n",
              "  </style>\n",
              "\n",
              "      <script>\n",
              "        const buttonEl =\n",
              "          document.querySelector('#df-44cd5227-edf2-4f38-b09d-f56073e40ba3 button.colab-df-convert');\n",
              "        buttonEl.style.display =\n",
              "          google.colab.kernel.accessAllowed ? 'block' : 'none';\n",
              "\n",
              "        async function convertToInteractive(key) {\n",
              "          const element = document.querySelector('#df-44cd5227-edf2-4f38-b09d-f56073e40ba3');\n",
              "          const dataTable =\n",
              "            await google.colab.kernel.invokeFunction('convertToInteractive',\n",
              "                                                     [key], {});\n",
              "          if (!dataTable) return;\n",
              "\n",
              "          const docLinkHtml = 'Like what you see? Visit the ' +\n",
              "            '<a target=\"_blank\" href=https://colab.research.google.com/notebooks/data_table.ipynb>data table notebook</a>'\n",
              "            + ' to learn more about interactive tables.';\n",
              "          element.innerHTML = '';\n",
              "          dataTable['output_type'] = 'display_data';\n",
              "          await google.colab.output.renderOutput(dataTable, element);\n",
              "          const docLink = document.createElement('div');\n",
              "          docLink.innerHTML = docLinkHtml;\n",
              "          element.appendChild(docLink);\n",
              "        }\n",
              "      </script>\n",
              "    </div>\n",
              "  </div>\n",
              "  "
            ]
          },
          "metadata": {},
          "execution_count": 56
        }
      ]
    },
    {
      "cell_type": "code",
      "source": [
        "dark_binary=VPN_binary.append(Tor_binary)\n",
        "dark_binary.head()\n",
        "#merge feature sets"
      ],
      "metadata": {
        "colab": {
          "base_uri": "https://localhost:8080/",
          "height": 433
        },
        "id": "Wss444khuKVn",
        "outputId": "126b127c-2a6e-4ee7-e0a4-f3d10a2df2fd"
      },
      "execution_count": null,
      "outputs": [
        {
          "output_type": "execute_result",
          "data": {
            "text/plain": [
              "               Src IP  Src Port         Dst IP  Dst Port  Protocol  \\\n",
              "118611  74.125.226.38       443     10.8.8.138     51827         6   \n",
              "118612     10.8.8.138     47126  75.101.155.12        22         6   \n",
              "118613     10.8.8.138     51143  74.125.226.56       443         6   \n",
              "118614     10.8.8.138     51828  74.125.226.38       443         6   \n",
              "118615     10.8.8.138     51828  74.125.226.38       443         6   \n",
              "\n",
              "        Flow Duration  Total Fwd Packet  Total Bwd packets  \\\n",
              "118611             45                 2                  0   \n",
              "118612         231660                 1                  1   \n",
              "118613       10221076                 3                  1   \n",
              "118614       59101196                 2                  4   \n",
              "118615         203636                 1                  1   \n",
              "\n",
              "        Total Length of Fwd Packet  Total Length of Bwd Packet  ...  \\\n",
              "118611                          63                           0  ...   \n",
              "118612                           0                           0  ...   \n",
              "118613                           0                           0  ...   \n",
              "118614                           0                          63  ...   \n",
              "118615                           0                           0  ...   \n",
              "\n",
              "        FWD Init Win Bytes  Bwd Init Win Bytes  Fwd Act Data Pkts  \\\n",
              "118611                 341                   0                  0   \n",
              "118612               41632                8415                  0   \n",
              "118613               29200               42540                  0   \n",
              "118614                 317                 350                  0   \n",
              "118615                 317                 350                  0   \n",
              "\n",
              "        Fwd Seg Size Min     Idle Mean      Idle Std      Idle Max  \\\n",
              "118611                32  0.000000e+00  0.000000e+00  0.000000e+00   \n",
              "118612                32  0.000000e+00  0.000000e+00  0.000000e+00   \n",
              "118613                32  7.161610e+14  1.010000e+15  1.432320e+15   \n",
              "118614                32  1.432320e+15  3.053902e+07  1.432320e+15   \n",
              "118615                32  0.000000e+00  0.000000e+00  0.000000e+00   \n",
              "\n",
              "            Idle Min  Label        Label.1  \n",
              "118611  0.000000e+00    VPN  File-Transfer  \n",
              "118612  0.000000e+00    VPN  File-Transfer  \n",
              "118613  1.000137e+07    VPN  File-Transfer  \n",
              "118614  1.430000e+15    VPN  File-Transfer  \n",
              "118615  0.000000e+00    VPN  File-Transfer  \n",
              "\n",
              "[5 rows x 68 columns]"
            ],
            "text/html": [
              "\n",
              "  <div id=\"df-ae0d495f-7249-42cc-821b-93353117b29b\">\n",
              "    <div class=\"colab-df-container\">\n",
              "      <div>\n",
              "<style scoped>\n",
              "    .dataframe tbody tr th:only-of-type {\n",
              "        vertical-align: middle;\n",
              "    }\n",
              "\n",
              "    .dataframe tbody tr th {\n",
              "        vertical-align: top;\n",
              "    }\n",
              "\n",
              "    .dataframe thead th {\n",
              "        text-align: right;\n",
              "    }\n",
              "</style>\n",
              "<table border=\"1\" class=\"dataframe\">\n",
              "  <thead>\n",
              "    <tr style=\"text-align: right;\">\n",
              "      <th></th>\n",
              "      <th>Src IP</th>\n",
              "      <th>Src Port</th>\n",
              "      <th>Dst IP</th>\n",
              "      <th>Dst Port</th>\n",
              "      <th>Protocol</th>\n",
              "      <th>Flow Duration</th>\n",
              "      <th>Total Fwd Packet</th>\n",
              "      <th>Total Bwd packets</th>\n",
              "      <th>Total Length of Fwd Packet</th>\n",
              "      <th>Total Length of Bwd Packet</th>\n",
              "      <th>...</th>\n",
              "      <th>FWD Init Win Bytes</th>\n",
              "      <th>Bwd Init Win Bytes</th>\n",
              "      <th>Fwd Act Data Pkts</th>\n",
              "      <th>Fwd Seg Size Min</th>\n",
              "      <th>Idle Mean</th>\n",
              "      <th>Idle Std</th>\n",
              "      <th>Idle Max</th>\n",
              "      <th>Idle Min</th>\n",
              "      <th>Label</th>\n",
              "      <th>Label.1</th>\n",
              "    </tr>\n",
              "  </thead>\n",
              "  <tbody>\n",
              "    <tr>\n",
              "      <th>118611</th>\n",
              "      <td>74.125.226.38</td>\n",
              "      <td>443</td>\n",
              "      <td>10.8.8.138</td>\n",
              "      <td>51827</td>\n",
              "      <td>6</td>\n",
              "      <td>45</td>\n",
              "      <td>2</td>\n",
              "      <td>0</td>\n",
              "      <td>63</td>\n",
              "      <td>0</td>\n",
              "      <td>...</td>\n",
              "      <td>341</td>\n",
              "      <td>0</td>\n",
              "      <td>0</td>\n",
              "      <td>32</td>\n",
              "      <td>0.000000e+00</td>\n",
              "      <td>0.000000e+00</td>\n",
              "      <td>0.000000e+00</td>\n",
              "      <td>0.000000e+00</td>\n",
              "      <td>VPN</td>\n",
              "      <td>File-Transfer</td>\n",
              "    </tr>\n",
              "    <tr>\n",
              "      <th>118612</th>\n",
              "      <td>10.8.8.138</td>\n",
              "      <td>47126</td>\n",
              "      <td>75.101.155.12</td>\n",
              "      <td>22</td>\n",
              "      <td>6</td>\n",
              "      <td>231660</td>\n",
              "      <td>1</td>\n",
              "      <td>1</td>\n",
              "      <td>0</td>\n",
              "      <td>0</td>\n",
              "      <td>...</td>\n",
              "      <td>41632</td>\n",
              "      <td>8415</td>\n",
              "      <td>0</td>\n",
              "      <td>32</td>\n",
              "      <td>0.000000e+00</td>\n",
              "      <td>0.000000e+00</td>\n",
              "      <td>0.000000e+00</td>\n",
              "      <td>0.000000e+00</td>\n",
              "      <td>VPN</td>\n",
              "      <td>File-Transfer</td>\n",
              "    </tr>\n",
              "    <tr>\n",
              "      <th>118613</th>\n",
              "      <td>10.8.8.138</td>\n",
              "      <td>51143</td>\n",
              "      <td>74.125.226.56</td>\n",
              "      <td>443</td>\n",
              "      <td>6</td>\n",
              "      <td>10221076</td>\n",
              "      <td>3</td>\n",
              "      <td>1</td>\n",
              "      <td>0</td>\n",
              "      <td>0</td>\n",
              "      <td>...</td>\n",
              "      <td>29200</td>\n",
              "      <td>42540</td>\n",
              "      <td>0</td>\n",
              "      <td>32</td>\n",
              "      <td>7.161610e+14</td>\n",
              "      <td>1.010000e+15</td>\n",
              "      <td>1.432320e+15</td>\n",
              "      <td>1.000137e+07</td>\n",
              "      <td>VPN</td>\n",
              "      <td>File-Transfer</td>\n",
              "    </tr>\n",
              "    <tr>\n",
              "      <th>118614</th>\n",
              "      <td>10.8.8.138</td>\n",
              "      <td>51828</td>\n",
              "      <td>74.125.226.38</td>\n",
              "      <td>443</td>\n",
              "      <td>6</td>\n",
              "      <td>59101196</td>\n",
              "      <td>2</td>\n",
              "      <td>4</td>\n",
              "      <td>0</td>\n",
              "      <td>63</td>\n",
              "      <td>...</td>\n",
              "      <td>317</td>\n",
              "      <td>350</td>\n",
              "      <td>0</td>\n",
              "      <td>32</td>\n",
              "      <td>1.432320e+15</td>\n",
              "      <td>3.053902e+07</td>\n",
              "      <td>1.432320e+15</td>\n",
              "      <td>1.430000e+15</td>\n",
              "      <td>VPN</td>\n",
              "      <td>File-Transfer</td>\n",
              "    </tr>\n",
              "    <tr>\n",
              "      <th>118615</th>\n",
              "      <td>10.8.8.138</td>\n",
              "      <td>51828</td>\n",
              "      <td>74.125.226.38</td>\n",
              "      <td>443</td>\n",
              "      <td>6</td>\n",
              "      <td>203636</td>\n",
              "      <td>1</td>\n",
              "      <td>1</td>\n",
              "      <td>0</td>\n",
              "      <td>0</td>\n",
              "      <td>...</td>\n",
              "      <td>317</td>\n",
              "      <td>350</td>\n",
              "      <td>0</td>\n",
              "      <td>32</td>\n",
              "      <td>0.000000e+00</td>\n",
              "      <td>0.000000e+00</td>\n",
              "      <td>0.000000e+00</td>\n",
              "      <td>0.000000e+00</td>\n",
              "      <td>VPN</td>\n",
              "      <td>File-Transfer</td>\n",
              "    </tr>\n",
              "  </tbody>\n",
              "</table>\n",
              "<p>5 rows × 68 columns</p>\n",
              "</div>\n",
              "      <button class=\"colab-df-convert\" onclick=\"convertToInteractive('df-ae0d495f-7249-42cc-821b-93353117b29b')\"\n",
              "              title=\"Convert this dataframe to an interactive table.\"\n",
              "              style=\"display:none;\">\n",
              "        \n",
              "  <svg xmlns=\"http://www.w3.org/2000/svg\" height=\"24px\"viewBox=\"0 0 24 24\"\n",
              "       width=\"24px\">\n",
              "    <path d=\"M0 0h24v24H0V0z\" fill=\"none\"/>\n",
              "    <path d=\"M18.56 5.44l.94 2.06.94-2.06 2.06-.94-2.06-.94-.94-2.06-.94 2.06-2.06.94zm-11 1L8.5 8.5l.94-2.06 2.06-.94-2.06-.94L8.5 2.5l-.94 2.06-2.06.94zm10 10l.94 2.06.94-2.06 2.06-.94-2.06-.94-.94-2.06-.94 2.06-2.06.94z\"/><path d=\"M17.41 7.96l-1.37-1.37c-.4-.4-.92-.59-1.43-.59-.52 0-1.04.2-1.43.59L10.3 9.45l-7.72 7.72c-.78.78-.78 2.05 0 2.83L4 21.41c.39.39.9.59 1.41.59.51 0 1.02-.2 1.41-.59l7.78-7.78 2.81-2.81c.8-.78.8-2.07 0-2.86zM5.41 20L4 18.59l7.72-7.72 1.47 1.35L5.41 20z\"/>\n",
              "  </svg>\n",
              "      </button>\n",
              "      \n",
              "  <style>\n",
              "    .colab-df-container {\n",
              "      display:flex;\n",
              "      flex-wrap:wrap;\n",
              "      gap: 12px;\n",
              "    }\n",
              "\n",
              "    .colab-df-convert {\n",
              "      background-color: #E8F0FE;\n",
              "      border: none;\n",
              "      border-radius: 50%;\n",
              "      cursor: pointer;\n",
              "      display: none;\n",
              "      fill: #1967D2;\n",
              "      height: 32px;\n",
              "      padding: 0 0 0 0;\n",
              "      width: 32px;\n",
              "    }\n",
              "\n",
              "    .colab-df-convert:hover {\n",
              "      background-color: #E2EBFA;\n",
              "      box-shadow: 0px 1px 2px rgba(60, 64, 67, 0.3), 0px 1px 3px 1px rgba(60, 64, 67, 0.15);\n",
              "      fill: #174EA6;\n",
              "    }\n",
              "\n",
              "    [theme=dark] .colab-df-convert {\n",
              "      background-color: #3B4455;\n",
              "      fill: #D2E3FC;\n",
              "    }\n",
              "\n",
              "    [theme=dark] .colab-df-convert:hover {\n",
              "      background-color: #434B5C;\n",
              "      box-shadow: 0px 1px 3px 1px rgba(0, 0, 0, 0.15);\n",
              "      filter: drop-shadow(0px 1px 2px rgba(0, 0, 0, 0.3));\n",
              "      fill: #FFFFFF;\n",
              "    }\n",
              "  </style>\n",
              "\n",
              "      <script>\n",
              "        const buttonEl =\n",
              "          document.querySelector('#df-ae0d495f-7249-42cc-821b-93353117b29b button.colab-df-convert');\n",
              "        buttonEl.style.display =\n",
              "          google.colab.kernel.accessAllowed ? 'block' : 'none';\n",
              "\n",
              "        async function convertToInteractive(key) {\n",
              "          const element = document.querySelector('#df-ae0d495f-7249-42cc-821b-93353117b29b');\n",
              "          const dataTable =\n",
              "            await google.colab.kernel.invokeFunction('convertToInteractive',\n",
              "                                                     [key], {});\n",
              "          if (!dataTable) return;\n",
              "\n",
              "          const docLinkHtml = 'Like what you see? Visit the ' +\n",
              "            '<a target=\"_blank\" href=https://colab.research.google.com/notebooks/data_table.ipynb>data table notebook</a>'\n",
              "            + ' to learn more about interactive tables.';\n",
              "          element.innerHTML = '';\n",
              "          dataTable['output_type'] = 'display_data';\n",
              "          await google.colab.output.renderOutput(dataTable, element);\n",
              "          const docLink = document.createElement('div');\n",
              "          docLink.innerHTML = docLinkHtml;\n",
              "          element.appendChild(docLink);\n",
              "        }\n",
              "      </script>\n",
              "    </div>\n",
              "  </div>\n",
              "  "
            ]
          },
          "metadata": {},
          "execution_count": 57
        }
      ]
    },
    {
      "cell_type": "code",
      "source": [
        "dark_binary = dark_binary.filter(['Total Fwd Packet','Idle Max','Fwd Seg Size Min','Bwd Packet Length Min','Protocol','Idle Mean','Fwd Init Win Bytes','FIN Flag Count','Fwd Act Data Pkts'],axis=1)#,'FWD Init Win Bytes','FIN Flag Count','Subflow Bwd Bytes',\\\n",
        "dark_binary"
      ],
      "metadata": {
        "colab": {
          "base_uri": "https://localhost:8080/",
          "height": 480
        },
        "id": "nNSRR4TyveJ8",
        "outputId": "9c912e88-a221-4ee6-f48c-44936c485e14"
      },
      "execution_count": null,
      "outputs": [
        {
          "output_type": "execute_result",
          "data": {
            "text/plain": [
              "        Total Fwd Packet      Idle Max  Fwd Seg Size Min  \\\n",
              "118611                 2  0.000000e+00                32   \n",
              "118612                 1  0.000000e+00                32   \n",
              "118613                 3  1.432320e+15                32   \n",
              "118614                 2  1.432320e+15                32   \n",
              "118615                 1  0.000000e+00                32   \n",
              "...                  ...           ...               ...   \n",
              "118606                 1  0.000000e+00                 8   \n",
              "118607                 2  0.000000e+00                 0   \n",
              "118608                 3  1.427990e+15                32   \n",
              "118609                 3  1.427990e+15                32   \n",
              "118610                 3  1.427990e+15                32   \n",
              "\n",
              "        Bwd Packet Length Min  Protocol     Idle Mean  FIN Flag Count  \\\n",
              "118611                      0         6  0.000000e+00               1   \n",
              "118612                      0         6  0.000000e+00               2   \n",
              "118613                      0         6  7.161610e+14               1   \n",
              "118614                      0         6  1.432320e+15               1   \n",
              "118615                      0         6  0.000000e+00               1   \n",
              "...                       ...       ...           ...             ...   \n",
              "118606                    238        17  0.000000e+00               0   \n",
              "118607                      0         0  0.000000e+00               0   \n",
              "118608                      0         6  1.427980e+15               0   \n",
              "118609                      0         6  1.427980e+15               0   \n",
              "118610                      0         6  1.427980e+15               0   \n",
              "\n",
              "        Fwd Act Data Pkts  \n",
              "118611                  0  \n",
              "118612                  0  \n",
              "118613                  0  \n",
              "118614                  0  \n",
              "118615                  0  \n",
              "...                   ...  \n",
              "118606                  0  \n",
              "118607                  0  \n",
              "118608                  0  \n",
              "118609                  0  \n",
              "118610                  0  \n",
              "\n",
              "[11392 rows x 8 columns]"
            ],
            "text/html": [
              "\n",
              "  <div id=\"df-157041e1-fcab-402e-83a9-5a62790b3928\">\n",
              "    <div class=\"colab-df-container\">\n",
              "      <div>\n",
              "<style scoped>\n",
              "    .dataframe tbody tr th:only-of-type {\n",
              "        vertical-align: middle;\n",
              "    }\n",
              "\n",
              "    .dataframe tbody tr th {\n",
              "        vertical-align: top;\n",
              "    }\n",
              "\n",
              "    .dataframe thead th {\n",
              "        text-align: right;\n",
              "    }\n",
              "</style>\n",
              "<table border=\"1\" class=\"dataframe\">\n",
              "  <thead>\n",
              "    <tr style=\"text-align: right;\">\n",
              "      <th></th>\n",
              "      <th>Total Fwd Packet</th>\n",
              "      <th>Idle Max</th>\n",
              "      <th>Fwd Seg Size Min</th>\n",
              "      <th>Bwd Packet Length Min</th>\n",
              "      <th>Protocol</th>\n",
              "      <th>Idle Mean</th>\n",
              "      <th>FIN Flag Count</th>\n",
              "      <th>Fwd Act Data Pkts</th>\n",
              "    </tr>\n",
              "  </thead>\n",
              "  <tbody>\n",
              "    <tr>\n",
              "      <th>118611</th>\n",
              "      <td>2</td>\n",
              "      <td>0.000000e+00</td>\n",
              "      <td>32</td>\n",
              "      <td>0</td>\n",
              "      <td>6</td>\n",
              "      <td>0.000000e+00</td>\n",
              "      <td>1</td>\n",
              "      <td>0</td>\n",
              "    </tr>\n",
              "    <tr>\n",
              "      <th>118612</th>\n",
              "      <td>1</td>\n",
              "      <td>0.000000e+00</td>\n",
              "      <td>32</td>\n",
              "      <td>0</td>\n",
              "      <td>6</td>\n",
              "      <td>0.000000e+00</td>\n",
              "      <td>2</td>\n",
              "      <td>0</td>\n",
              "    </tr>\n",
              "    <tr>\n",
              "      <th>118613</th>\n",
              "      <td>3</td>\n",
              "      <td>1.432320e+15</td>\n",
              "      <td>32</td>\n",
              "      <td>0</td>\n",
              "      <td>6</td>\n",
              "      <td>7.161610e+14</td>\n",
              "      <td>1</td>\n",
              "      <td>0</td>\n",
              "    </tr>\n",
              "    <tr>\n",
              "      <th>118614</th>\n",
              "      <td>2</td>\n",
              "      <td>1.432320e+15</td>\n",
              "      <td>32</td>\n",
              "      <td>0</td>\n",
              "      <td>6</td>\n",
              "      <td>1.432320e+15</td>\n",
              "      <td>1</td>\n",
              "      <td>0</td>\n",
              "    </tr>\n",
              "    <tr>\n",
              "      <th>118615</th>\n",
              "      <td>1</td>\n",
              "      <td>0.000000e+00</td>\n",
              "      <td>32</td>\n",
              "      <td>0</td>\n",
              "      <td>6</td>\n",
              "      <td>0.000000e+00</td>\n",
              "      <td>1</td>\n",
              "      <td>0</td>\n",
              "    </tr>\n",
              "    <tr>\n",
              "      <th>...</th>\n",
              "      <td>...</td>\n",
              "      <td>...</td>\n",
              "      <td>...</td>\n",
              "      <td>...</td>\n",
              "      <td>...</td>\n",
              "      <td>...</td>\n",
              "      <td>...</td>\n",
              "      <td>...</td>\n",
              "    </tr>\n",
              "    <tr>\n",
              "      <th>118606</th>\n",
              "      <td>1</td>\n",
              "      <td>0.000000e+00</td>\n",
              "      <td>8</td>\n",
              "      <td>238</td>\n",
              "      <td>17</td>\n",
              "      <td>0.000000e+00</td>\n",
              "      <td>0</td>\n",
              "      <td>0</td>\n",
              "    </tr>\n",
              "    <tr>\n",
              "      <th>118607</th>\n",
              "      <td>2</td>\n",
              "      <td>0.000000e+00</td>\n",
              "      <td>0</td>\n",
              "      <td>0</td>\n",
              "      <td>0</td>\n",
              "      <td>0.000000e+00</td>\n",
              "      <td>0</td>\n",
              "      <td>0</td>\n",
              "    </tr>\n",
              "    <tr>\n",
              "      <th>118608</th>\n",
              "      <td>3</td>\n",
              "      <td>1.427990e+15</td>\n",
              "      <td>32</td>\n",
              "      <td>0</td>\n",
              "      <td>6</td>\n",
              "      <td>1.427980e+15</td>\n",
              "      <td>0</td>\n",
              "      <td>0</td>\n",
              "    </tr>\n",
              "    <tr>\n",
              "      <th>118609</th>\n",
              "      <td>3</td>\n",
              "      <td>1.427990e+15</td>\n",
              "      <td>32</td>\n",
              "      <td>0</td>\n",
              "      <td>6</td>\n",
              "      <td>1.427980e+15</td>\n",
              "      <td>0</td>\n",
              "      <td>0</td>\n",
              "    </tr>\n",
              "    <tr>\n",
              "      <th>118610</th>\n",
              "      <td>3</td>\n",
              "      <td>1.427990e+15</td>\n",
              "      <td>32</td>\n",
              "      <td>0</td>\n",
              "      <td>6</td>\n",
              "      <td>1.427980e+15</td>\n",
              "      <td>0</td>\n",
              "      <td>0</td>\n",
              "    </tr>\n",
              "  </tbody>\n",
              "</table>\n",
              "<p>11392 rows × 8 columns</p>\n",
              "</div>\n",
              "      <button class=\"colab-df-convert\" onclick=\"convertToInteractive('df-157041e1-fcab-402e-83a9-5a62790b3928')\"\n",
              "              title=\"Convert this dataframe to an interactive table.\"\n",
              "              style=\"display:none;\">\n",
              "        \n",
              "  <svg xmlns=\"http://www.w3.org/2000/svg\" height=\"24px\"viewBox=\"0 0 24 24\"\n",
              "       width=\"24px\">\n",
              "    <path d=\"M0 0h24v24H0V0z\" fill=\"none\"/>\n",
              "    <path d=\"M18.56 5.44l.94 2.06.94-2.06 2.06-.94-2.06-.94-.94-2.06-.94 2.06-2.06.94zm-11 1L8.5 8.5l.94-2.06 2.06-.94-2.06-.94L8.5 2.5l-.94 2.06-2.06.94zm10 10l.94 2.06.94-2.06 2.06-.94-2.06-.94-.94-2.06-.94 2.06-2.06.94z\"/><path d=\"M17.41 7.96l-1.37-1.37c-.4-.4-.92-.59-1.43-.59-.52 0-1.04.2-1.43.59L10.3 9.45l-7.72 7.72c-.78.78-.78 2.05 0 2.83L4 21.41c.39.39.9.59 1.41.59.51 0 1.02-.2 1.41-.59l7.78-7.78 2.81-2.81c.8-.78.8-2.07 0-2.86zM5.41 20L4 18.59l7.72-7.72 1.47 1.35L5.41 20z\"/>\n",
              "  </svg>\n",
              "      </button>\n",
              "      \n",
              "  <style>\n",
              "    .colab-df-container {\n",
              "      display:flex;\n",
              "      flex-wrap:wrap;\n",
              "      gap: 12px;\n",
              "    }\n",
              "\n",
              "    .colab-df-convert {\n",
              "      background-color: #E8F0FE;\n",
              "      border: none;\n",
              "      border-radius: 50%;\n",
              "      cursor: pointer;\n",
              "      display: none;\n",
              "      fill: #1967D2;\n",
              "      height: 32px;\n",
              "      padding: 0 0 0 0;\n",
              "      width: 32px;\n",
              "    }\n",
              "\n",
              "    .colab-df-convert:hover {\n",
              "      background-color: #E2EBFA;\n",
              "      box-shadow: 0px 1px 2px rgba(60, 64, 67, 0.3), 0px 1px 3px 1px rgba(60, 64, 67, 0.15);\n",
              "      fill: #174EA6;\n",
              "    }\n",
              "\n",
              "    [theme=dark] .colab-df-convert {\n",
              "      background-color: #3B4455;\n",
              "      fill: #D2E3FC;\n",
              "    }\n",
              "\n",
              "    [theme=dark] .colab-df-convert:hover {\n",
              "      background-color: #434B5C;\n",
              "      box-shadow: 0px 1px 3px 1px rgba(0, 0, 0, 0.15);\n",
              "      filter: drop-shadow(0px 1px 2px rgba(0, 0, 0, 0.3));\n",
              "      fill: #FFFFFF;\n",
              "    }\n",
              "  </style>\n",
              "\n",
              "      <script>\n",
              "        const buttonEl =\n",
              "          document.querySelector('#df-157041e1-fcab-402e-83a9-5a62790b3928 button.colab-df-convert');\n",
              "        buttonEl.style.display =\n",
              "          google.colab.kernel.accessAllowed ? 'block' : 'none';\n",
              "\n",
              "        async function convertToInteractive(key) {\n",
              "          const element = document.querySelector('#df-157041e1-fcab-402e-83a9-5a62790b3928');\n",
              "          const dataTable =\n",
              "            await google.colab.kernel.invokeFunction('convertToInteractive',\n",
              "                                                     [key], {});\n",
              "          if (!dataTable) return;\n",
              "\n",
              "          const docLinkHtml = 'Like what you see? Visit the ' +\n",
              "            '<a target=\"_blank\" href=https://colab.research.google.com/notebooks/data_table.ipynb>data table notebook</a>'\n",
              "            + ' to learn more about interactive tables.';\n",
              "          element.innerHTML = '';\n",
              "          dataTable['output_type'] = 'display_data';\n",
              "          await google.colab.output.renderOutput(dataTable, element);\n",
              "          const docLink = document.createElement('div');\n",
              "          docLink.innerHTML = docLinkHtml;\n",
              "          element.appendChild(docLink);\n",
              "        }\n",
              "      </script>\n",
              "    </div>\n",
              "  </div>\n",
              "  "
            ]
          },
          "metadata": {},
          "execution_count": 69
        }
      ]
    },
    {
      "cell_type": "code",
      "source": [
        "from sklearn.linear_model import LogisticRegression\n",
        "X=dark_binary\n",
        "Y=tar_binary\n",
        "X_train, X_test, y_train, y_test = train_test_split(X, Y, test_size = 0.2, random_state=42)\n",
        "print(\"Train Size: \", len(y_train))\n",
        "print(\"Test Size: \", len(y_test))"
      ],
      "metadata": {
        "colab": {
          "base_uri": "https://localhost:8080/",
          "height": 375
        },
        "id": "73_TquEnriBn",
        "outputId": "79adbae0-e85b-4d03-f50b-beac4a309833"
      },
      "execution_count": null,
      "outputs": [
        {
          "output_type": "error",
          "ename": "ValueError",
          "evalue": "ignored",
          "traceback": [
            "\u001b[0;31m---------------------------------------------------------------------------\u001b[0m",
            "\u001b[0;31mValueError\u001b[0m                                Traceback (most recent call last)",
            "\u001b[0;32m<ipython-input-58-5d87c5f7476a>\u001b[0m in \u001b[0;36m<module>\u001b[0;34m\u001b[0m\n\u001b[1;32m      2\u001b[0m \u001b[0mX\u001b[0m\u001b[0;34m=\u001b[0m\u001b[0mdark_binary\u001b[0m\u001b[0;34m\u001b[0m\u001b[0;34m\u001b[0m\u001b[0m\n\u001b[1;32m      3\u001b[0m \u001b[0mY\u001b[0m\u001b[0;34m=\u001b[0m\u001b[0mtar_binary\u001b[0m\u001b[0;34m\u001b[0m\u001b[0;34m\u001b[0m\u001b[0m\n\u001b[0;32m----> 4\u001b[0;31m \u001b[0mX_train\u001b[0m\u001b[0;34m,\u001b[0m \u001b[0mX_test\u001b[0m\u001b[0;34m,\u001b[0m \u001b[0my_train\u001b[0m\u001b[0;34m,\u001b[0m \u001b[0my_test\u001b[0m \u001b[0;34m=\u001b[0m \u001b[0mtrain_test_split\u001b[0m\u001b[0;34m(\u001b[0m\u001b[0mX\u001b[0m\u001b[0;34m,\u001b[0m \u001b[0mY\u001b[0m\u001b[0;34m,\u001b[0m \u001b[0mtest_size\u001b[0m \u001b[0;34m=\u001b[0m \u001b[0;36m0.2\u001b[0m\u001b[0;34m,\u001b[0m \u001b[0mrandom_state\u001b[0m\u001b[0;34m=\u001b[0m\u001b[0;36m42\u001b[0m\u001b[0;34m)\u001b[0m\u001b[0;34m\u001b[0m\u001b[0;34m\u001b[0m\u001b[0m\n\u001b[0m\u001b[1;32m      5\u001b[0m \u001b[0mprint\u001b[0m\u001b[0;34m(\u001b[0m\u001b[0;34m\"Train Size: \"\u001b[0m\u001b[0;34m,\u001b[0m \u001b[0mlen\u001b[0m\u001b[0;34m(\u001b[0m\u001b[0my_train\u001b[0m\u001b[0;34m)\u001b[0m\u001b[0;34m)\u001b[0m\u001b[0;34m\u001b[0m\u001b[0;34m\u001b[0m\u001b[0m\n\u001b[1;32m      6\u001b[0m \u001b[0mprint\u001b[0m\u001b[0;34m(\u001b[0m\u001b[0;34m\"Test Size: \"\u001b[0m\u001b[0;34m,\u001b[0m \u001b[0mlen\u001b[0m\u001b[0;34m(\u001b[0m\u001b[0my_test\u001b[0m\u001b[0;34m)\u001b[0m\u001b[0;34m)\u001b[0m\u001b[0;34m\u001b[0m\u001b[0;34m\u001b[0m\u001b[0m\n",
            "\u001b[0;32m/usr/local/lib/python3.9/dist-packages/sklearn/model_selection/_split.py\u001b[0m in \u001b[0;36mtrain_test_split\u001b[0;34m(test_size, train_size, random_state, shuffle, stratify, *arrays)\u001b[0m\n\u001b[1;32m   2557\u001b[0m         \u001b[0;32mraise\u001b[0m \u001b[0mValueError\u001b[0m\u001b[0;34m(\u001b[0m\u001b[0;34m\"At least one array required as input\"\u001b[0m\u001b[0;34m)\u001b[0m\u001b[0;34m\u001b[0m\u001b[0;34m\u001b[0m\u001b[0m\n\u001b[1;32m   2558\u001b[0m \u001b[0;34m\u001b[0m\u001b[0m\n\u001b[0;32m-> 2559\u001b[0;31m     \u001b[0marrays\u001b[0m \u001b[0;34m=\u001b[0m \u001b[0mindexable\u001b[0m\u001b[0;34m(\u001b[0m\u001b[0;34m*\u001b[0m\u001b[0marrays\u001b[0m\u001b[0;34m)\u001b[0m\u001b[0;34m\u001b[0m\u001b[0;34m\u001b[0m\u001b[0m\n\u001b[0m\u001b[1;32m   2560\u001b[0m \u001b[0;34m\u001b[0m\u001b[0m\n\u001b[1;32m   2561\u001b[0m     \u001b[0mn_samples\u001b[0m \u001b[0;34m=\u001b[0m \u001b[0m_num_samples\u001b[0m\u001b[0;34m(\u001b[0m\u001b[0marrays\u001b[0m\u001b[0;34m[\u001b[0m\u001b[0;36m0\u001b[0m\u001b[0;34m]\u001b[0m\u001b[0;34m)\u001b[0m\u001b[0;34m\u001b[0m\u001b[0;34m\u001b[0m\u001b[0m\n",
            "\u001b[0;32m/usr/local/lib/python3.9/dist-packages/sklearn/utils/validation.py\u001b[0m in \u001b[0;36mindexable\u001b[0;34m(*iterables)\u001b[0m\n\u001b[1;32m    441\u001b[0m \u001b[0;34m\u001b[0m\u001b[0m\n\u001b[1;32m    442\u001b[0m     \u001b[0mresult\u001b[0m \u001b[0;34m=\u001b[0m \u001b[0;34m[\u001b[0m\u001b[0m_make_indexable\u001b[0m\u001b[0;34m(\u001b[0m\u001b[0mX\u001b[0m\u001b[0;34m)\u001b[0m \u001b[0;32mfor\u001b[0m \u001b[0mX\u001b[0m \u001b[0;32min\u001b[0m \u001b[0miterables\u001b[0m\u001b[0;34m]\u001b[0m\u001b[0;34m\u001b[0m\u001b[0;34m\u001b[0m\u001b[0m\n\u001b[0;32m--> 443\u001b[0;31m     \u001b[0mcheck_consistent_length\u001b[0m\u001b[0;34m(\u001b[0m\u001b[0;34m*\u001b[0m\u001b[0mresult\u001b[0m\u001b[0;34m)\u001b[0m\u001b[0;34m\u001b[0m\u001b[0;34m\u001b[0m\u001b[0m\n\u001b[0m\u001b[1;32m    444\u001b[0m     \u001b[0;32mreturn\u001b[0m \u001b[0mresult\u001b[0m\u001b[0;34m\u001b[0m\u001b[0;34m\u001b[0m\u001b[0m\n\u001b[1;32m    445\u001b[0m \u001b[0;34m\u001b[0m\u001b[0m\n",
            "\u001b[0;32m/usr/local/lib/python3.9/dist-packages/sklearn/utils/validation.py\u001b[0m in \u001b[0;36mcheck_consistent_length\u001b[0;34m(*arrays)\u001b[0m\n\u001b[1;32m    395\u001b[0m     \u001b[0muniques\u001b[0m \u001b[0;34m=\u001b[0m \u001b[0mnp\u001b[0m\u001b[0;34m.\u001b[0m\u001b[0munique\u001b[0m\u001b[0;34m(\u001b[0m\u001b[0mlengths\u001b[0m\u001b[0;34m)\u001b[0m\u001b[0;34m\u001b[0m\u001b[0;34m\u001b[0m\u001b[0m\n\u001b[1;32m    396\u001b[0m     \u001b[0;32mif\u001b[0m \u001b[0mlen\u001b[0m\u001b[0;34m(\u001b[0m\u001b[0muniques\u001b[0m\u001b[0;34m)\u001b[0m \u001b[0;34m>\u001b[0m \u001b[0;36m1\u001b[0m\u001b[0;34m:\u001b[0m\u001b[0;34m\u001b[0m\u001b[0;34m\u001b[0m\u001b[0m\n\u001b[0;32m--> 397\u001b[0;31m         raise ValueError(\n\u001b[0m\u001b[1;32m    398\u001b[0m             \u001b[0;34m\"Found input variables with inconsistent numbers of samples: %r\"\u001b[0m\u001b[0;34m\u001b[0m\u001b[0;34m\u001b[0m\u001b[0m\n\u001b[1;32m    399\u001b[0m             \u001b[0;34m%\u001b[0m \u001b[0;34m[\u001b[0m\u001b[0mint\u001b[0m\u001b[0;34m(\u001b[0m\u001b[0ml\u001b[0m\u001b[0;34m)\u001b[0m \u001b[0;32mfor\u001b[0m \u001b[0ml\u001b[0m \u001b[0;32min\u001b[0m \u001b[0mlengths\u001b[0m\u001b[0;34m]\u001b[0m\u001b[0;34m\u001b[0m\u001b[0;34m\u001b[0m\u001b[0m\n",
            "\u001b[0;31mValueError\u001b[0m: Found input variables with inconsistent numbers of samples: [11392, 10000]"
          ]
        }
      ]
    },
    {
      "cell_type": "code",
      "source": [
        "l_model = LogisticRegression()\n",
        "l_model.fit(X_train, y_train.values.ravel())\n",
        "result = l_model.predict(X_test)\n",
        "result.shape\n",
        "print(result)"
      ],
      "metadata": {
        "colab": {
          "base_uri": "https://localhost:8080/"
        },
        "id": "dM1wQa5tupLX",
        "outputId": "4e480622-899e-41ce-ec58-6edbf9f55065"
      },
      "execution_count": null,
      "outputs": [
        {
          "output_type": "stream",
          "name": "stdout",
          "text": [
            "[10 10 10 ... 10 10 10]\n"
          ]
        }
      ]
    },
    {
      "cell_type": "code",
      "source": [
        "from sklearn.metrics import classification_report\n",
        "print(classification_report(y_test, result))"
      ],
      "metadata": {
        "colab": {
          "base_uri": "https://localhost:8080/"
        },
        "id": "tIGmWuNkvxx9",
        "outputId": "1abb6a0d-5463-4213-f14c-f5ac710b7d03"
      },
      "execution_count": null,
      "outputs": [
        {
          "output_type": "stream",
          "name": "stdout",
          "text": [
            "              precision    recall  f1-score   support\n",
            "\n",
            "          10       0.88      0.90      0.89      2010\n",
            "          11       0.08      0.07      0.07       269\n",
            "\n",
            "    accuracy                           0.80      2279\n",
            "   macro avg       0.48      0.48      0.48      2279\n",
            "weighted avg       0.78      0.80      0.79      2279\n",
            "\n"
          ]
        }
      ]
    },
    {
      "cell_type": "code",
      "source": [
        "from sklearn.metrics import confusion_matrix\n",
        "cmtx = confusion_matrix(y_test, l_model.predict(X_test))\n",
        "cmtx"
      ],
      "metadata": {
        "colab": {
          "base_uri": "https://localhost:8080/"
        },
        "id": "sb3X7SZ0wkLq",
        "outputId": "5604257f-d5da-4c22-f97a-2911cb8cdce5"
      },
      "execution_count": null,
      "outputs": [
        {
          "output_type": "execute_result",
          "data": {
            "text/plain": [
              "array([[1813,  197],\n",
              "       [ 251,   18]])"
            ]
          },
          "metadata": {},
          "execution_count": 86
        }
      ]
    },
    {
      "cell_type": "markdown",
      "source": [
        "## Multiclass Logistic Regression"
      ],
      "metadata": {
        "id": "ru71jQ5G5ZhN"
      }
    },
    {
      "cell_type": "code",
      "source": [
        "from sklearn.model_selection import train_test_split\n",
        "X = newDarknet\n",
        "y = target\n",
        "# Split into training and test set\n",
        "X_train, X_test, y_train, y_test = train_test_split(X, y, test_size = 0.1, random_state=42)\n",
        "print(\"Train Size: \", len(y_train))\n",
        "print(\"Test Size: \", len(y_test))"
      ],
      "metadata": {
        "colab": {
          "base_uri": "https://localhost:8080/"
        },
        "id": "i055LisyT78c",
        "outputId": "bf4b9df3-d410-43fc-bc57-cc2d102da71e"
      },
      "execution_count": null,
      "outputs": [
        {
          "output_type": "stream",
          "name": "stdout",
          "text": [
            "Train Size:  127334\n",
            "Test Size:  14149\n"
          ]
        }
      ]
    },
    {
      "cell_type": "code",
      "source": [
        "from sklearn.linear_model import LogisticRegression\n",
        "l_model = LogisticRegression(multi_class='multinomial', solver='saga')\n",
        "l_model.fit(X_train, y_train.values.ravel())\n",
        "result = l_model.predict(X_test)\n",
        "result.shape\n",
        "print(result)"
      ],
      "metadata": {
        "colab": {
          "base_uri": "https://localhost:8080/"
        },
        "id": "94gfrz6nT8M2",
        "outputId": "ddc69edf-2e38-4db0-a5ba-6e3b5d1511da"
      },
      "execution_count": null,
      "outputs": [
        {
          "output_type": "stream",
          "name": "stdout",
          "text": [
            "[0 0 0 ... 0 0 0]\n"
          ]
        },
        {
          "output_type": "stream",
          "name": "stderr",
          "text": [
            "/usr/local/lib/python3.9/dist-packages/sklearn/linear_model/_sag.py:350: ConvergenceWarning:\n",
            "\n",
            "The max_iter was reached which means the coef_ did not converge\n",
            "\n"
          ]
        }
      ]
    },
    {
      "cell_type": "code",
      "source": [
        "from sklearn.metrics import classification_report\n",
        "print(classification_report(y_test, result))"
      ],
      "metadata": {
        "colab": {
          "base_uri": "https://localhost:8080/"
        },
        "id": "4OZYI0umT8P2",
        "outputId": "b8cccd60-9690-49b4-a08f-27edb3680d96"
      },
      "execution_count": null,
      "outputs": [
        {
          "output_type": "stream",
          "name": "stdout",
          "text": [
            "              precision    recall  f1-score   support\n",
            "\n",
            "           0       0.83      1.00      0.91     11693\n",
            "          10       0.71      0.02      0.04      2334\n",
            "          11       0.22      0.09      0.13       122\n",
            "\n",
            "    accuracy                           0.83     14149\n",
            "   macro avg       0.59      0.37      0.36     14149\n",
            "weighted avg       0.81      0.83      0.76     14149\n",
            "\n"
          ]
        }
      ]
    },
    {
      "cell_type": "code",
      "source": [
        "from sklearn.metrics import confusion_matrix\n",
        "cmtx = confusion_matrix(y_test, l_model.predict(X_test))\n",
        "cmtx"
      ],
      "metadata": {
        "colab": {
          "base_uri": "https://localhost:8080/"
        },
        "id": "OKlWrdK7YBCY",
        "outputId": "3624ef78-8839-4dd8-ff47-f47a3bfb55c3"
      },
      "execution_count": null,
      "outputs": [
        {
          "output_type": "execute_result",
          "data": {
            "text/plain": [
              "array([[11659,    20,    14],\n",
              "       [ 2258,    51,    25],\n",
              "       [  110,     1,    11]])"
            ]
          },
          "metadata": {},
          "execution_count": 23
        }
      ]
    },
    {
      "cell_type": "code",
      "source": [
        "from sklearn.metrics import accuracy_score\n",
        "from sklearn import metrics\n",
        "print('Accuracy:', accuracy_score(result,y_test))"
      ],
      "metadata": {
        "colab": {
          "base_uri": "https://localhost:8080/"
        },
        "id": "klAB9j1RZ98m",
        "outputId": "c99385a6-9e0f-4343-fb62-37e4dbb8cd7d"
      },
      "execution_count": null,
      "outputs": [
        {
          "output_type": "stream",
          "name": "stdout",
          "text": [
            "Accuracy: 0.8283977666266167\n"
          ]
        }
      ]
    },
    {
      "cell_type": "code",
      "source": [
        "result.shape"
      ],
      "metadata": {
        "id": "Ro5J-rbZaHL8",
        "outputId": "771a706e-dfa7-42f4-e78a-50a1205becf5",
        "colab": {
          "base_uri": "https://localhost:8080/"
        }
      },
      "execution_count": null,
      "outputs": [
        {
          "output_type": "execute_result",
          "data": {
            "text/plain": [
              "(14149,)"
            ]
          },
          "metadata": {},
          "execution_count": 25
        }
      ]
    },
    {
      "cell_type": "markdown",
      "source": [
        "## Random Forest Sklearn"
      ],
      "metadata": {
        "id": "8mBErnRQxC4n"
      }
    },
    {
      "cell_type": "code",
      "source": [
        "from sklearn.ensemble import RandomForestClassifier\n",
        "from sklearn.model_selection import train_test_split"
      ],
      "metadata": {
        "id": "Y3KObscAWw-a"
      },
      "execution_count": null,
      "outputs": []
    },
    {
      "cell_type": "code",
      "source": [
        "X = newDarknet\n",
        "y = target\n",
        "\n",
        "# Split into training and test set\n",
        "X_train, X_test, y_train, y_test = train_test_split(X, y, test_size = 0.2, random_state=32)\n",
        "\n",
        "print(\"Train Size: \", len(y_train))\n",
        "print(\"Test Size: \", len(y_test))"
      ],
      "metadata": {
        "colab": {
          "base_uri": "https://localhost:8080/"
        },
        "id": "qG0cy3IGxIm2",
        "outputId": "96eeabf5-962f-498d-c9c2-8e5b3f620490"
      },
      "execution_count": null,
      "outputs": [
        {
          "output_type": "stream",
          "name": "stdout",
          "text": [
            "Train Size:  113186\n",
            "Test Size:  28297\n"
          ]
        }
      ]
    },
    {
      "cell_type": "code",
      "source": [
        "r_model = RandomForestClassifier(n_estimators=120, max_depth=5, random_state=42)\n",
        "r_model.fit(X_train, y_train)\n",
        "result=r_model.predict(X_test)"
      ],
      "metadata": {
        "id": "Wh0Gt364xnGp",
        "colab": {
          "base_uri": "https://localhost:8080/"
        },
        "outputId": "9e7d391b-2989-460e-e024-ad15f67291b0"
      },
      "execution_count": null,
      "outputs": [
        {
          "output_type": "stream",
          "name": "stderr",
          "text": [
            "<ipython-input-61-7fbe6906f142>:2: DataConversionWarning:\n",
            "\n",
            "A column-vector y was passed when a 1d array was expected. Please change the shape of y to (n_samples,), for example using ravel().\n",
            "\n"
          ]
        }
      ]
    },
    {
      "cell_type": "code",
      "source": [
        "y_test2=y_test.to_numpy()\n",
        "comp=pd.DataFrame({'True': y_test2.flatten(), 'Predicted': result})\n",
        "comp"
      ],
      "metadata": {
        "colab": {
          "base_uri": "https://localhost:8080/",
          "height": 419
        },
        "id": "z-Z_kkFsx2gs",
        "outputId": "6704c470-6a27-42a9-e0f3-b86058cb1ea1"
      },
      "execution_count": null,
      "outputs": [
        {
          "output_type": "execute_result",
          "data": {
            "text/plain": [
              "       True  Predicted\n",
              "0         0          0\n",
              "1         0          0\n",
              "2         0          0\n",
              "3         0          0\n",
              "4         0          0\n",
              "...     ...        ...\n",
              "28292     0          0\n",
              "28293     0          0\n",
              "28294     0          0\n",
              "28295     0          0\n",
              "28296     0          0\n",
              "\n",
              "[28297 rows x 2 columns]"
            ],
            "text/html": [
              "\n",
              "  <div id=\"df-2b75b6b0-a304-49d3-9e5b-23ea4a1e0236\">\n",
              "    <div class=\"colab-df-container\">\n",
              "      <div>\n",
              "<style scoped>\n",
              "    .dataframe tbody tr th:only-of-type {\n",
              "        vertical-align: middle;\n",
              "    }\n",
              "\n",
              "    .dataframe tbody tr th {\n",
              "        vertical-align: top;\n",
              "    }\n",
              "\n",
              "    .dataframe thead th {\n",
              "        text-align: right;\n",
              "    }\n",
              "</style>\n",
              "<table border=\"1\" class=\"dataframe\">\n",
              "  <thead>\n",
              "    <tr style=\"text-align: right;\">\n",
              "      <th></th>\n",
              "      <th>True</th>\n",
              "      <th>Predicted</th>\n",
              "    </tr>\n",
              "  </thead>\n",
              "  <tbody>\n",
              "    <tr>\n",
              "      <th>0</th>\n",
              "      <td>0</td>\n",
              "      <td>0</td>\n",
              "    </tr>\n",
              "    <tr>\n",
              "      <th>1</th>\n",
              "      <td>0</td>\n",
              "      <td>0</td>\n",
              "    </tr>\n",
              "    <tr>\n",
              "      <th>2</th>\n",
              "      <td>0</td>\n",
              "      <td>0</td>\n",
              "    </tr>\n",
              "    <tr>\n",
              "      <th>3</th>\n",
              "      <td>0</td>\n",
              "      <td>0</td>\n",
              "    </tr>\n",
              "    <tr>\n",
              "      <th>4</th>\n",
              "      <td>0</td>\n",
              "      <td>0</td>\n",
              "    </tr>\n",
              "    <tr>\n",
              "      <th>...</th>\n",
              "      <td>...</td>\n",
              "      <td>...</td>\n",
              "    </tr>\n",
              "    <tr>\n",
              "      <th>28292</th>\n",
              "      <td>0</td>\n",
              "      <td>0</td>\n",
              "    </tr>\n",
              "    <tr>\n",
              "      <th>28293</th>\n",
              "      <td>0</td>\n",
              "      <td>0</td>\n",
              "    </tr>\n",
              "    <tr>\n",
              "      <th>28294</th>\n",
              "      <td>0</td>\n",
              "      <td>0</td>\n",
              "    </tr>\n",
              "    <tr>\n",
              "      <th>28295</th>\n",
              "      <td>0</td>\n",
              "      <td>0</td>\n",
              "    </tr>\n",
              "    <tr>\n",
              "      <th>28296</th>\n",
              "      <td>0</td>\n",
              "      <td>0</td>\n",
              "    </tr>\n",
              "  </tbody>\n",
              "</table>\n",
              "<p>28297 rows × 2 columns</p>\n",
              "</div>\n",
              "      <button class=\"colab-df-convert\" onclick=\"convertToInteractive('df-2b75b6b0-a304-49d3-9e5b-23ea4a1e0236')\"\n",
              "              title=\"Convert this dataframe to an interactive table.\"\n",
              "              style=\"display:none;\">\n",
              "        \n",
              "  <svg xmlns=\"http://www.w3.org/2000/svg\" height=\"24px\"viewBox=\"0 0 24 24\"\n",
              "       width=\"24px\">\n",
              "    <path d=\"M0 0h24v24H0V0z\" fill=\"none\"/>\n",
              "    <path d=\"M18.56 5.44l.94 2.06.94-2.06 2.06-.94-2.06-.94-.94-2.06-.94 2.06-2.06.94zm-11 1L8.5 8.5l.94-2.06 2.06-.94-2.06-.94L8.5 2.5l-.94 2.06-2.06.94zm10 10l.94 2.06.94-2.06 2.06-.94-2.06-.94-.94-2.06-.94 2.06-2.06.94z\"/><path d=\"M17.41 7.96l-1.37-1.37c-.4-.4-.92-.59-1.43-.59-.52 0-1.04.2-1.43.59L10.3 9.45l-7.72 7.72c-.78.78-.78 2.05 0 2.83L4 21.41c.39.39.9.59 1.41.59.51 0 1.02-.2 1.41-.59l7.78-7.78 2.81-2.81c.8-.78.8-2.07 0-2.86zM5.41 20L4 18.59l7.72-7.72 1.47 1.35L5.41 20z\"/>\n",
              "  </svg>\n",
              "      </button>\n",
              "      \n",
              "  <style>\n",
              "    .colab-df-container {\n",
              "      display:flex;\n",
              "      flex-wrap:wrap;\n",
              "      gap: 12px;\n",
              "    }\n",
              "\n",
              "    .colab-df-convert {\n",
              "      background-color: #E8F0FE;\n",
              "      border: none;\n",
              "      border-radius: 50%;\n",
              "      cursor: pointer;\n",
              "      display: none;\n",
              "      fill: #1967D2;\n",
              "      height: 32px;\n",
              "      padding: 0 0 0 0;\n",
              "      width: 32px;\n",
              "    }\n",
              "\n",
              "    .colab-df-convert:hover {\n",
              "      background-color: #E2EBFA;\n",
              "      box-shadow: 0px 1px 2px rgba(60, 64, 67, 0.3), 0px 1px 3px 1px rgba(60, 64, 67, 0.15);\n",
              "      fill: #174EA6;\n",
              "    }\n",
              "\n",
              "    [theme=dark] .colab-df-convert {\n",
              "      background-color: #3B4455;\n",
              "      fill: #D2E3FC;\n",
              "    }\n",
              "\n",
              "    [theme=dark] .colab-df-convert:hover {\n",
              "      background-color: #434B5C;\n",
              "      box-shadow: 0px 1px 3px 1px rgba(0, 0, 0, 0.15);\n",
              "      filter: drop-shadow(0px 1px 2px rgba(0, 0, 0, 0.3));\n",
              "      fill: #FFFFFF;\n",
              "    }\n",
              "  </style>\n",
              "\n",
              "      <script>\n",
              "        const buttonEl =\n",
              "          document.querySelector('#df-2b75b6b0-a304-49d3-9e5b-23ea4a1e0236 button.colab-df-convert');\n",
              "        buttonEl.style.display =\n",
              "          google.colab.kernel.accessAllowed ? 'block' : 'none';\n",
              "\n",
              "        async function convertToInteractive(key) {\n",
              "          const element = document.querySelector('#df-2b75b6b0-a304-49d3-9e5b-23ea4a1e0236');\n",
              "          const dataTable =\n",
              "            await google.colab.kernel.invokeFunction('convertToInteractive',\n",
              "                                                     [key], {});\n",
              "          if (!dataTable) return;\n",
              "\n",
              "          const docLinkHtml = 'Like what you see? Visit the ' +\n",
              "            '<a target=\"_blank\" href=https://colab.research.google.com/notebooks/data_table.ipynb>data table notebook</a>'\n",
              "            + ' to learn more about interactive tables.';\n",
              "          element.innerHTML = '';\n",
              "          dataTable['output_type'] = 'display_data';\n",
              "          await google.colab.output.renderOutput(dataTable, element);\n",
              "          const docLink = document.createElement('div');\n",
              "          docLink.innerHTML = docLinkHtml;\n",
              "          element.appendChild(docLink);\n",
              "        }\n",
              "      </script>\n",
              "    </div>\n",
              "  </div>\n",
              "  "
            ]
          },
          "metadata": {},
          "execution_count": 62
        }
      ]
    },
    {
      "cell_type": "code",
      "source": [
        "from sklearn.metrics import accuracy_score\n",
        "\n",
        "print('Accuracy:', accuracy_score(y_test,result))\n",
        "#print('Mean Squared Error:', metrics.mean_squared_error(y_test, result))\n",
        "#print('Root Mean Squared Error:', np.sqrt(metrics.mean_squared_error(y_test, result)))"
      ],
      "metadata": {
        "id": "43NKqyz41Fex",
        "colab": {
          "base_uri": "https://localhost:8080/"
        },
        "outputId": "708be181-5f50-4156-ba47-8d0bb6914ee7"
      },
      "execution_count": null,
      "outputs": [
        {
          "output_type": "stream",
          "name": "stdout",
          "text": [
            "Accuracy: 0.9165989327490547\n"
          ]
        }
      ]
    },
    {
      "cell_type": "code",
      "source": [
        "from sklearn.metrics import confusion_matrix\n",
        "cmtx = confusion_matrix(y_test, r_model.predict(X_test))\n",
        "cmtx\n",
        "#"
      ],
      "metadata": {
        "colab": {
          "base_uri": "https://localhost:8080/"
        },
        "id": "4Gzmz8cxlSZf",
        "outputId": "ac5a06ac-d27f-4bbd-ccf3-52097c77badc"
      },
      "execution_count": null,
      "outputs": [
        {
          "output_type": "execute_result",
          "data": {
            "text/plain": [
              "array([[22222,  1187],\n",
              "       [ 1173,  3715]])"
            ]
          },
          "metadata": {},
          "execution_count": 64
        }
      ]
    },
    {
      "cell_type": "code",
      "source": [
        "import plotly.figure_factory as ff\n",
        "\n",
        "fig = ff.create_annotated_heatmap(z=cmtx, showscale=True)\n",
        "fig.update_layout(font=dict(size=20))\n",
        "# Add Labels\n",
        "fig.add_annotation(x=0,y=0, text=\"Act Reg-Pred Reg\", yshift=20, showarrow=False, font=dict(color=\"black\",size=20))\n",
        "fig.add_annotation(x=1,y=0, text=\"Act Reg-Pred VPN\", yshift=20, showarrow=False, font=dict(color=\"white\",size=20))\n",
        "fig.add_annotation(x=2,y=0, text=\"Act Reg-Pred Tor\", yshift=20, showarrow=False, font=dict(color=\"white\",size=20))\n",
        "\n",
        "fig.add_annotation(x=0,y=1, text=\"Act VPN-Pred Reg\", yshift=20, showarrow=False, font=dict(color=\"white\",size=20))\n",
        "fig.add_annotation(x=1,y=1, text=\"Act VPN-Pred VPN\", yshift=20, showarrow=False, font=dict(color=\"white\",size=20))\n",
        "fig.add_annotation(x=2,y=1, text=\"Act VPN-Pred Tor\", yshift=20, showarrow=False, font=dict(color=\"white\",size=20))\n",
        "\n",
        "fig.add_annotation(x=0,y=2, text=\"Act Tor-Pred Reg\", yshift=20, showarrow=False, font=dict(color=\"white\",size=20))\n",
        "fig.add_annotation(x=1,y=2, text=\"Act Tor-Pred VPN\", yshift=20, showarrow=False, font=dict(color=\"white\",size=20))\n",
        "fig.add_annotation(x=2,y=2, text=\"Act Tor-Pred Tor\", yshift=20, showarrow=False, font=dict(color=\"white\",size=20))\n",
        "\n",
        "fig.update_xaxes(title=\"Predicted\")\n",
        "fig.update_yaxes(title=\"Actual\", autorange=\"reversed\")\n"
      ],
      "metadata": {
        "colab": {
          "base_uri": "https://localhost:8080/",
          "height": 542
        },
        "id": "GyQfByZPl-CZ",
        "outputId": "adef2123-43d3-48d9-8ab3-8e15dec0b2b4"
      },
      "execution_count": null,
      "outputs": [
        {
          "output_type": "display_data",
          "data": {
            "text/html": [
              "<html>\n",
              "<head><meta charset=\"utf-8\" /></head>\n",
              "<body>\n",
              "    <div>            <script src=\"https://cdnjs.cloudflare.com/ajax/libs/mathjax/2.7.5/MathJax.js?config=TeX-AMS-MML_SVG\"></script><script type=\"text/javascript\">if (window.MathJax) {MathJax.Hub.Config({SVG: {font: \"STIX-Web\"}});}</script>                <script type=\"text/javascript\">window.PlotlyConfig = {MathJaxConfig: 'local'};</script>\n",
              "        <script src=\"https://cdn.plot.ly/plotly-2.8.3.min.js\"></script>                <div id=\"7896fa89-09f7-4faa-b40b-eab2153bf158\" class=\"plotly-graph-div\" style=\"height:525px; width:100%;\"></div>            <script type=\"text/javascript\">                                    window.PLOTLYENV=window.PLOTLYENV || {};                                    if (document.getElementById(\"7896fa89-09f7-4faa-b40b-eab2153bf158\")) {                    Plotly.newPlot(                        \"7896fa89-09f7-4faa-b40b-eab2153bf158\",                        [{\"colorscale\":[[0.0,\"#0d0887\"],[0.1111111111111111,\"#46039f\"],[0.2222222222222222,\"#7201a8\"],[0.3333333333333333,\"#9c179e\"],[0.4444444444444444,\"#bd3786\"],[0.5555555555555556,\"#d8576b\"],[0.6666666666666666,\"#ed7953\"],[0.7777777777777778,\"#fb9f3a\"],[0.8888888888888888,\"#fdca26\"],[1.0,\"#f0f921\"]],\"reversescale\":false,\"showscale\":true,\"z\":[[22222,1187],[1173,3715]],\"type\":\"heatmap\"}],                        {\"annotations\":[{\"font\":{\"color\":\"#000000\"},\"showarrow\":false,\"text\":\"22222\",\"x\":0,\"xref\":\"x\",\"y\":0,\"yref\":\"y\"},{\"font\":{\"color\":\"#FFFFFF\"},\"showarrow\":false,\"text\":\"1187\",\"x\":1,\"xref\":\"x\",\"y\":0,\"yref\":\"y\"},{\"font\":{\"color\":\"#FFFFFF\"},\"showarrow\":false,\"text\":\"1173\",\"x\":0,\"xref\":\"x\",\"y\":1,\"yref\":\"y\"},{\"font\":{\"color\":\"#FFFFFF\"},\"showarrow\":false,\"text\":\"3715\",\"x\":1,\"xref\":\"x\",\"y\":1,\"yref\":\"y\"},{\"font\":{\"color\":\"black\",\"size\":20},\"showarrow\":false,\"text\":\"Act Reg-Pred Reg\",\"x\":0,\"y\":0,\"yshift\":20},{\"font\":{\"color\":\"white\",\"size\":20},\"showarrow\":false,\"text\":\"Act Reg-Pred VPN\",\"x\":1,\"y\":0,\"yshift\":20},{\"font\":{\"color\":\"white\",\"size\":20},\"showarrow\":false,\"text\":\"Act Reg-Pred Tor\",\"x\":2,\"y\":0,\"yshift\":20},{\"font\":{\"color\":\"white\",\"size\":20},\"showarrow\":false,\"text\":\"Act VPN-Pred Reg\",\"x\":0,\"y\":1,\"yshift\":20},{\"font\":{\"color\":\"white\",\"size\":20},\"showarrow\":false,\"text\":\"Act VPN-Pred VPN\",\"x\":1,\"y\":1,\"yshift\":20},{\"font\":{\"color\":\"white\",\"size\":20},\"showarrow\":false,\"text\":\"Act VPN-Pred Tor\",\"x\":2,\"y\":1,\"yshift\":20},{\"font\":{\"color\":\"white\",\"size\":20},\"showarrow\":false,\"text\":\"Act Tor-Pred Reg\",\"x\":0,\"y\":2,\"yshift\":20},{\"font\":{\"color\":\"white\",\"size\":20},\"showarrow\":false,\"text\":\"Act Tor-Pred VPN\",\"x\":1,\"y\":2,\"yshift\":20},{\"font\":{\"color\":\"white\",\"size\":20},\"showarrow\":false,\"text\":\"Act Tor-Pred Tor\",\"x\":2,\"y\":2,\"yshift\":20}],\"xaxis\":{\"gridcolor\":\"rgb(0, 0, 0)\",\"showticklabels\":false,\"side\":\"top\",\"ticks\":\"\",\"title\":{\"text\":\"Predicted\"}},\"yaxis\":{\"showticklabels\":false,\"ticks\":\"\",\"ticksuffix\":\"  \",\"title\":{\"text\":\"Actual\"},\"autorange\":\"reversed\"},\"template\":{\"data\":{\"bar\":[{\"error_x\":{\"color\":\"#2a3f5f\"},\"error_y\":{\"color\":\"#2a3f5f\"},\"marker\":{\"line\":{\"color\":\"#E5ECF6\",\"width\":0.5},\"pattern\":{\"fillmode\":\"overlay\",\"size\":10,\"solidity\":0.2}},\"type\":\"bar\"}],\"barpolar\":[{\"marker\":{\"line\":{\"color\":\"#E5ECF6\",\"width\":0.5},\"pattern\":{\"fillmode\":\"overlay\",\"size\":10,\"solidity\":0.2}},\"type\":\"barpolar\"}],\"carpet\":[{\"aaxis\":{\"endlinecolor\":\"#2a3f5f\",\"gridcolor\":\"white\",\"linecolor\":\"white\",\"minorgridcolor\":\"white\",\"startlinecolor\":\"#2a3f5f\"},\"baxis\":{\"endlinecolor\":\"#2a3f5f\",\"gridcolor\":\"white\",\"linecolor\":\"white\",\"minorgridcolor\":\"white\",\"startlinecolor\":\"#2a3f5f\"},\"type\":\"carpet\"}],\"choropleth\":[{\"colorbar\":{\"outlinewidth\":0,\"ticks\":\"\"},\"type\":\"choropleth\"}],\"contour\":[{\"colorbar\":{\"outlinewidth\":0,\"ticks\":\"\"},\"colorscale\":[[0.0,\"#0d0887\"],[0.1111111111111111,\"#46039f\"],[0.2222222222222222,\"#7201a8\"],[0.3333333333333333,\"#9c179e\"],[0.4444444444444444,\"#bd3786\"],[0.5555555555555556,\"#d8576b\"],[0.6666666666666666,\"#ed7953\"],[0.7777777777777778,\"#fb9f3a\"],[0.8888888888888888,\"#fdca26\"],[1.0,\"#f0f921\"]],\"type\":\"contour\"}],\"contourcarpet\":[{\"colorbar\":{\"outlinewidth\":0,\"ticks\":\"\"},\"type\":\"contourcarpet\"}],\"heatmap\":[{\"colorbar\":{\"outlinewidth\":0,\"ticks\":\"\"},\"colorscale\":[[0.0,\"#0d0887\"],[0.1111111111111111,\"#46039f\"],[0.2222222222222222,\"#7201a8\"],[0.3333333333333333,\"#9c179e\"],[0.4444444444444444,\"#bd3786\"],[0.5555555555555556,\"#d8576b\"],[0.6666666666666666,\"#ed7953\"],[0.7777777777777778,\"#fb9f3a\"],[0.8888888888888888,\"#fdca26\"],[1.0,\"#f0f921\"]],\"type\":\"heatmap\"}],\"heatmapgl\":[{\"colorbar\":{\"outlinewidth\":0,\"ticks\":\"\"},\"colorscale\":[[0.0,\"#0d0887\"],[0.1111111111111111,\"#46039f\"],[0.2222222222222222,\"#7201a8\"],[0.3333333333333333,\"#9c179e\"],[0.4444444444444444,\"#bd3786\"],[0.5555555555555556,\"#d8576b\"],[0.6666666666666666,\"#ed7953\"],[0.7777777777777778,\"#fb9f3a\"],[0.8888888888888888,\"#fdca26\"],[1.0,\"#f0f921\"]],\"type\":\"heatmapgl\"}],\"histogram\":[{\"marker\":{\"pattern\":{\"fillmode\":\"overlay\",\"size\":10,\"solidity\":0.2}},\"type\":\"histogram\"}],\"histogram2d\":[{\"colorbar\":{\"outlinewidth\":0,\"ticks\":\"\"},\"colorscale\":[[0.0,\"#0d0887\"],[0.1111111111111111,\"#46039f\"],[0.2222222222222222,\"#7201a8\"],[0.3333333333333333,\"#9c179e\"],[0.4444444444444444,\"#bd3786\"],[0.5555555555555556,\"#d8576b\"],[0.6666666666666666,\"#ed7953\"],[0.7777777777777778,\"#fb9f3a\"],[0.8888888888888888,\"#fdca26\"],[1.0,\"#f0f921\"]],\"type\":\"histogram2d\"}],\"histogram2dcontour\":[{\"colorbar\":{\"outlinewidth\":0,\"ticks\":\"\"},\"colorscale\":[[0.0,\"#0d0887\"],[0.1111111111111111,\"#46039f\"],[0.2222222222222222,\"#7201a8\"],[0.3333333333333333,\"#9c179e\"],[0.4444444444444444,\"#bd3786\"],[0.5555555555555556,\"#d8576b\"],[0.6666666666666666,\"#ed7953\"],[0.7777777777777778,\"#fb9f3a\"],[0.8888888888888888,\"#fdca26\"],[1.0,\"#f0f921\"]],\"type\":\"histogram2dcontour\"}],\"mesh3d\":[{\"colorbar\":{\"outlinewidth\":0,\"ticks\":\"\"},\"type\":\"mesh3d\"}],\"parcoords\":[{\"line\":{\"colorbar\":{\"outlinewidth\":0,\"ticks\":\"\"}},\"type\":\"parcoords\"}],\"pie\":[{\"automargin\":true,\"type\":\"pie\"}],\"scatter\":[{\"marker\":{\"colorbar\":{\"outlinewidth\":0,\"ticks\":\"\"}},\"type\":\"scatter\"}],\"scatter3d\":[{\"line\":{\"colorbar\":{\"outlinewidth\":0,\"ticks\":\"\"}},\"marker\":{\"colorbar\":{\"outlinewidth\":0,\"ticks\":\"\"}},\"type\":\"scatter3d\"}],\"scattercarpet\":[{\"marker\":{\"colorbar\":{\"outlinewidth\":0,\"ticks\":\"\"}},\"type\":\"scattercarpet\"}],\"scattergeo\":[{\"marker\":{\"colorbar\":{\"outlinewidth\":0,\"ticks\":\"\"}},\"type\":\"scattergeo\"}],\"scattergl\":[{\"marker\":{\"colorbar\":{\"outlinewidth\":0,\"ticks\":\"\"}},\"type\":\"scattergl\"}],\"scattermapbox\":[{\"marker\":{\"colorbar\":{\"outlinewidth\":0,\"ticks\":\"\"}},\"type\":\"scattermapbox\"}],\"scatterpolar\":[{\"marker\":{\"colorbar\":{\"outlinewidth\":0,\"ticks\":\"\"}},\"type\":\"scatterpolar\"}],\"scatterpolargl\":[{\"marker\":{\"colorbar\":{\"outlinewidth\":0,\"ticks\":\"\"}},\"type\":\"scatterpolargl\"}],\"scatterternary\":[{\"marker\":{\"colorbar\":{\"outlinewidth\":0,\"ticks\":\"\"}},\"type\":\"scatterternary\"}],\"surface\":[{\"colorbar\":{\"outlinewidth\":0,\"ticks\":\"\"},\"colorscale\":[[0.0,\"#0d0887\"],[0.1111111111111111,\"#46039f\"],[0.2222222222222222,\"#7201a8\"],[0.3333333333333333,\"#9c179e\"],[0.4444444444444444,\"#bd3786\"],[0.5555555555555556,\"#d8576b\"],[0.6666666666666666,\"#ed7953\"],[0.7777777777777778,\"#fb9f3a\"],[0.8888888888888888,\"#fdca26\"],[1.0,\"#f0f921\"]],\"type\":\"surface\"}],\"table\":[{\"cells\":{\"fill\":{\"color\":\"#EBF0F8\"},\"line\":{\"color\":\"white\"}},\"header\":{\"fill\":{\"color\":\"#C8D4E3\"},\"line\":{\"color\":\"white\"}},\"type\":\"table\"}]},\"layout\":{\"annotationdefaults\":{\"arrowcolor\":\"#2a3f5f\",\"arrowhead\":0,\"arrowwidth\":1},\"autotypenumbers\":\"strict\",\"coloraxis\":{\"colorbar\":{\"outlinewidth\":0,\"ticks\":\"\"}},\"colorscale\":{\"diverging\":[[0,\"#8e0152\"],[0.1,\"#c51b7d\"],[0.2,\"#de77ae\"],[0.3,\"#f1b6da\"],[0.4,\"#fde0ef\"],[0.5,\"#f7f7f7\"],[0.6,\"#e6f5d0\"],[0.7,\"#b8e186\"],[0.8,\"#7fbc41\"],[0.9,\"#4d9221\"],[1,\"#276419\"]],\"sequential\":[[0.0,\"#0d0887\"],[0.1111111111111111,\"#46039f\"],[0.2222222222222222,\"#7201a8\"],[0.3333333333333333,\"#9c179e\"],[0.4444444444444444,\"#bd3786\"],[0.5555555555555556,\"#d8576b\"],[0.6666666666666666,\"#ed7953\"],[0.7777777777777778,\"#fb9f3a\"],[0.8888888888888888,\"#fdca26\"],[1.0,\"#f0f921\"]],\"sequentialminus\":[[0.0,\"#0d0887\"],[0.1111111111111111,\"#46039f\"],[0.2222222222222222,\"#7201a8\"],[0.3333333333333333,\"#9c179e\"],[0.4444444444444444,\"#bd3786\"],[0.5555555555555556,\"#d8576b\"],[0.6666666666666666,\"#ed7953\"],[0.7777777777777778,\"#fb9f3a\"],[0.8888888888888888,\"#fdca26\"],[1.0,\"#f0f921\"]]},\"colorway\":[\"#636efa\",\"#EF553B\",\"#00cc96\",\"#ab63fa\",\"#FFA15A\",\"#19d3f3\",\"#FF6692\",\"#B6E880\",\"#FF97FF\",\"#FECB52\"],\"font\":{\"color\":\"#2a3f5f\"},\"geo\":{\"bgcolor\":\"white\",\"lakecolor\":\"white\",\"landcolor\":\"#E5ECF6\",\"showlakes\":true,\"showland\":true,\"subunitcolor\":\"white\"},\"hoverlabel\":{\"align\":\"left\"},\"hovermode\":\"closest\",\"mapbox\":{\"style\":\"light\"},\"paper_bgcolor\":\"white\",\"plot_bgcolor\":\"#E5ECF6\",\"polar\":{\"angularaxis\":{\"gridcolor\":\"white\",\"linecolor\":\"white\",\"ticks\":\"\"},\"bgcolor\":\"#E5ECF6\",\"radialaxis\":{\"gridcolor\":\"white\",\"linecolor\":\"white\",\"ticks\":\"\"}},\"scene\":{\"xaxis\":{\"backgroundcolor\":\"#E5ECF6\",\"gridcolor\":\"white\",\"gridwidth\":2,\"linecolor\":\"white\",\"showbackground\":true,\"ticks\":\"\",\"zerolinecolor\":\"white\"},\"yaxis\":{\"backgroundcolor\":\"#E5ECF6\",\"gridcolor\":\"white\",\"gridwidth\":2,\"linecolor\":\"white\",\"showbackground\":true,\"ticks\":\"\",\"zerolinecolor\":\"white\"},\"zaxis\":{\"backgroundcolor\":\"#E5ECF6\",\"gridcolor\":\"white\",\"gridwidth\":2,\"linecolor\":\"white\",\"showbackground\":true,\"ticks\":\"\",\"zerolinecolor\":\"white\"}},\"shapedefaults\":{\"line\":{\"color\":\"#2a3f5f\"}},\"ternary\":{\"aaxis\":{\"gridcolor\":\"white\",\"linecolor\":\"white\",\"ticks\":\"\"},\"baxis\":{\"gridcolor\":\"white\",\"linecolor\":\"white\",\"ticks\":\"\"},\"bgcolor\":\"#E5ECF6\",\"caxis\":{\"gridcolor\":\"white\",\"linecolor\":\"white\",\"ticks\":\"\"}},\"title\":{\"x\":0.05},\"xaxis\":{\"automargin\":true,\"gridcolor\":\"white\",\"linecolor\":\"white\",\"ticks\":\"\",\"title\":{\"standoff\":15},\"zerolinecolor\":\"white\",\"zerolinewidth\":2},\"yaxis\":{\"automargin\":true,\"gridcolor\":\"white\",\"linecolor\":\"white\",\"ticks\":\"\",\"title\":{\"standoff\":15},\"zerolinecolor\":\"white\",\"zerolinewidth\":2}}},\"font\":{\"size\":20}},                        {\"responsive\": true}                    ).then(function(){\n",
              "                            \n",
              "var gd = document.getElementById('7896fa89-09f7-4faa-b40b-eab2153bf158');\n",
              "var x = new MutationObserver(function (mutations, observer) {{\n",
              "        var display = window.getComputedStyle(gd).display;\n",
              "        if (!display || display === 'none') {{\n",
              "            console.log([gd, 'removed!']);\n",
              "            Plotly.purge(gd);\n",
              "            observer.disconnect();\n",
              "        }}\n",
              "}});\n",
              "\n",
              "// Listen for the removal of the full notebook cells\n",
              "var notebookContainer = gd.closest('#notebook-container');\n",
              "if (notebookContainer) {{\n",
              "    x.observe(notebookContainer, {childList: true});\n",
              "}}\n",
              "\n",
              "// Listen for the clearing of the current output cell\n",
              "var outputEl = gd.closest('.output');\n",
              "if (outputEl) {{\n",
              "    x.observe(outputEl, {childList: true});\n",
              "}}\n",
              "\n",
              "                        })                };                            </script>        </div>\n",
              "</body>\n",
              "</html>"
            ]
          },
          "metadata": {}
        }
      ]
    },
    {
      "cell_type": "code",
      "source": [
        "from sklearn.metrics import classification_report\n",
        "print(classification_report(y_test, result))"
      ],
      "metadata": {
        "colab": {
          "base_uri": "https://localhost:8080/"
        },
        "id": "XmNr4nrFF1NC",
        "outputId": "ed4951d8-b10a-4b1b-aea9-5dd443cc36b6"
      },
      "execution_count": null,
      "outputs": [
        {
          "output_type": "stream",
          "name": "stdout",
          "text": [
            "              precision    recall  f1-score   support\n",
            "\n",
            "           0       0.95      0.95      0.95     23409\n",
            "          10       0.76      0.76      0.76      4888\n",
            "\n",
            "    accuracy                           0.92     28297\n",
            "   macro avg       0.85      0.85      0.85     28297\n",
            "weighted avg       0.92      0.92      0.92     28297\n",
            "\n"
          ]
        }
      ]
    },
    {
      "cell_type": "markdown",
      "source": [
        "precision=TruePositive/(TruePositive+FalsePositive)\n",
        "recall=TruePositive/(TruePositive+FalseNegative)"
      ],
      "metadata": {
        "id": "DHxN9Jga_JVa"
      }
    },
    {
      "cell_type": "markdown",
      "source": [
        "## Naive Bayes"
      ],
      "metadata": {
        "id": "tdBDzj1KfFtu"
      }
    },
    {
      "cell_type": "code",
      "source": [
        "'''from sklearn.svm import SVC\n",
        "X = newDarknet\n",
        "y = target\n",
        "X_train, X_test, y_train, y_test = train_test_split(X, y, test_size = 0.2, random_state=1)\n",
        "#svm_model_linear = SVC(kernel = 'linear', C = 1).fit(X_train, y_train)\n",
        "#svm_predictions = svm_model_linear.predict(X_test)'''"
      ],
      "metadata": {
        "id": "G5JyyaCwfFEd"
      },
      "execution_count": null,
      "outputs": []
    },
    {
      "cell_type": "code",
      "source": [
        "from sklearn.naive_bayes import GaussianNB\n",
        "b_model = GaussianNB().fit(X_train, y_train.values.ravel())\n",
        "result = b_model.predict(X_test)"
      ],
      "metadata": {
        "id": "oJ8Jb_Xg6dlQ"
      },
      "execution_count": null,
      "outputs": []
    },
    {
      "cell_type": "code",
      "source": [
        "from sklearn.metrics import accuracy_score\n",
        "# test model using test dataset\n",
        "print(result)\n",
        "print('Accuracy:', accuracy_score(y_test,result))"
      ],
      "metadata": {
        "colab": {
          "base_uri": "https://localhost:8080/"
        },
        "id": "Vli9-DF16fSt",
        "outputId": "62ec0ad6-0492-4fdd-f5ef-c353a0076a0e"
      },
      "execution_count": null,
      "outputs": [
        {
          "output_type": "stream",
          "name": "stdout",
          "text": [
            "[0 0 0 ... 0 0 0]\n",
            "Accuracy: 0.8272608403717708\n"
          ]
        }
      ]
    },
    {
      "cell_type": "code",
      "source": [
        "from sklearn.metrics import classification_report\n",
        "print(classification_report(y_test, result))"
      ],
      "metadata": {
        "colab": {
          "base_uri": "https://localhost:8080/"
        },
        "id": "aGMl_VrU7uYu",
        "outputId": "48302a92-c234-4501-e715-331255966c2c"
      },
      "execution_count": null,
      "outputs": [
        {
          "output_type": "stream",
          "name": "stdout",
          "text": [
            "              precision    recall  f1-score   support\n",
            "\n",
            "           0       0.83      1.00      0.91     23409\n",
            "          10       0.00      0.00      0.00      4607\n",
            "          11       0.00      0.00      0.00       281\n",
            "\n",
            "    accuracy                           0.83     28297\n",
            "   macro avg       0.28      0.33      0.30     28297\n",
            "weighted avg       0.68      0.83      0.75     28297\n",
            "\n"
          ]
        },
        {
          "output_type": "stream",
          "name": "stderr",
          "text": [
            "/usr/local/lib/python3.7/dist-packages/sklearn/metrics/_classification.py:1318: UndefinedMetricWarning:\n",
            "\n",
            "Precision and F-score are ill-defined and being set to 0.0 in labels with no predicted samples. Use `zero_division` parameter to control this behavior.\n",
            "\n",
            "/usr/local/lib/python3.7/dist-packages/sklearn/metrics/_classification.py:1318: UndefinedMetricWarning:\n",
            "\n",
            "Precision and F-score are ill-defined and being set to 0.0 in labels with no predicted samples. Use `zero_division` parameter to control this behavior.\n",
            "\n",
            "/usr/local/lib/python3.7/dist-packages/sklearn/metrics/_classification.py:1318: UndefinedMetricWarning:\n",
            "\n",
            "Precision and F-score are ill-defined and being set to 0.0 in labels with no predicted samples. Use `zero_division` parameter to control this behavior.\n",
            "\n"
          ]
        }
      ]
    },
    {
      "cell_type": "code",
      "source": [
        "from sklearn.metrics import confusion_matrix\n",
        "cmtx = confusion_matrix(y_test, b_model.predict(X_test))\n",
        "cmtx\n",
        "#"
      ],
      "metadata": {
        "colab": {
          "base_uri": "https://localhost:8080/"
        },
        "id": "IFM20QHg1Ul2",
        "outputId": "ca241dcc-bb6e-4716-c664-d1a882cf8aba"
      },
      "execution_count": null,
      "outputs": [
        {
          "output_type": "execute_result",
          "data": {
            "text/plain": [
              "array([[23409,     0,     0],\n",
              "       [ 4607,     0,     0],\n",
              "       [  281,     0,     0]])"
            ]
          },
          "metadata": {},
          "execution_count": 33
        }
      ]
    },
    {
      "cell_type": "markdown",
      "source": [
        "# Characterization"
      ],
      "metadata": {
        "id": "fo6R4wIg0KfN"
      }
    },
    {
      "cell_type": "markdown",
      "source": [
        "## Extract application types"
      ],
      "metadata": {
        "id": "NQ8An72J2iYx"
      }
    },
    {
      "cell_type": "code",
      "source": [
        "tar_char=df.filter(['Label.1'], axis=1)"
      ],
      "metadata": {
        "id": "cVh_FANE0OZ7"
      },
      "execution_count": null,
      "outputs": []
    },
    {
      "cell_type": "code",
      "source": [
        "wrongvalue=tar_char[tar_char['Label.1']=='Audio-Streaming']\n",
        "wrongvalue.index.tolist()"
      ],
      "metadata": {
        "id": "7FE_jufHyRl8"
      },
      "execution_count": null,
      "outputs": []
    },
    {
      "cell_type": "code",
      "source": [
        "(tar_char['Label.1']=='Video-streaming').any()"
      ],
      "metadata": {
        "colab": {
          "base_uri": "https://localhost:8080/"
        },
        "id": "o3cxYV40t6aH",
        "outputId": "44b62933-e98c-4741-94b0-1074ac5b88b5"
      },
      "execution_count": null,
      "outputs": [
        {
          "output_type": "execute_result",
          "data": {
            "text/plain": [
              "True"
            ]
          },
          "metadata": {},
          "execution_count": 241
        }
      ]
    },
    {
      "cell_type": "markdown",
      "source": [
        "## Cleaning"
      ],
      "metadata": {
        "id": "7dDNh1Iq2rrI"
      }
    },
    {
      "cell_type": "code",
      "source": [
        "tar_char=tar_char.replace('AUDIO-STREAMING', 0)\n",
        "tar_char=tar_char.replace('Audio-Streaming', 0)\n",
        "tar_char=tar_char.replace('Browsing', 1)\n",
        "tar_char=tar_char.replace('Chat', 2)\n",
        "tar_char=tar_char.replace('Email',3)\n",
        "tar_char=tar_char.replace('P2P',4)\n",
        "tar_char=tar_char.replace('File-Transfer', 5)\n",
        "tar_char=tar_char.replace('File-transfer', 5)\n",
        "tar_char=tar_char.replace('Video-Streaming', 6)\n",
        "tar_char=tar_char.replace('Video-streaming', 6)\n",
        "tar_char=tar_char.replace('VOIP', 7)"
      ],
      "metadata": {
        "id": "I5dfgLTUVaEj"
      },
      "execution_count": null,
      "outputs": []
    },
    {
      "cell_type": "code",
      "source": [
        "tar_char"
      ],
      "metadata": {
        "colab": {
          "base_uri": "https://localhost:8080/",
          "height": 419
        },
        "id": "t2PRDZmNs9ba",
        "outputId": "1e0c16c9-b3be-4e48-f7cc-e588102ab2fa"
      },
      "execution_count": null,
      "outputs": [
        {
          "output_type": "execute_result",
          "data": {
            "text/plain": [
              "        Label.1\n",
              "0             0\n",
              "1             0\n",
              "2             0\n",
              "3             0\n",
              "4             0\n",
              "...         ...\n",
              "141525        7\n",
              "141526        7\n",
              "141527        7\n",
              "141528        7\n",
              "141529        7\n",
              "\n",
              "[141483 rows x 1 columns]"
            ],
            "text/html": [
              "\n",
              "  <div id=\"df-f32628d2-6764-4185-a29b-abb48e12c931\">\n",
              "    <div class=\"colab-df-container\">\n",
              "      <div>\n",
              "<style scoped>\n",
              "    .dataframe tbody tr th:only-of-type {\n",
              "        vertical-align: middle;\n",
              "    }\n",
              "\n",
              "    .dataframe tbody tr th {\n",
              "        vertical-align: top;\n",
              "    }\n",
              "\n",
              "    .dataframe thead th {\n",
              "        text-align: right;\n",
              "    }\n",
              "</style>\n",
              "<table border=\"1\" class=\"dataframe\">\n",
              "  <thead>\n",
              "    <tr style=\"text-align: right;\">\n",
              "      <th></th>\n",
              "      <th>Label.1</th>\n",
              "    </tr>\n",
              "  </thead>\n",
              "  <tbody>\n",
              "    <tr>\n",
              "      <th>0</th>\n",
              "      <td>0</td>\n",
              "    </tr>\n",
              "    <tr>\n",
              "      <th>1</th>\n",
              "      <td>0</td>\n",
              "    </tr>\n",
              "    <tr>\n",
              "      <th>2</th>\n",
              "      <td>0</td>\n",
              "    </tr>\n",
              "    <tr>\n",
              "      <th>3</th>\n",
              "      <td>0</td>\n",
              "    </tr>\n",
              "    <tr>\n",
              "      <th>4</th>\n",
              "      <td>0</td>\n",
              "    </tr>\n",
              "    <tr>\n",
              "      <th>...</th>\n",
              "      <td>...</td>\n",
              "    </tr>\n",
              "    <tr>\n",
              "      <th>141525</th>\n",
              "      <td>7</td>\n",
              "    </tr>\n",
              "    <tr>\n",
              "      <th>141526</th>\n",
              "      <td>7</td>\n",
              "    </tr>\n",
              "    <tr>\n",
              "      <th>141527</th>\n",
              "      <td>7</td>\n",
              "    </tr>\n",
              "    <tr>\n",
              "      <th>141528</th>\n",
              "      <td>7</td>\n",
              "    </tr>\n",
              "    <tr>\n",
              "      <th>141529</th>\n",
              "      <td>7</td>\n",
              "    </tr>\n",
              "  </tbody>\n",
              "</table>\n",
              "<p>141483 rows × 1 columns</p>\n",
              "</div>\n",
              "      <button class=\"colab-df-convert\" onclick=\"convertToInteractive('df-f32628d2-6764-4185-a29b-abb48e12c931')\"\n",
              "              title=\"Convert this dataframe to an interactive table.\"\n",
              "              style=\"display:none;\">\n",
              "        \n",
              "  <svg xmlns=\"http://www.w3.org/2000/svg\" height=\"24px\"viewBox=\"0 0 24 24\"\n",
              "       width=\"24px\">\n",
              "    <path d=\"M0 0h24v24H0V0z\" fill=\"none\"/>\n",
              "    <path d=\"M18.56 5.44l.94 2.06.94-2.06 2.06-.94-2.06-.94-.94-2.06-.94 2.06-2.06.94zm-11 1L8.5 8.5l.94-2.06 2.06-.94-2.06-.94L8.5 2.5l-.94 2.06-2.06.94zm10 10l.94 2.06.94-2.06 2.06-.94-2.06-.94-.94-2.06-.94 2.06-2.06.94z\"/><path d=\"M17.41 7.96l-1.37-1.37c-.4-.4-.92-.59-1.43-.59-.52 0-1.04.2-1.43.59L10.3 9.45l-7.72 7.72c-.78.78-.78 2.05 0 2.83L4 21.41c.39.39.9.59 1.41.59.51 0 1.02-.2 1.41-.59l7.78-7.78 2.81-2.81c.8-.78.8-2.07 0-2.86zM5.41 20L4 18.59l7.72-7.72 1.47 1.35L5.41 20z\"/>\n",
              "  </svg>\n",
              "      </button>\n",
              "      \n",
              "  <style>\n",
              "    .colab-df-container {\n",
              "      display:flex;\n",
              "      flex-wrap:wrap;\n",
              "      gap: 12px;\n",
              "    }\n",
              "\n",
              "    .colab-df-convert {\n",
              "      background-color: #E8F0FE;\n",
              "      border: none;\n",
              "      border-radius: 50%;\n",
              "      cursor: pointer;\n",
              "      display: none;\n",
              "      fill: #1967D2;\n",
              "      height: 32px;\n",
              "      padding: 0 0 0 0;\n",
              "      width: 32px;\n",
              "    }\n",
              "\n",
              "    .colab-df-convert:hover {\n",
              "      background-color: #E2EBFA;\n",
              "      box-shadow: 0px 1px 2px rgba(60, 64, 67, 0.3), 0px 1px 3px 1px rgba(60, 64, 67, 0.15);\n",
              "      fill: #174EA6;\n",
              "    }\n",
              "\n",
              "    [theme=dark] .colab-df-convert {\n",
              "      background-color: #3B4455;\n",
              "      fill: #D2E3FC;\n",
              "    }\n",
              "\n",
              "    [theme=dark] .colab-df-convert:hover {\n",
              "      background-color: #434B5C;\n",
              "      box-shadow: 0px 1px 3px 1px rgba(0, 0, 0, 0.15);\n",
              "      filter: drop-shadow(0px 1px 2px rgba(0, 0, 0, 0.3));\n",
              "      fill: #FFFFFF;\n",
              "    }\n",
              "  </style>\n",
              "\n",
              "      <script>\n",
              "        const buttonEl =\n",
              "          document.querySelector('#df-f32628d2-6764-4185-a29b-abb48e12c931 button.colab-df-convert');\n",
              "        buttonEl.style.display =\n",
              "          google.colab.kernel.accessAllowed ? 'block' : 'none';\n",
              "\n",
              "        async function convertToInteractive(key) {\n",
              "          const element = document.querySelector('#df-f32628d2-6764-4185-a29b-abb48e12c931');\n",
              "          const dataTable =\n",
              "            await google.colab.kernel.invokeFunction('convertToInteractive',\n",
              "                                                     [key], {});\n",
              "          if (!dataTable) return;\n",
              "\n",
              "          const docLinkHtml = 'Like what you see? Visit the ' +\n",
              "            '<a target=\"_blank\" href=https://colab.research.google.com/notebooks/data_table.ipynb>data table notebook</a>'\n",
              "            + ' to learn more about interactive tables.';\n",
              "          element.innerHTML = '';\n",
              "          dataTable['output_type'] = 'display_data';\n",
              "          await google.colab.output.renderOutput(dataTable, element);\n",
              "          const docLink = document.createElement('div');\n",
              "          docLink.innerHTML = docLinkHtml;\n",
              "          element.appendChild(docLink);\n",
              "        }\n",
              "      </script>\n",
              "    </div>\n",
              "  </div>\n",
              "  "
            ]
          },
          "metadata": {},
          "execution_count": 243
        }
      ]
    },
    {
      "cell_type": "code",
      "source": [
        "tar_char.loc[0]"
      ],
      "metadata": {
        "colab": {
          "base_uri": "https://localhost:8080/"
        },
        "id": "u3hEDV43q1t0",
        "outputId": "f1825d8c-7f11-4016-97d9-0fd9a19ebd6e"
      },
      "execution_count": null,
      "outputs": [
        {
          "output_type": "execute_result",
          "data": {
            "text/plain": [
              "Label.1    0\n",
              "Name: 0, dtype: int64"
            ]
          },
          "metadata": {},
          "execution_count": 244
        }
      ]
    },
    {
      "cell_type": "code",
      "source": [
        "#tar_char['Label.1']\n",
        "'''tar_char=tar_char.replace(['AUDIO-STREAMING','Browsing','Chat',\\\n",
        "                             'Email','P2P','File-Transfer','Video-Streaming','VOIP'],\\\n",
        "                            [0,1,2,3,4,5,6,7])'''"
      ],
      "metadata": {
        "id": "TYGry40bdy0e"
      },
      "execution_count": null,
      "outputs": []
    },
    {
      "cell_type": "markdown",
      "source": [
        "## Characterize all samples by Random Forest"
      ],
      "metadata": {
        "id": "0_4J6s2A2ubo"
      }
    },
    {
      "cell_type": "code",
      "source": [
        "from sklearn.model_selection import train_test_split\n",
        "# Create feature and target arrays\n",
        "X = newDarknet\n",
        "y = tar_char\n",
        "# Split into training and test set\n",
        "X_train, X_test, y_train, y_test = train_test_split(X, y, test_size = 0.3, random_state=42)\n",
        "print(\"Train Size: \", len(y_train))\n",
        "print(\"Test Size: \", len(y_test))"
      ],
      "metadata": {
        "colab": {
          "base_uri": "https://localhost:8080/"
        },
        "id": "AAnvinoPl45d",
        "outputId": "850477ab-066a-479d-f649-00546771a071"
      },
      "execution_count": null,
      "outputs": [
        {
          "output_type": "stream",
          "name": "stdout",
          "text": [
            "Train Size:  99038\n",
            "Test Size:  42445\n"
          ]
        }
      ]
    },
    {
      "cell_type": "code",
      "source": [
        "from sklearn.ensemble import RandomForestClassifier\n",
        "r_model = RandomForestClassifier(n_estimators=120, max_depth=5, random_state=42)\n",
        "r_model.fit(X_train, y_train)\n",
        "result=r_model.predict(X_test)"
      ],
      "metadata": {
        "colab": {
          "base_uri": "https://localhost:8080/"
        },
        "id": "hA7epNmLl4_w",
        "outputId": "47742d7e-af92-4370-d480-add99fe767e9"
      },
      "execution_count": null,
      "outputs": [
        {
          "output_type": "stream",
          "name": "stderr",
          "text": [
            "/usr/local/lib/python3.7/dist-packages/ipykernel_launcher.py:3: DataConversionWarning: A column-vector y was passed when a 1d array was expected. Please change the shape of y to (n_samples,), for example using ravel().\n",
            "  This is separate from the ipykernel package so we can avoid doing imports until\n"
          ]
        }
      ]
    },
    {
      "cell_type": "code",
      "source": [
        "y_test2=y_test.to_numpy()\n",
        "comp=pd.DataFrame({'True': y_test2.flatten(), 'Predicted': result})\n",
        "comp"
      ],
      "metadata": {
        "colab": {
          "base_uri": "https://localhost:8080/",
          "height": 419
        },
        "id": "E4b9FqJzxVPz",
        "outputId": "2eeafec8-6b91-412b-cbf9-223c15ec7d73"
      },
      "execution_count": null,
      "outputs": [
        {
          "output_type": "execute_result",
          "data": {
            "text/plain": [
              "       True  Predicted\n",
              "0         6          6\n",
              "1         4          4\n",
              "2         0          0\n",
              "3         4          4\n",
              "4         4          4\n",
              "...     ...        ...\n",
              "42440     2          0\n",
              "42441     1          4\n",
              "42442     5          4\n",
              "42443     2          0\n",
              "42444     4          4\n",
              "\n",
              "[42445 rows x 2 columns]"
            ],
            "text/html": [
              "\n",
              "  <div id=\"df-dd2bcec9-5384-473e-ba1c-b09314c57ed5\">\n",
              "    <div class=\"colab-df-container\">\n",
              "      <div>\n",
              "<style scoped>\n",
              "    .dataframe tbody tr th:only-of-type {\n",
              "        vertical-align: middle;\n",
              "    }\n",
              "\n",
              "    .dataframe tbody tr th {\n",
              "        vertical-align: top;\n",
              "    }\n",
              "\n",
              "    .dataframe thead th {\n",
              "        text-align: right;\n",
              "    }\n",
              "</style>\n",
              "<table border=\"1\" class=\"dataframe\">\n",
              "  <thead>\n",
              "    <tr style=\"text-align: right;\">\n",
              "      <th></th>\n",
              "      <th>True</th>\n",
              "      <th>Predicted</th>\n",
              "    </tr>\n",
              "  </thead>\n",
              "  <tbody>\n",
              "    <tr>\n",
              "      <th>0</th>\n",
              "      <td>6</td>\n",
              "      <td>6</td>\n",
              "    </tr>\n",
              "    <tr>\n",
              "      <th>1</th>\n",
              "      <td>4</td>\n",
              "      <td>4</td>\n",
              "    </tr>\n",
              "    <tr>\n",
              "      <th>2</th>\n",
              "      <td>0</td>\n",
              "      <td>0</td>\n",
              "    </tr>\n",
              "    <tr>\n",
              "      <th>3</th>\n",
              "      <td>4</td>\n",
              "      <td>4</td>\n",
              "    </tr>\n",
              "    <tr>\n",
              "      <th>4</th>\n",
              "      <td>4</td>\n",
              "      <td>4</td>\n",
              "    </tr>\n",
              "    <tr>\n",
              "      <th>...</th>\n",
              "      <td>...</td>\n",
              "      <td>...</td>\n",
              "    </tr>\n",
              "    <tr>\n",
              "      <th>42440</th>\n",
              "      <td>2</td>\n",
              "      <td>0</td>\n",
              "    </tr>\n",
              "    <tr>\n",
              "      <th>42441</th>\n",
              "      <td>1</td>\n",
              "      <td>4</td>\n",
              "    </tr>\n",
              "    <tr>\n",
              "      <th>42442</th>\n",
              "      <td>5</td>\n",
              "      <td>4</td>\n",
              "    </tr>\n",
              "    <tr>\n",
              "      <th>42443</th>\n",
              "      <td>2</td>\n",
              "      <td>0</td>\n",
              "    </tr>\n",
              "    <tr>\n",
              "      <th>42444</th>\n",
              "      <td>4</td>\n",
              "      <td>4</td>\n",
              "    </tr>\n",
              "  </tbody>\n",
              "</table>\n",
              "<p>42445 rows × 2 columns</p>\n",
              "</div>\n",
              "      <button class=\"colab-df-convert\" onclick=\"convertToInteractive('df-dd2bcec9-5384-473e-ba1c-b09314c57ed5')\"\n",
              "              title=\"Convert this dataframe to an interactive table.\"\n",
              "              style=\"display:none;\">\n",
              "        \n",
              "  <svg xmlns=\"http://www.w3.org/2000/svg\" height=\"24px\"viewBox=\"0 0 24 24\"\n",
              "       width=\"24px\">\n",
              "    <path d=\"M0 0h24v24H0V0z\" fill=\"none\"/>\n",
              "    <path d=\"M18.56 5.44l.94 2.06.94-2.06 2.06-.94-2.06-.94-.94-2.06-.94 2.06-2.06.94zm-11 1L8.5 8.5l.94-2.06 2.06-.94-2.06-.94L8.5 2.5l-.94 2.06-2.06.94zm10 10l.94 2.06.94-2.06 2.06-.94-2.06-.94-.94-2.06-.94 2.06-2.06.94z\"/><path d=\"M17.41 7.96l-1.37-1.37c-.4-.4-.92-.59-1.43-.59-.52 0-1.04.2-1.43.59L10.3 9.45l-7.72 7.72c-.78.78-.78 2.05 0 2.83L4 21.41c.39.39.9.59 1.41.59.51 0 1.02-.2 1.41-.59l7.78-7.78 2.81-2.81c.8-.78.8-2.07 0-2.86zM5.41 20L4 18.59l7.72-7.72 1.47 1.35L5.41 20z\"/>\n",
              "  </svg>\n",
              "      </button>\n",
              "      \n",
              "  <style>\n",
              "    .colab-df-container {\n",
              "      display:flex;\n",
              "      flex-wrap:wrap;\n",
              "      gap: 12px;\n",
              "    }\n",
              "\n",
              "    .colab-df-convert {\n",
              "      background-color: #E8F0FE;\n",
              "      border: none;\n",
              "      border-radius: 50%;\n",
              "      cursor: pointer;\n",
              "      display: none;\n",
              "      fill: #1967D2;\n",
              "      height: 32px;\n",
              "      padding: 0 0 0 0;\n",
              "      width: 32px;\n",
              "    }\n",
              "\n",
              "    .colab-df-convert:hover {\n",
              "      background-color: #E2EBFA;\n",
              "      box-shadow: 0px 1px 2px rgba(60, 64, 67, 0.3), 0px 1px 3px 1px rgba(60, 64, 67, 0.15);\n",
              "      fill: #174EA6;\n",
              "    }\n",
              "\n",
              "    [theme=dark] .colab-df-convert {\n",
              "      background-color: #3B4455;\n",
              "      fill: #D2E3FC;\n",
              "    }\n",
              "\n",
              "    [theme=dark] .colab-df-convert:hover {\n",
              "      background-color: #434B5C;\n",
              "      box-shadow: 0px 1px 3px 1px rgba(0, 0, 0, 0.15);\n",
              "      filter: drop-shadow(0px 1px 2px rgba(0, 0, 0, 0.3));\n",
              "      fill: #FFFFFF;\n",
              "    }\n",
              "  </style>\n",
              "\n",
              "      <script>\n",
              "        const buttonEl =\n",
              "          document.querySelector('#df-dd2bcec9-5384-473e-ba1c-b09314c57ed5 button.colab-df-convert');\n",
              "        buttonEl.style.display =\n",
              "          google.colab.kernel.accessAllowed ? 'block' : 'none';\n",
              "\n",
              "        async function convertToInteractive(key) {\n",
              "          const element = document.querySelector('#df-dd2bcec9-5384-473e-ba1c-b09314c57ed5');\n",
              "          const dataTable =\n",
              "            await google.colab.kernel.invokeFunction('convertToInteractive',\n",
              "                                                     [key], {});\n",
              "          if (!dataTable) return;\n",
              "\n",
              "          const docLinkHtml = 'Like what you see? Visit the ' +\n",
              "            '<a target=\"_blank\" href=https://colab.research.google.com/notebooks/data_table.ipynb>data table notebook</a>'\n",
              "            + ' to learn more about interactive tables.';\n",
              "          element.innerHTML = '';\n",
              "          dataTable['output_type'] = 'display_data';\n",
              "          await google.colab.output.renderOutput(dataTable, element);\n",
              "          const docLink = document.createElement('div');\n",
              "          docLink.innerHTML = docLinkHtml;\n",
              "          element.appendChild(docLink);\n",
              "        }\n",
              "      </script>\n",
              "    </div>\n",
              "  </div>\n",
              "  "
            ]
          },
          "metadata": {},
          "execution_count": 247
        }
      ]
    },
    {
      "cell_type": "code",
      "source": [
        "from sklearn.metrics import accuracy_score\n",
        "from sklearn import metrics\n",
        "print('Accuracy:', accuracy_score(result,y_test))\n",
        "print('Mean Squared Error:', metrics.mean_squared_error(y_test, result))\n",
        "print('Root Mean Squared Error:', np.sqrt(metrics.mean_squared_error(y_test, result)))"
      ],
      "metadata": {
        "colab": {
          "base_uri": "https://localhost:8080/"
        },
        "id": "UyM07kjkxc75",
        "outputId": "644f1b57-cf9b-4b3f-f26c-50d9f2582d93"
      },
      "execution_count": null,
      "outputs": [
        {
          "output_type": "stream",
          "name": "stdout",
          "text": [
            "Accuracy: 0.6947579220167275\n",
            "Mean Squared Error: 3.7849452232300624\n",
            "Root Mean Squared Error: 1.9454935680258783\n"
          ]
        }
      ]
    },
    {
      "cell_type": "code",
      "source": [
        "from sklearn.metrics import confusion_matrix\n",
        "cmtx = confusion_matrix(y_test, k_model.predict(X_test))\n",
        "cmtx"
      ],
      "metadata": {
        "colab": {
          "base_uri": "https://localhost:8080/"
        },
        "id": "ClJeGF7rxic9",
        "outputId": "ca3987b0-a818-4a20-a8eb-a9bbacea0aa4"
      },
      "execution_count": null,
      "outputs": [
        {
          "output_type": "execute_result",
          "data": {
            "text/plain": [
              "array([[ 4520,   143,   254,    68,    30,    57,   303,     9],\n",
              "       [   63,  9490,     8,     1,   194,    33,    89,     1],\n",
              "       [  392,   114,  2706,   138,     8,    29,    34,    23],\n",
              "       [   69,   167,  1071,   481,     4,    34,    44,     2],\n",
              "       [    2,  3538,    89,     2, 10801,     6,     4,     0],\n",
              "       [  101,   900,    74,    25,    62,  2097,   143,     4],\n",
              "       [  617,   448,    67,    12,    26,    49,  1679,     5],\n",
              "       [   34,    24,   754,     2,     4,    33,    20,   244]])"
            ]
          },
          "metadata": {},
          "execution_count": 249
        }
      ]
    },
    {
      "cell_type": "code",
      "source": [
        "from sklearn.metrics import classification_report\n",
        "print(classification_report(y_test, result))"
      ],
      "metadata": {
        "colab": {
          "base_uri": "https://localhost:8080/"
        },
        "id": "GT8Ybn7s0h-c",
        "outputId": "5c840cd8-e1a2-4c39-d4e7-de017181b22d"
      },
      "execution_count": null,
      "outputs": [
        {
          "output_type": "stream",
          "name": "stdout",
          "text": [
            "              precision    recall  f1-score   support\n",
            "\n",
            "           0       0.60      0.74      0.66      5384\n",
            "           1       0.77      0.86      0.81      9879\n",
            "           2       0.38      0.50      0.43      3444\n",
            "           3       0.00      0.00      0.00      1872\n",
            "           4       0.82      0.90      0.86     14442\n",
            "           5       0.52      0.44      0.47      3406\n",
            "           6       0.53      0.30      0.38      2903\n",
            "           7       0.00      0.00      0.00      1115\n",
            "\n",
            "    accuracy                           0.69     42445\n",
            "   macro avg       0.45      0.47      0.45     42445\n",
            "weighted avg       0.64      0.69      0.66     42445\n",
            "\n"
          ]
        },
        {
          "output_type": "stream",
          "name": "stderr",
          "text": [
            "/usr/local/lib/python3.7/dist-packages/sklearn/metrics/_classification.py:1318: UndefinedMetricWarning: Precision and F-score are ill-defined and being set to 0.0 in labels with no predicted samples. Use `zero_division` parameter to control this behavior.\n",
            "  _warn_prf(average, modifier, msg_start, len(result))\n",
            "/usr/local/lib/python3.7/dist-packages/sklearn/metrics/_classification.py:1318: UndefinedMetricWarning: Precision and F-score are ill-defined and being set to 0.0 in labels with no predicted samples. Use `zero_division` parameter to control this behavior.\n",
            "  _warn_prf(average, modifier, msg_start, len(result))\n",
            "/usr/local/lib/python3.7/dist-packages/sklearn/metrics/_classification.py:1318: UndefinedMetricWarning: Precision and F-score are ill-defined and being set to 0.0 in labels with no predicted samples. Use `zero_division` parameter to control this behavior.\n",
            "  _warn_prf(average, modifier, msg_start, len(result))\n"
          ]
        }
      ]
    },
    {
      "cell_type": "markdown",
      "source": [
        "## Clean VPN traffic"
      ],
      "metadata": {
        "id": "DjERM4qe7gwb"
      }
    },
    {
      "cell_type": "code",
      "source": [
        "darkFeature = myVPN.filter(['Total Fwd Packet','Idle Max','Fwd Seg Size Min','Bwd Packet Length Min','Protocol','Idle Mean','Fwd Init Win Bytes','FIN Flag Count','Fwd Act Data Pkts'],axis=1)"
      ],
      "metadata": {
        "id": "OdriTRtV0iBr"
      },
      "execution_count": null,
      "outputs": []
    },
    {
      "cell_type": "code",
      "source": [
        "darkTarget=myVPN.filter(['Label.1'], axis=1)"
      ],
      "metadata": {
        "id": "enXhddB30iFH"
      },
      "execution_count": null,
      "outputs": []
    },
    {
      "cell_type": "code",
      "source": [
        "darkTarget=darkTarget.replace('AUDIO-STREAMING', 0)\n",
        "darkTarget=darkTarget.replace('Audio-Streaming', 0)\n",
        "darkTarget=darkTarget.replace('Browsing', 1)\n",
        "darkTarget=darkTarget.replace('Chat', 2)\n",
        "darkTarget=darkTarget.replace('Email',3)\n",
        "darkTarget=darkTarget.replace('P2P',4)\n",
        "darkTarget=darkTarget.replace('File-Transfer', 5)\n",
        "darkTarget=darkTarget.replace('File-transfer', 5)\n",
        "darkTarget=darkTarget.replace('Video-Streaming', 6)\n",
        "darkTarget=darkTarget.replace('Video-streaming', 6)\n",
        "darkTarget=darkTarget.replace('VOIP', 7)"
      ],
      "metadata": {
        "id": "J2NyuAJ60iJC"
      },
      "execution_count": null,
      "outputs": []
    },
    {
      "cell_type": "code",
      "source": [
        "darkTarget"
      ],
      "metadata": {
        "colab": {
          "base_uri": "https://localhost:8080/",
          "height": 419
        },
        "id": "04REX31W0iM6",
        "outputId": "1d5ffb6b-a390-4753-dc78-2893456208e9"
      },
      "execution_count": null,
      "outputs": [
        {
          "output_type": "execute_result",
          "data": {
            "text/plain": [
              "        Label.1\n",
              "118611        5\n",
              "118612        5\n",
              "118613        5\n",
              "118614        5\n",
              "118615        5\n",
              "...         ...\n",
              "141525        7\n",
              "141526        7\n",
              "141527        7\n",
              "141528        7\n",
              "141529        7\n",
              "\n",
              "[22919 rows x 1 columns]"
            ],
            "text/html": [
              "\n",
              "  <div id=\"df-a453c252-40b5-41b9-9d47-4a07419bdd0a\">\n",
              "    <div class=\"colab-df-container\">\n",
              "      <div>\n",
              "<style scoped>\n",
              "    .dataframe tbody tr th:only-of-type {\n",
              "        vertical-align: middle;\n",
              "    }\n",
              "\n",
              "    .dataframe tbody tr th {\n",
              "        vertical-align: top;\n",
              "    }\n",
              "\n",
              "    .dataframe thead th {\n",
              "        text-align: right;\n",
              "    }\n",
              "</style>\n",
              "<table border=\"1\" class=\"dataframe\">\n",
              "  <thead>\n",
              "    <tr style=\"text-align: right;\">\n",
              "      <th></th>\n",
              "      <th>Label.1</th>\n",
              "    </tr>\n",
              "  </thead>\n",
              "  <tbody>\n",
              "    <tr>\n",
              "      <th>118611</th>\n",
              "      <td>5</td>\n",
              "    </tr>\n",
              "    <tr>\n",
              "      <th>118612</th>\n",
              "      <td>5</td>\n",
              "    </tr>\n",
              "    <tr>\n",
              "      <th>118613</th>\n",
              "      <td>5</td>\n",
              "    </tr>\n",
              "    <tr>\n",
              "      <th>118614</th>\n",
              "      <td>5</td>\n",
              "    </tr>\n",
              "    <tr>\n",
              "      <th>118615</th>\n",
              "      <td>5</td>\n",
              "    </tr>\n",
              "    <tr>\n",
              "      <th>...</th>\n",
              "      <td>...</td>\n",
              "    </tr>\n",
              "    <tr>\n",
              "      <th>141525</th>\n",
              "      <td>7</td>\n",
              "    </tr>\n",
              "    <tr>\n",
              "      <th>141526</th>\n",
              "      <td>7</td>\n",
              "    </tr>\n",
              "    <tr>\n",
              "      <th>141527</th>\n",
              "      <td>7</td>\n",
              "    </tr>\n",
              "    <tr>\n",
              "      <th>141528</th>\n",
              "      <td>7</td>\n",
              "    </tr>\n",
              "    <tr>\n",
              "      <th>141529</th>\n",
              "      <td>7</td>\n",
              "    </tr>\n",
              "  </tbody>\n",
              "</table>\n",
              "<p>22919 rows × 1 columns</p>\n",
              "</div>\n",
              "      <button class=\"colab-df-convert\" onclick=\"convertToInteractive('df-a453c252-40b5-41b9-9d47-4a07419bdd0a')\"\n",
              "              title=\"Convert this dataframe to an interactive table.\"\n",
              "              style=\"display:none;\">\n",
              "        \n",
              "  <svg xmlns=\"http://www.w3.org/2000/svg\" height=\"24px\"viewBox=\"0 0 24 24\"\n",
              "       width=\"24px\">\n",
              "    <path d=\"M0 0h24v24H0V0z\" fill=\"none\"/>\n",
              "    <path d=\"M18.56 5.44l.94 2.06.94-2.06 2.06-.94-2.06-.94-.94-2.06-.94 2.06-2.06.94zm-11 1L8.5 8.5l.94-2.06 2.06-.94-2.06-.94L8.5 2.5l-.94 2.06-2.06.94zm10 10l.94 2.06.94-2.06 2.06-.94-2.06-.94-.94-2.06-.94 2.06-2.06.94z\"/><path d=\"M17.41 7.96l-1.37-1.37c-.4-.4-.92-.59-1.43-.59-.52 0-1.04.2-1.43.59L10.3 9.45l-7.72 7.72c-.78.78-.78 2.05 0 2.83L4 21.41c.39.39.9.59 1.41.59.51 0 1.02-.2 1.41-.59l7.78-7.78 2.81-2.81c.8-.78.8-2.07 0-2.86zM5.41 20L4 18.59l7.72-7.72 1.47 1.35L5.41 20z\"/>\n",
              "  </svg>\n",
              "      </button>\n",
              "      \n",
              "  <style>\n",
              "    .colab-df-container {\n",
              "      display:flex;\n",
              "      flex-wrap:wrap;\n",
              "      gap: 12px;\n",
              "    }\n",
              "\n",
              "    .colab-df-convert {\n",
              "      background-color: #E8F0FE;\n",
              "      border: none;\n",
              "      border-radius: 50%;\n",
              "      cursor: pointer;\n",
              "      display: none;\n",
              "      fill: #1967D2;\n",
              "      height: 32px;\n",
              "      padding: 0 0 0 0;\n",
              "      width: 32px;\n",
              "    }\n",
              "\n",
              "    .colab-df-convert:hover {\n",
              "      background-color: #E2EBFA;\n",
              "      box-shadow: 0px 1px 2px rgba(60, 64, 67, 0.3), 0px 1px 3px 1px rgba(60, 64, 67, 0.15);\n",
              "      fill: #174EA6;\n",
              "    }\n",
              "\n",
              "    [theme=dark] .colab-df-convert {\n",
              "      background-color: #3B4455;\n",
              "      fill: #D2E3FC;\n",
              "    }\n",
              "\n",
              "    [theme=dark] .colab-df-convert:hover {\n",
              "      background-color: #434B5C;\n",
              "      box-shadow: 0px 1px 3px 1px rgba(0, 0, 0, 0.15);\n",
              "      filter: drop-shadow(0px 1px 2px rgba(0, 0, 0, 0.3));\n",
              "      fill: #FFFFFF;\n",
              "    }\n",
              "  </style>\n",
              "\n",
              "      <script>\n",
              "        const buttonEl =\n",
              "          document.querySelector('#df-a453c252-40b5-41b9-9d47-4a07419bdd0a button.colab-df-convert');\n",
              "        buttonEl.style.display =\n",
              "          google.colab.kernel.accessAllowed ? 'block' : 'none';\n",
              "\n",
              "        async function convertToInteractive(key) {\n",
              "          const element = document.querySelector('#df-a453c252-40b5-41b9-9d47-4a07419bdd0a');\n",
              "          const dataTable =\n",
              "            await google.colab.kernel.invokeFunction('convertToInteractive',\n",
              "                                                     [key], {});\n",
              "          if (!dataTable) return;\n",
              "\n",
              "          const docLinkHtml = 'Like what you see? Visit the ' +\n",
              "            '<a target=\"_blank\" href=https://colab.research.google.com/notebooks/data_table.ipynb>data table notebook</a>'\n",
              "            + ' to learn more about interactive tables.';\n",
              "          element.innerHTML = '';\n",
              "          dataTable['output_type'] = 'display_data';\n",
              "          await google.colab.output.renderOutput(dataTable, element);\n",
              "          const docLink = document.createElement('div');\n",
              "          docLink.innerHTML = docLinkHtml;\n",
              "          element.appendChild(docLink);\n",
              "        }\n",
              "      </script>\n",
              "    </div>\n",
              "  </div>\n",
              "  "
            ]
          },
          "metadata": {},
          "execution_count": 291
        }
      ]
    },
    {
      "cell_type": "markdown",
      "source": [
        "## KNN characterize VPN traffic"
      ],
      "metadata": {
        "id": "5Bz4rWX27kRz"
      }
    },
    {
      "cell_type": "code",
      "source": [
        "X = darkFeature\n",
        "y = darkTarget\n",
        "# Split into training and test set\n",
        "X_train, X_test, y_train, y_test = train_test_split(X, y, test_size = 0.2, random_state=42)\n",
        "print(\"Train Size: \", len(y_train))\n",
        "print(\"Test Size: \", len(y_test))"
      ],
      "metadata": {
        "colab": {
          "base_uri": "https://localhost:8080/"
        },
        "id": "UY1U2vfD0iQY",
        "outputId": "3a03f1cd-6f4b-4a73-a7dd-5cf56d3a9c90"
      },
      "execution_count": null,
      "outputs": [
        {
          "output_type": "stream",
          "name": "stdout",
          "text": [
            "Train Size:  18335\n",
            "Test Size:  4584\n"
          ]
        }
      ]
    },
    {
      "cell_type": "code",
      "source": [
        "k_model = KNeighborsClassifier(n_neighbors=5)\n",
        "k_model.fit(X_train, y_train)\n",
        "\n",
        "# test model using test dataset\n",
        "result=k_model.predict(X_test)\n",
        "#np.set_printoptions(threshold=sys.maxsize)\n",
        "#print(irisData)\n",
        "print(result)"
      ],
      "metadata": {
        "colab": {
          "base_uri": "https://localhost:8080/"
        },
        "id": "o5ep1sfO0iVm",
        "outputId": "723b4658-9472-4f4b-fb1f-e6dcdfa924ec"
      },
      "execution_count": null,
      "outputs": [
        {
          "output_type": "stream",
          "name": "stderr",
          "text": [
            "/usr/local/lib/python3.7/dist-packages/sklearn/neighbors/_classification.py:198: DataConversionWarning: A column-vector y was passed when a 1d array was expected. Please change the shape of y to (n_samples,), for example using ravel().\n",
            "  return self._fit(X, y)\n"
          ]
        },
        {
          "output_type": "stream",
          "name": "stdout",
          "text": [
            "[0 5 0 ... 5 0 0]\n"
          ]
        }
      ]
    },
    {
      "cell_type": "code",
      "source": [
        "y_test2=y_test.to_numpy()\n",
        "comp=pd.DataFrame({'True': y_test2.flatten(), 'Predicted': result})\n",
        "comp"
      ],
      "metadata": {
        "colab": {
          "base_uri": "https://localhost:8080/",
          "height": 419
        },
        "id": "UX45-ELU0iZB",
        "outputId": "bf735ec3-ce00-4e1e-8f1b-23b7b5ccfb4e"
      },
      "execution_count": null,
      "outputs": [
        {
          "output_type": "execute_result",
          "data": {
            "text/plain": [
              "      True  Predicted\n",
              "0        0          0\n",
              "1        5          5\n",
              "2        0          0\n",
              "3        2          0\n",
              "4        2          2\n",
              "...    ...        ...\n",
              "4579     5          5\n",
              "4580     0          0\n",
              "4581     5          5\n",
              "4582     0          0\n",
              "4583     0          0\n",
              "\n",
              "[4584 rows x 2 columns]"
            ],
            "text/html": [
              "\n",
              "  <div id=\"df-00d7c93d-3fb6-4a58-96f1-13b8b0014048\">\n",
              "    <div class=\"colab-df-container\">\n",
              "      <div>\n",
              "<style scoped>\n",
              "    .dataframe tbody tr th:only-of-type {\n",
              "        vertical-align: middle;\n",
              "    }\n",
              "\n",
              "    .dataframe tbody tr th {\n",
              "        vertical-align: top;\n",
              "    }\n",
              "\n",
              "    .dataframe thead th {\n",
              "        text-align: right;\n",
              "    }\n",
              "</style>\n",
              "<table border=\"1\" class=\"dataframe\">\n",
              "  <thead>\n",
              "    <tr style=\"text-align: right;\">\n",
              "      <th></th>\n",
              "      <th>True</th>\n",
              "      <th>Predicted</th>\n",
              "    </tr>\n",
              "  </thead>\n",
              "  <tbody>\n",
              "    <tr>\n",
              "      <th>0</th>\n",
              "      <td>0</td>\n",
              "      <td>0</td>\n",
              "    </tr>\n",
              "    <tr>\n",
              "      <th>1</th>\n",
              "      <td>5</td>\n",
              "      <td>5</td>\n",
              "    </tr>\n",
              "    <tr>\n",
              "      <th>2</th>\n",
              "      <td>0</td>\n",
              "      <td>0</td>\n",
              "    </tr>\n",
              "    <tr>\n",
              "      <th>3</th>\n",
              "      <td>2</td>\n",
              "      <td>0</td>\n",
              "    </tr>\n",
              "    <tr>\n",
              "      <th>4</th>\n",
              "      <td>2</td>\n",
              "      <td>2</td>\n",
              "    </tr>\n",
              "    <tr>\n",
              "      <th>...</th>\n",
              "      <td>...</td>\n",
              "      <td>...</td>\n",
              "    </tr>\n",
              "    <tr>\n",
              "      <th>4579</th>\n",
              "      <td>5</td>\n",
              "      <td>5</td>\n",
              "    </tr>\n",
              "    <tr>\n",
              "      <th>4580</th>\n",
              "      <td>0</td>\n",
              "      <td>0</td>\n",
              "    </tr>\n",
              "    <tr>\n",
              "      <th>4581</th>\n",
              "      <td>5</td>\n",
              "      <td>5</td>\n",
              "    </tr>\n",
              "    <tr>\n",
              "      <th>4582</th>\n",
              "      <td>0</td>\n",
              "      <td>0</td>\n",
              "    </tr>\n",
              "    <tr>\n",
              "      <th>4583</th>\n",
              "      <td>0</td>\n",
              "      <td>0</td>\n",
              "    </tr>\n",
              "  </tbody>\n",
              "</table>\n",
              "<p>4584 rows × 2 columns</p>\n",
              "</div>\n",
              "      <button class=\"colab-df-convert\" onclick=\"convertToInteractive('df-00d7c93d-3fb6-4a58-96f1-13b8b0014048')\"\n",
              "              title=\"Convert this dataframe to an interactive table.\"\n",
              "              style=\"display:none;\">\n",
              "        \n",
              "  <svg xmlns=\"http://www.w3.org/2000/svg\" height=\"24px\"viewBox=\"0 0 24 24\"\n",
              "       width=\"24px\">\n",
              "    <path d=\"M0 0h24v24H0V0z\" fill=\"none\"/>\n",
              "    <path d=\"M18.56 5.44l.94 2.06.94-2.06 2.06-.94-2.06-.94-.94-2.06-.94 2.06-2.06.94zm-11 1L8.5 8.5l.94-2.06 2.06-.94-2.06-.94L8.5 2.5l-.94 2.06-2.06.94zm10 10l.94 2.06.94-2.06 2.06-.94-2.06-.94-.94-2.06-.94 2.06-2.06.94z\"/><path d=\"M17.41 7.96l-1.37-1.37c-.4-.4-.92-.59-1.43-.59-.52 0-1.04.2-1.43.59L10.3 9.45l-7.72 7.72c-.78.78-.78 2.05 0 2.83L4 21.41c.39.39.9.59 1.41.59.51 0 1.02-.2 1.41-.59l7.78-7.78 2.81-2.81c.8-.78.8-2.07 0-2.86zM5.41 20L4 18.59l7.72-7.72 1.47 1.35L5.41 20z\"/>\n",
              "  </svg>\n",
              "      </button>\n",
              "      \n",
              "  <style>\n",
              "    .colab-df-container {\n",
              "      display:flex;\n",
              "      flex-wrap:wrap;\n",
              "      gap: 12px;\n",
              "    }\n",
              "\n",
              "    .colab-df-convert {\n",
              "      background-color: #E8F0FE;\n",
              "      border: none;\n",
              "      border-radius: 50%;\n",
              "      cursor: pointer;\n",
              "      display: none;\n",
              "      fill: #1967D2;\n",
              "      height: 32px;\n",
              "      padding: 0 0 0 0;\n",
              "      width: 32px;\n",
              "    }\n",
              "\n",
              "    .colab-df-convert:hover {\n",
              "      background-color: #E2EBFA;\n",
              "      box-shadow: 0px 1px 2px rgba(60, 64, 67, 0.3), 0px 1px 3px 1px rgba(60, 64, 67, 0.15);\n",
              "      fill: #174EA6;\n",
              "    }\n",
              "\n",
              "    [theme=dark] .colab-df-convert {\n",
              "      background-color: #3B4455;\n",
              "      fill: #D2E3FC;\n",
              "    }\n",
              "\n",
              "    [theme=dark] .colab-df-convert:hover {\n",
              "      background-color: #434B5C;\n",
              "      box-shadow: 0px 1px 3px 1px rgba(0, 0, 0, 0.15);\n",
              "      filter: drop-shadow(0px 1px 2px rgba(0, 0, 0, 0.3));\n",
              "      fill: #FFFFFF;\n",
              "    }\n",
              "  </style>\n",
              "\n",
              "      <script>\n",
              "        const buttonEl =\n",
              "          document.querySelector('#df-00d7c93d-3fb6-4a58-96f1-13b8b0014048 button.colab-df-convert');\n",
              "        buttonEl.style.display =\n",
              "          google.colab.kernel.accessAllowed ? 'block' : 'none';\n",
              "\n",
              "        async function convertToInteractive(key) {\n",
              "          const element = document.querySelector('#df-00d7c93d-3fb6-4a58-96f1-13b8b0014048');\n",
              "          const dataTable =\n",
              "            await google.colab.kernel.invokeFunction('convertToInteractive',\n",
              "                                                     [key], {});\n",
              "          if (!dataTable) return;\n",
              "\n",
              "          const docLinkHtml = 'Like what you see? Visit the ' +\n",
              "            '<a target=\"_blank\" href=https://colab.research.google.com/notebooks/data_table.ipynb>data table notebook</a>'\n",
              "            + ' to learn more about interactive tables.';\n",
              "          element.innerHTML = '';\n",
              "          dataTable['output_type'] = 'display_data';\n",
              "          await google.colab.output.renderOutput(dataTable, element);\n",
              "          const docLink = document.createElement('div');\n",
              "          docLink.innerHTML = docLinkHtml;\n",
              "          element.appendChild(docLink);\n",
              "        }\n",
              "      </script>\n",
              "    </div>\n",
              "  </div>\n",
              "  "
            ]
          },
          "metadata": {},
          "execution_count": 294
        }
      ]
    },
    {
      "cell_type": "code",
      "source": [
        "from sklearn.metrics import accuracy_score\n",
        "from sklearn import metrics\n",
        "print('Accuracy:', accuracy_score(result,y_test))\n",
        "print('Mean Squared Error:', metrics.mean_squared_error(y_test, result))\n",
        "print('Root Mean Squared Error:', np.sqrt(metrics.mean_squared_error(y_test, result)))"
      ],
      "metadata": {
        "colab": {
          "base_uri": "https://localhost:8080/"
        },
        "id": "kwlUWkRs5eh9",
        "outputId": "9c0f6fe2-3fee-42d5-ba1e-71a88c3c6b90"
      },
      "execution_count": null,
      "outputs": [
        {
          "output_type": "stream",
          "name": "stdout",
          "text": [
            "Accuracy: 0.8276614310645725\n",
            "Mean Squared Error: 2.0479930191972078\n",
            "Root Mean Squared Error: 1.431081066605665\n"
          ]
        }
      ]
    },
    {
      "cell_type": "code",
      "source": [
        "from sklearn.metrics import confusion_matrix\n",
        "cmtx = confusion_matrix(y_test, k_model.predict(X_test))\n",
        "cmtx"
      ],
      "metadata": {
        "colab": {
          "base_uri": "https://localhost:8080/"
        },
        "id": "c4Qk5mSR5skT",
        "outputId": "f6cdceb7-9fcb-4147-bc4c-1a9233500eb4"
      },
      "execution_count": null,
      "outputs": [
        {
          "output_type": "execute_result",
          "data": {
            "text/plain": [
              "array([[2425,   76,   35,   17,   13,    3],\n",
              "       [ 372,  556,    1,    4,    2,    1],\n",
              "       [  45,    4,   47,    0,    0,    1],\n",
              "       [ 113,   13,    1,  367,    2,   10],\n",
              "       [  58,    0,    0,    1,  159,    2],\n",
              "       [  11,    4,    0,    1,    0,  240]])"
            ]
          },
          "metadata": {},
          "execution_count": 296
        }
      ]
    },
    {
      "cell_type": "code",
      "source": [
        "from sklearn.metrics import classification_report\n",
        "print(classification_report(y_test, result))"
      ],
      "metadata": {
        "colab": {
          "base_uri": "https://localhost:8080/"
        },
        "id": "RiphcsXO5eqq",
        "outputId": "ade8357f-6d69-433d-a399-63dde1c91186"
      },
      "execution_count": null,
      "outputs": [
        {
          "output_type": "stream",
          "name": "stdout",
          "text": [
            "              precision    recall  f1-score   support\n",
            "\n",
            "           0       0.80      0.94      0.87      2569\n",
            "           2       0.85      0.59      0.70       936\n",
            "           3       0.56      0.48      0.52        97\n",
            "           5       0.94      0.73      0.82       506\n",
            "           6       0.90      0.72      0.80       220\n",
            "           7       0.93      0.94      0.94       256\n",
            "\n",
            "    accuracy                           0.83      4584\n",
            "   macro avg       0.83      0.73      0.77      4584\n",
            "weighted avg       0.83      0.83      0.82      4584\n",
            "\n"
          ]
        }
      ]
    },
    {
      "cell_type": "markdown",
      "source": [
        "## Random Forest characterize VPN traffic"
      ],
      "metadata": {
        "id": "sSD0prFm5_jS"
      }
    },
    {
      "cell_type": "code",
      "source": [
        "from sklearn.model_selection import train_test_split\n",
        "X = darkFeature\n",
        "y = darkTarget\n",
        "\n",
        "# Split into training and test set\n",
        "X_train, X_test, y_train, y_test = train_test_split(X, y, test_size = 0.2, random_state=42)\n",
        "\n",
        "print(\"Train Size: \", len(y_train))\n",
        "print(\"Test Size: \", len(y_test))"
      ],
      "metadata": {
        "colab": {
          "base_uri": "https://localhost:8080/"
        },
        "id": "BZWaNaXk5eyY",
        "outputId": "76c7818e-bd1e-4970-9cd3-b855d3448145"
      },
      "execution_count": null,
      "outputs": [
        {
          "output_type": "stream",
          "name": "stdout",
          "text": [
            "Train Size:  18335\n",
            "Test Size:  4584\n"
          ]
        }
      ]
    },
    {
      "cell_type": "code",
      "source": [
        "from sklearn.ensemble import RandomForestClassifier\n",
        "r_model = RandomForestClassifier(max_depth=5, random_state=42)\n",
        "r_model.fit(X_train, y_train)\n",
        "result=r_model.predict(X_test)"
      ],
      "metadata": {
        "colab": {
          "base_uri": "https://localhost:8080/"
        },
        "id": "Ahzt8wKt5e3C",
        "outputId": "75187c24-49f6-4539-9cd7-47994b383730"
      },
      "execution_count": null,
      "outputs": [
        {
          "output_type": "stream",
          "name": "stderr",
          "text": [
            "/usr/local/lib/python3.7/dist-packages/ipykernel_launcher.py:3: DataConversionWarning: A column-vector y was passed when a 1d array was expected. Please change the shape of y to (n_samples,), for example using ravel().\n",
            "  This is separate from the ipykernel package so we can avoid doing imports until\n"
          ]
        }
      ]
    },
    {
      "cell_type": "code",
      "source": [
        "y_test2=y_test.to_numpy()\n",
        "comp=pd.DataFrame({'True': y_test2.flatten(), 'Predicted': result})\n",
        "comp"
      ],
      "metadata": {
        "colab": {
          "base_uri": "https://localhost:8080/",
          "height": 419
        },
        "id": "vyooSQkR68-a",
        "outputId": "b240ec07-c092-4d43-d95d-347ac8fd2e19"
      },
      "execution_count": null,
      "outputs": [
        {
          "output_type": "execute_result",
          "data": {
            "text/plain": [
              "      True  Predicted\n",
              "0        0          0\n",
              "1        5          5\n",
              "2        0          0\n",
              "3        2          0\n",
              "4        2          0\n",
              "...    ...        ...\n",
              "4579     5          0\n",
              "4580     0          0\n",
              "4581     5          0\n",
              "4582     0          0\n",
              "4583     0          0\n",
              "\n",
              "[4584 rows x 2 columns]"
            ],
            "text/html": [
              "\n",
              "  <div id=\"df-0aa610fc-d16c-4469-9387-a7e300bb129f\">\n",
              "    <div class=\"colab-df-container\">\n",
              "      <div>\n",
              "<style scoped>\n",
              "    .dataframe tbody tr th:only-of-type {\n",
              "        vertical-align: middle;\n",
              "    }\n",
              "\n",
              "    .dataframe tbody tr th {\n",
              "        vertical-align: top;\n",
              "    }\n",
              "\n",
              "    .dataframe thead th {\n",
              "        text-align: right;\n",
              "    }\n",
              "</style>\n",
              "<table border=\"1\" class=\"dataframe\">\n",
              "  <thead>\n",
              "    <tr style=\"text-align: right;\">\n",
              "      <th></th>\n",
              "      <th>True</th>\n",
              "      <th>Predicted</th>\n",
              "    </tr>\n",
              "  </thead>\n",
              "  <tbody>\n",
              "    <tr>\n",
              "      <th>0</th>\n",
              "      <td>0</td>\n",
              "      <td>0</td>\n",
              "    </tr>\n",
              "    <tr>\n",
              "      <th>1</th>\n",
              "      <td>5</td>\n",
              "      <td>5</td>\n",
              "    </tr>\n",
              "    <tr>\n",
              "      <th>2</th>\n",
              "      <td>0</td>\n",
              "      <td>0</td>\n",
              "    </tr>\n",
              "    <tr>\n",
              "      <th>3</th>\n",
              "      <td>2</td>\n",
              "      <td>0</td>\n",
              "    </tr>\n",
              "    <tr>\n",
              "      <th>4</th>\n",
              "      <td>2</td>\n",
              "      <td>0</td>\n",
              "    </tr>\n",
              "    <tr>\n",
              "      <th>...</th>\n",
              "      <td>...</td>\n",
              "      <td>...</td>\n",
              "    </tr>\n",
              "    <tr>\n",
              "      <th>4579</th>\n",
              "      <td>5</td>\n",
              "      <td>0</td>\n",
              "    </tr>\n",
              "    <tr>\n",
              "      <th>4580</th>\n",
              "      <td>0</td>\n",
              "      <td>0</td>\n",
              "    </tr>\n",
              "    <tr>\n",
              "      <th>4581</th>\n",
              "      <td>5</td>\n",
              "      <td>0</td>\n",
              "    </tr>\n",
              "    <tr>\n",
              "      <th>4582</th>\n",
              "      <td>0</td>\n",
              "      <td>0</td>\n",
              "    </tr>\n",
              "    <tr>\n",
              "      <th>4583</th>\n",
              "      <td>0</td>\n",
              "      <td>0</td>\n",
              "    </tr>\n",
              "  </tbody>\n",
              "</table>\n",
              "<p>4584 rows × 2 columns</p>\n",
              "</div>\n",
              "      <button class=\"colab-df-convert\" onclick=\"convertToInteractive('df-0aa610fc-d16c-4469-9387-a7e300bb129f')\"\n",
              "              title=\"Convert this dataframe to an interactive table.\"\n",
              "              style=\"display:none;\">\n",
              "        \n",
              "  <svg xmlns=\"http://www.w3.org/2000/svg\" height=\"24px\"viewBox=\"0 0 24 24\"\n",
              "       width=\"24px\">\n",
              "    <path d=\"M0 0h24v24H0V0z\" fill=\"none\"/>\n",
              "    <path d=\"M18.56 5.44l.94 2.06.94-2.06 2.06-.94-2.06-.94-.94-2.06-.94 2.06-2.06.94zm-11 1L8.5 8.5l.94-2.06 2.06-.94-2.06-.94L8.5 2.5l-.94 2.06-2.06.94zm10 10l.94 2.06.94-2.06 2.06-.94-2.06-.94-.94-2.06-.94 2.06-2.06.94z\"/><path d=\"M17.41 7.96l-1.37-1.37c-.4-.4-.92-.59-1.43-.59-.52 0-1.04.2-1.43.59L10.3 9.45l-7.72 7.72c-.78.78-.78 2.05 0 2.83L4 21.41c.39.39.9.59 1.41.59.51 0 1.02-.2 1.41-.59l7.78-7.78 2.81-2.81c.8-.78.8-2.07 0-2.86zM5.41 20L4 18.59l7.72-7.72 1.47 1.35L5.41 20z\"/>\n",
              "  </svg>\n",
              "      </button>\n",
              "      \n",
              "  <style>\n",
              "    .colab-df-container {\n",
              "      display:flex;\n",
              "      flex-wrap:wrap;\n",
              "      gap: 12px;\n",
              "    }\n",
              "\n",
              "    .colab-df-convert {\n",
              "      background-color: #E8F0FE;\n",
              "      border: none;\n",
              "      border-radius: 50%;\n",
              "      cursor: pointer;\n",
              "      display: none;\n",
              "      fill: #1967D2;\n",
              "      height: 32px;\n",
              "      padding: 0 0 0 0;\n",
              "      width: 32px;\n",
              "    }\n",
              "\n",
              "    .colab-df-convert:hover {\n",
              "      background-color: #E2EBFA;\n",
              "      box-shadow: 0px 1px 2px rgba(60, 64, 67, 0.3), 0px 1px 3px 1px rgba(60, 64, 67, 0.15);\n",
              "      fill: #174EA6;\n",
              "    }\n",
              "\n",
              "    [theme=dark] .colab-df-convert {\n",
              "      background-color: #3B4455;\n",
              "      fill: #D2E3FC;\n",
              "    }\n",
              "\n",
              "    [theme=dark] .colab-df-convert:hover {\n",
              "      background-color: #434B5C;\n",
              "      box-shadow: 0px 1px 3px 1px rgba(0, 0, 0, 0.15);\n",
              "      filter: drop-shadow(0px 1px 2px rgba(0, 0, 0, 0.3));\n",
              "      fill: #FFFFFF;\n",
              "    }\n",
              "  </style>\n",
              "\n",
              "      <script>\n",
              "        const buttonEl =\n",
              "          document.querySelector('#df-0aa610fc-d16c-4469-9387-a7e300bb129f button.colab-df-convert');\n",
              "        buttonEl.style.display =\n",
              "          google.colab.kernel.accessAllowed ? 'block' : 'none';\n",
              "\n",
              "        async function convertToInteractive(key) {\n",
              "          const element = document.querySelector('#df-0aa610fc-d16c-4469-9387-a7e300bb129f');\n",
              "          const dataTable =\n",
              "            await google.colab.kernel.invokeFunction('convertToInteractive',\n",
              "                                                     [key], {});\n",
              "          if (!dataTable) return;\n",
              "\n",
              "          const docLinkHtml = 'Like what you see? Visit the ' +\n",
              "            '<a target=\"_blank\" href=https://colab.research.google.com/notebooks/data_table.ipynb>data table notebook</a>'\n",
              "            + ' to learn more about interactive tables.';\n",
              "          element.innerHTML = '';\n",
              "          dataTable['output_type'] = 'display_data';\n",
              "          await google.colab.output.renderOutput(dataTable, element);\n",
              "          const docLink = document.createElement('div');\n",
              "          docLink.innerHTML = docLinkHtml;\n",
              "          element.appendChild(docLink);\n",
              "        }\n",
              "      </script>\n",
              "    </div>\n",
              "  </div>\n",
              "  "
            ]
          },
          "metadata": {},
          "execution_count": 300
        }
      ]
    },
    {
      "cell_type": "code",
      "source": [
        "from sklearn.metrics import accuracy_score\n",
        "from sklearn import metrics\n",
        "print('Accuracy:', accuracy_score(result,y_test))\n",
        "print('Mean Squared Error:', metrics.mean_squared_error(y_test, result))\n",
        "print('Root Mean Squared Error:', np.sqrt(metrics.mean_squared_error(y_test, result)))"
      ],
      "metadata": {
        "colab": {
          "base_uri": "https://localhost:8080/"
        },
        "id": "9MnGJQZ37BwP",
        "outputId": "23724d3a-bfcf-4dfe-9dc3-a8e22a7a021e"
      },
      "execution_count": null,
      "outputs": [
        {
          "output_type": "stream",
          "name": "stdout",
          "text": [
            "Accuracy: 0.7020069808027923\n",
            "Mean Squared Error: 3.8789267015706805\n",
            "Root Mean Squared Error: 1.9694990991545744\n"
          ]
        }
      ]
    },
    {
      "cell_type": "code",
      "source": [
        "from sklearn.metrics import confusion_matrix\n",
        "cmtx = confusion_matrix(y_test, k_model.predict(X_test))\n",
        "cmtx"
      ],
      "metadata": {
        "colab": {
          "base_uri": "https://localhost:8080/"
        },
        "id": "z9iVI1Tn7B6c",
        "outputId": "a5e0c273-8c91-4024-a674-0a042ee5208a"
      },
      "execution_count": null,
      "outputs": [
        {
          "output_type": "execute_result",
          "data": {
            "text/plain": [
              "array([[2425,   76,   35,   17,   13,    3],\n",
              "       [ 372,  556,    1,    4,    2,    1],\n",
              "       [  45,    4,   47,    0,    0,    1],\n",
              "       [ 113,   13,    1,  367,    2,   10],\n",
              "       [  58,    0,    0,    1,  159,    2],\n",
              "       [  11,    4,    0,    1,    0,  240]])"
            ]
          },
          "metadata": {},
          "execution_count": 302
        }
      ]
    },
    {
      "cell_type": "code",
      "source": [
        "from sklearn.metrics import classification_report\n",
        "print(classification_report(y_test, result))"
      ],
      "metadata": {
        "colab": {
          "base_uri": "https://localhost:8080/"
        },
        "id": "NoBqBZXW7CDC",
        "outputId": "f2c0f988-0f05-48a8-abfa-0959cf2d7e87"
      },
      "execution_count": null,
      "outputs": [
        {
          "output_type": "stream",
          "name": "stdout",
          "text": [
            "              precision    recall  f1-score   support\n",
            "\n",
            "           0       0.66      0.99      0.79      2569\n",
            "           2       0.94      0.10      0.18       936\n",
            "           3       1.00      0.29      0.45        97\n",
            "           5       1.00      0.43      0.60       506\n",
            "           6       0.93      0.61      0.74       220\n",
            "           7       0.94      0.76      0.84       256\n",
            "\n",
            "    accuracy                           0.70      4584\n",
            "   macro avg       0.91      0.53      0.60      4584\n",
            "weighted avg       0.79      0.70      0.64      4584\n",
            "\n"
          ]
        }
      ]
    },
    {
      "cell_type": "code",
      "source": [
        "'''newDarknet.loc[0,\"Src IP\"]\n",
        "newDarknet[\"Src IP\"]=newDarknet[\"Src IP\"].str.replace('.','')\n",
        "newDarknet[\"Src IP\"]=newDarknet[\"Src IP\"].astype(str).astype(int)\n",
        "newDarknet[\"Dst IP\"]=newDarknet[\"Dst IP\"].str.replace('.','')\n",
        "newDarknet[\"Dst IP\"]=newDarknet[\"Dst IP\"].astype(str).astype(int)'''"
      ],
      "metadata": {
        "id": "AgcI8Fud0icz"
      },
      "execution_count": null,
      "outputs": []
    },
    {
      "cell_type": "code",
      "source": [],
      "metadata": {
        "id": "yF7cQvN25_cz"
      },
      "execution_count": null,
      "outputs": []
    },
    {
      "cell_type": "code",
      "source": [],
      "metadata": {
        "id": "HTYY5F7b5_m5"
      },
      "execution_count": null,
      "outputs": []
    },
    {
      "cell_type": "code",
      "source": [],
      "metadata": {
        "id": "3owow4Wx5_pi"
      },
      "execution_count": null,
      "outputs": []
    },
    {
      "cell_type": "markdown",
      "source": [
        "Extract non time based features"
      ],
      "metadata": {
        "id": "--SvGRfH5_0k"
      }
    },
    {
      "cell_type": "code",
      "source": [],
      "metadata": {
        "id": "8yC0b1tK6BUv"
      },
      "execution_count": null,
      "outputs": []
    },
    {
      "cell_type": "code",
      "source": [],
      "metadata": {
        "id": "Aj_FnY126BXU"
      },
      "execution_count": null,
      "outputs": []
    },
    {
      "cell_type": "code",
      "source": [],
      "metadata": {
        "id": "6BsNl3yr6BaD"
      },
      "execution_count": null,
      "outputs": []
    }
  ]
}